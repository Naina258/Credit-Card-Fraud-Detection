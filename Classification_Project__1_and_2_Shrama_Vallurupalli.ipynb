{
 "cells": [
  {
   "cell_type": "markdown",
   "metadata": {
    "id": "ECrOmHVoovo1"
   },
   "source": [
    "#This is Project 1"
   ]
  },
  {
   "cell_type": "markdown",
   "metadata": {
    "id": "gSK4IlmpsL1D"
   },
   "source": [
    "## Importing the required Modules"
   ]
  },
  {
   "cell_type": "code",
   "execution_count": 1,
   "metadata": {
    "id": "W9cuUaPscl8O"
   },
   "outputs": [],
   "source": [
    "\n",
    "import numpy as np\n",
    "import pandas as pd\n",
    "import matplotlib.pyplot as plt\n",
    "import seaborn as sns\n",
    "import scipy\n",
    "import sklearn\n",
    "import os \n",
    "import graphviz\n",
    "from sklearn.model_selection import train_test_split\n",
    "from pandas.plotting import scatter_matrix\n",
    "from sklearn.preprocessing import MinMaxScaler\n",
    "from sklearn.metrics import accuracy_score\n",
    "from sklearn.model_selection import GridSearchCV\n",
    "from sklearn.neighbors import KNeighborsClassifier\n",
    "from sklearn.linear_model import LogisticRegression\n",
    "from sklearn.preprocessing import StandardScaler\n",
    "from mlxtend.plotting import plot_decision_regions\n",
    "from sklearn.svm import LinearSVC\n",
    "from sklearn.metrics import confusion_matrix,classification_report\n",
    "from sklearn.tree import DecisionTreeClassifier\n",
    "import tensorflow\n",
    "import keras"
   ]
  },
  {
   "cell_type": "code",
   "execution_count": 2,
   "metadata": {
    "id": "FMxyX7w4cnc2"
   },
   "outputs": [],
   "source": [
    "#Loading the classification data- If user wants to upload they can , other wise we can manually upload and work too\n",
    "#from google.colab import files\n",
    "#uploaded = files.upload()"
   ]
  },
  {
   "cell_type": "code",
   "execution_count": 3,
   "metadata": {
    "colab": {
     "base_uri": "https://localhost:8080/",
     "height": 278
    },
    "id": "ESvfPm-geBWZ",
    "outputId": "a77e73c0-e7ff-4fb4-bffa-c046fc73ea77"
   },
   "outputs": [
    {
     "data": {
      "text/html": [
       "<div>\n",
       "<style scoped>\n",
       "    .dataframe tbody tr th:only-of-type {\n",
       "        vertical-align: middle;\n",
       "    }\n",
       "\n",
       "    .dataframe tbody tr th {\n",
       "        vertical-align: top;\n",
       "    }\n",
       "\n",
       "    .dataframe thead th {\n",
       "        text-align: right;\n",
       "    }\n",
       "</style>\n",
       "<table border=\"1\" class=\"dataframe\">\n",
       "  <thead>\n",
       "    <tr style=\"text-align: right;\">\n",
       "      <th></th>\n",
       "      <th>ID</th>\n",
       "      <th>CODE_GENDER</th>\n",
       "      <th>FLAG_OWN_CAR</th>\n",
       "      <th>FLAG_OWN_REALTY</th>\n",
       "      <th>CNT_CHILDREN</th>\n",
       "      <th>AMT_INCOME_TOTAL</th>\n",
       "      <th>NAME_INCOME_TYPE</th>\n",
       "      <th>NAME_EDUCATION_TYPE</th>\n",
       "      <th>NAME_FAMILY_STATUS</th>\n",
       "      <th>NAME_HOUSING_TYPE</th>\n",
       "      <th>DAYS_BIRTH</th>\n",
       "      <th>DAYS_EMPLOYED</th>\n",
       "      <th>FLAG_MOBIL</th>\n",
       "      <th>FLAG_WORK_PHONE</th>\n",
       "      <th>FLAG_PHONE</th>\n",
       "      <th>FLAG_EMAIL</th>\n",
       "      <th>OCCUPATION_TYPE</th>\n",
       "      <th>CNT_FAM_MEMBERS</th>\n",
       "    </tr>\n",
       "  </thead>\n",
       "  <tbody>\n",
       "    <tr>\n",
       "      <th>0</th>\n",
       "      <td>5008804</td>\n",
       "      <td>M</td>\n",
       "      <td>Y</td>\n",
       "      <td>Y</td>\n",
       "      <td>0.0</td>\n",
       "      <td>427500.0</td>\n",
       "      <td>Working</td>\n",
       "      <td>Higher education</td>\n",
       "      <td>Civil marriage</td>\n",
       "      <td>Rented apartment</td>\n",
       "      <td>-12005.0</td>\n",
       "      <td>-4542.0</td>\n",
       "      <td>1.0</td>\n",
       "      <td>1.0</td>\n",
       "      <td>0.0</td>\n",
       "      <td>0.0</td>\n",
       "      <td>NaN</td>\n",
       "      <td>2</td>\n",
       "    </tr>\n",
       "    <tr>\n",
       "      <th>1</th>\n",
       "      <td>5008805</td>\n",
       "      <td>M</td>\n",
       "      <td>Y</td>\n",
       "      <td>Y</td>\n",
       "      <td>0.0</td>\n",
       "      <td>427500.0</td>\n",
       "      <td>Working</td>\n",
       "      <td>Higher education</td>\n",
       "      <td>Civil marriage</td>\n",
       "      <td>Rented apartment</td>\n",
       "      <td>-12005.0</td>\n",
       "      <td>-4542.0</td>\n",
       "      <td>1.0</td>\n",
       "      <td>1.0</td>\n",
       "      <td>0.0</td>\n",
       "      <td>0.0</td>\n",
       "      <td>NaN</td>\n",
       "      <td>2</td>\n",
       "    </tr>\n",
       "    <tr>\n",
       "      <th>2</th>\n",
       "      <td>5008806</td>\n",
       "      <td>M</td>\n",
       "      <td>Y</td>\n",
       "      <td>Y</td>\n",
       "      <td>0.0</td>\n",
       "      <td>112500.0</td>\n",
       "      <td>Working</td>\n",
       "      <td>Secondary / secondary special</td>\n",
       "      <td>Married</td>\n",
       "      <td>House / apartment</td>\n",
       "      <td>-21474.0</td>\n",
       "      <td>-1134.0</td>\n",
       "      <td>1.0</td>\n",
       "      <td>0.0</td>\n",
       "      <td>0.0</td>\n",
       "      <td>0.0</td>\n",
       "      <td>Security staff</td>\n",
       "      <td>2</td>\n",
       "    </tr>\n",
       "    <tr>\n",
       "      <th>3</th>\n",
       "      <td>5008808</td>\n",
       "      <td>F</td>\n",
       "      <td>N</td>\n",
       "      <td>Y</td>\n",
       "      <td>0.0</td>\n",
       "      <td>270000.0</td>\n",
       "      <td>Commercial associate</td>\n",
       "      <td>Secondary / secondary special</td>\n",
       "      <td>Single / not married</td>\n",
       "      <td>House / apartment</td>\n",
       "      <td>-19110.0</td>\n",
       "      <td>-3051.0</td>\n",
       "      <td>1.0</td>\n",
       "      <td>0.0</td>\n",
       "      <td>1.0</td>\n",
       "      <td>1.0</td>\n",
       "      <td>Sales staff</td>\n",
       "      <td>1</td>\n",
       "    </tr>\n",
       "    <tr>\n",
       "      <th>4</th>\n",
       "      <td>5008809</td>\n",
       "      <td>F</td>\n",
       "      <td>N</td>\n",
       "      <td>Y</td>\n",
       "      <td>0.0</td>\n",
       "      <td>270000.0</td>\n",
       "      <td>Commercial associate</td>\n",
       "      <td>Secondary / secondary special</td>\n",
       "      <td>Single / not married</td>\n",
       "      <td>House / apartment</td>\n",
       "      <td>-19110.0</td>\n",
       "      <td>-3051.0</td>\n",
       "      <td>1.0</td>\n",
       "      <td>0.0</td>\n",
       "      <td>1.0</td>\n",
       "      <td>1.0</td>\n",
       "      <td>Sales staff</td>\n",
       "      <td>1</td>\n",
       "    </tr>\n",
       "  </tbody>\n",
       "</table>\n",
       "</div>"
      ],
      "text/plain": [
       "        ID CODE_GENDER FLAG_OWN_CAR FLAG_OWN_REALTY  CNT_CHILDREN  \\\n",
       "0  5008804           M            Y               Y           0.0   \n",
       "1  5008805           M            Y               Y           0.0   \n",
       "2  5008806           M            Y               Y           0.0   \n",
       "3  5008808           F            N               Y           0.0   \n",
       "4  5008809           F            N               Y           0.0   \n",
       "\n",
       "   AMT_INCOME_TOTAL      NAME_INCOME_TYPE            NAME_EDUCATION_TYPE  \\\n",
       "0          427500.0               Working               Higher education   \n",
       "1          427500.0               Working               Higher education   \n",
       "2          112500.0               Working  Secondary / secondary special   \n",
       "3          270000.0  Commercial associate  Secondary / secondary special   \n",
       "4          270000.0  Commercial associate  Secondary / secondary special   \n",
       "\n",
       "     NAME_FAMILY_STATUS  NAME_HOUSING_TYPE  DAYS_BIRTH  DAYS_EMPLOYED  \\\n",
       "0        Civil marriage   Rented apartment    -12005.0        -4542.0   \n",
       "1        Civil marriage   Rented apartment    -12005.0        -4542.0   \n",
       "2               Married  House / apartment    -21474.0        -1134.0   \n",
       "3  Single / not married  House / apartment    -19110.0        -3051.0   \n",
       "4  Single / not married  House / apartment    -19110.0        -3051.0   \n",
       "\n",
       "   FLAG_MOBIL  FLAG_WORK_PHONE  FLAG_PHONE  FLAG_EMAIL OCCUPATION_TYPE  \\\n",
       "0         1.0              1.0         0.0         0.0             NaN   \n",
       "1         1.0              1.0         0.0         0.0             NaN   \n",
       "2         1.0              0.0         0.0         0.0  Security staff   \n",
       "3         1.0              0.0         1.0         1.0     Sales staff   \n",
       "4         1.0              0.0         1.0         1.0     Sales staff   \n",
       "\n",
       "   CNT_FAM_MEMBERS  \n",
       "0                2  \n",
       "1                2  \n",
       "2                2  \n",
       "3                1  \n",
       "4                1  "
      ]
     },
     "execution_count": 3,
     "metadata": {},
     "output_type": "execute_result"
    }
   ],
   "source": [
    "#Reading classification data\n",
    "df_creditcard= pd.read_csv(\"Credit_card_application.csv\")\n",
    "df_creditcard.head()"
   ]
  },
  {
   "cell_type": "code",
   "execution_count": 4,
   "metadata": {
    "id": "hxu5OEWpcnfs"
   },
   "outputs": [],
   "source": [
    "#Loading the classificationCredit_record data\n",
    "#from google.colab import files\n",
    "#uploaded = files.upload()\n"
   ]
  },
  {
   "cell_type": "code",
   "execution_count": 5,
   "metadata": {
    "colab": {
     "base_uri": "https://localhost:8080/",
     "height": 206
    },
    "id": "lKruPd62cnmE",
    "outputId": "1bee455f-fefa-41ea-d088-a93a1a192e85"
   },
   "outputs": [
    {
     "data": {
      "text/html": [
       "<div>\n",
       "<style scoped>\n",
       "    .dataframe tbody tr th:only-of-type {\n",
       "        vertical-align: middle;\n",
       "    }\n",
       "\n",
       "    .dataframe tbody tr th {\n",
       "        vertical-align: top;\n",
       "    }\n",
       "\n",
       "    .dataframe thead th {\n",
       "        text-align: right;\n",
       "    }\n",
       "</style>\n",
       "<table border=\"1\" class=\"dataframe\">\n",
       "  <thead>\n",
       "    <tr style=\"text-align: right;\">\n",
       "      <th></th>\n",
       "      <th>ID</th>\n",
       "      <th>MONTHS_BALANCE</th>\n",
       "      <th>STATUS</th>\n",
       "    </tr>\n",
       "  </thead>\n",
       "  <tbody>\n",
       "    <tr>\n",
       "      <th>0</th>\n",
       "      <td>5001711</td>\n",
       "      <td>0</td>\n",
       "      <td>X</td>\n",
       "    </tr>\n",
       "    <tr>\n",
       "      <th>1</th>\n",
       "      <td>5001711</td>\n",
       "      <td>-1</td>\n",
       "      <td>0</td>\n",
       "    </tr>\n",
       "    <tr>\n",
       "      <th>2</th>\n",
       "      <td>5001711</td>\n",
       "      <td>-2</td>\n",
       "      <td>0</td>\n",
       "    </tr>\n",
       "    <tr>\n",
       "      <th>3</th>\n",
       "      <td>5001711</td>\n",
       "      <td>-3</td>\n",
       "      <td>0</td>\n",
       "    </tr>\n",
       "    <tr>\n",
       "      <th>4</th>\n",
       "      <td>5001712</td>\n",
       "      <td>0</td>\n",
       "      <td>C</td>\n",
       "    </tr>\n",
       "  </tbody>\n",
       "</table>\n",
       "</div>"
      ],
      "text/plain": [
       "        ID  MONTHS_BALANCE STATUS\n",
       "0  5001711               0      X\n",
       "1  5001711              -1      0\n",
       "2  5001711              -2      0\n",
       "3  5001711              -3      0\n",
       "4  5001712               0      C"
      ]
     },
     "execution_count": 5,
     "metadata": {},
     "output_type": "execute_result"
    }
   ],
   "source": [
    "#Reading Data from credit_record csv file.\n",
    "df_cardrecord= pd.read_csv(\"credit_record.csv\")\n",
    "df_cardrecord.head()"
   ]
  },
  {
   "cell_type": "code",
   "execution_count": 6,
   "metadata": {
    "colab": {
     "base_uri": "https://localhost:8080/"
    },
    "id": "Y5F4_3gEcnpM",
    "outputId": "75e6cd31-b3d7-4d88-cef6-7082b82184b5"
   },
   "outputs": [
    {
     "data": {
      "text/plain": [
       "(438557, 18)"
      ]
     },
     "execution_count": 6,
     "metadata": {},
     "output_type": "execute_result"
    }
   ],
   "source": [
    "#shape of creditcard application\n",
    "df_creditcard.shape"
   ]
  },
  {
   "cell_type": "code",
   "execution_count": 7,
   "metadata": {
    "colab": {
     "base_uri": "https://localhost:8080/"
    },
    "id": "3tbHn8-OcnsS",
    "outputId": "18e48c5d-9068-4dc9-bf28-a603d364b375"
   },
   "outputs": [
    {
     "name": "stdout",
     "output_type": "stream",
     "text": [
      "<class 'pandas.core.frame.DataFrame'>\n",
      "RangeIndex: 438557 entries, 0 to 438556\n",
      "Data columns (total 18 columns):\n",
      " #   Column               Non-Null Count   Dtype  \n",
      "---  ------               --------------   -----  \n",
      " 0   ID                   438557 non-null  int64  \n",
      " 1   CODE_GENDER          422958 non-null  object \n",
      " 2   FLAG_OWN_CAR         416886 non-null  object \n",
      " 3   FLAG_OWN_REALTY      416818 non-null  object \n",
      " 4   CNT_CHILDREN         416976 non-null  float64\n",
      " 5   AMT_INCOME_TOTAL     417203 non-null  float64\n",
      " 6   NAME_INCOME_TYPE     416524 non-null  object \n",
      " 7   NAME_EDUCATION_TYPE  415537 non-null  object \n",
      " 8   NAME_FAMILY_STATUS   416543 non-null  object \n",
      " 9   NAME_HOUSING_TYPE    415359 non-null  object \n",
      " 10  DAYS_BIRTH           416558 non-null  float64\n",
      " 11  DAYS_EMPLOYED        416921 non-null  float64\n",
      " 12  FLAG_MOBIL           416527 non-null  float64\n",
      " 13  FLAG_WORK_PHONE      417023 non-null  float64\n",
      " 14  FLAG_PHONE           417737 non-null  float64\n",
      " 15  FLAG_EMAIL           417903 non-null  float64\n",
      " 16  OCCUPATION_TYPE      303832 non-null  object \n",
      " 17  CNT_FAM_MEMBERS      438557 non-null  int64  \n",
      "dtypes: float64(8), int64(2), object(8)\n",
      "memory usage: 60.2+ MB\n"
     ]
    }
   ],
   "source": [
    "#Chcking info of creditcard dataframe\n",
    "df_creditcard.info()"
   ]
  },
  {
   "cell_type": "code",
   "execution_count": 8,
   "metadata": {
    "colab": {
     "base_uri": "https://localhost:8080/"
    },
    "id": "JCp02-Gucnvg",
    "outputId": "0315fe8e-2f98-4e27-fd76-3d59158e3cd1"
   },
   "outputs": [
    {
     "data": {
      "text/plain": [
       "(1048575, 3)"
      ]
     },
     "execution_count": 8,
     "metadata": {},
     "output_type": "execute_result"
    }
   ],
   "source": [
    "#shape of creditcard record\n",
    "df_cardrecord.shape"
   ]
  },
  {
   "cell_type": "code",
   "execution_count": 9,
   "metadata": {
    "colab": {
     "base_uri": "https://localhost:8080/"
    },
    "id": "s8seI2Xocnyg",
    "outputId": "f1322e85-44ae-436d-8435-79a116876395"
   },
   "outputs": [
    {
     "name": "stdout",
     "output_type": "stream",
     "text": [
      "<class 'pandas.core.frame.DataFrame'>\n",
      "RangeIndex: 1048575 entries, 0 to 1048574\n",
      "Data columns (total 3 columns):\n",
      " #   Column          Non-Null Count    Dtype \n",
      "---  ------          --------------    ----- \n",
      " 0   ID              1048575 non-null  int64 \n",
      " 1   MONTHS_BALANCE  1048575 non-null  int64 \n",
      " 2   STATUS          1048575 non-null  object\n",
      "dtypes: int64(2), object(1)\n",
      "memory usage: 24.0+ MB\n"
     ]
    }
   ],
   "source": [
    "#Chcking info of cardrecord dataframe\n",
    "df_cardrecord.info()"
   ]
  },
  {
   "cell_type": "code",
   "execution_count": 10,
   "metadata": {
    "colab": {
     "base_uri": "https://localhost:8080/"
    },
    "id": "7fS91aACcn2H",
    "outputId": "bc11d538-d885-4bec-8ec1-940350c89170"
   },
   "outputs": [
    {
     "data": {
      "text/plain": [
       "Index(['ID', 'CODE_GENDER', 'FLAG_OWN_CAR', 'FLAG_OWN_REALTY', 'CNT_CHILDREN',\n",
       "       'AMT_INCOME_TOTAL', 'NAME_INCOME_TYPE', 'NAME_EDUCATION_TYPE',\n",
       "       'NAME_FAMILY_STATUS', 'NAME_HOUSING_TYPE', 'DAYS_BIRTH',\n",
       "       'DAYS_EMPLOYED', 'FLAG_MOBIL', 'FLAG_WORK_PHONE', 'FLAG_PHONE',\n",
       "       'FLAG_EMAIL', 'OCCUPATION_TYPE', 'CNT_FAM_MEMBERS'],\n",
       "      dtype='object')"
      ]
     },
     "execution_count": 10,
     "metadata": {},
     "output_type": "execute_result"
    }
   ],
   "source": [
    "#Checking columns creditcard\n",
    "df_creditcard.columns"
   ]
  },
  {
   "cell_type": "code",
   "execution_count": 11,
   "metadata": {
    "colab": {
     "base_uri": "https://localhost:8080/"
    },
    "id": "qAQMNguibxSh",
    "outputId": "14b15025-4aa1-4472-d6e9-00b1bf3652b3"
   },
   "outputs": [
    {
     "data": {
      "text/plain": [
       "Index(['ID', 'MONTHS_BALANCE', 'STATUS'], dtype='object')"
      ]
     },
     "execution_count": 11,
     "metadata": {},
     "output_type": "execute_result"
    }
   ],
   "source": [
    "#Checking columns cardrecord\n",
    "df_cardrecord.columns"
   ]
  },
  {
   "cell_type": "code",
   "execution_count": 12,
   "metadata": {
    "colab": {
     "base_uri": "https://localhost:8080/"
    },
    "id": "TQWy4vqEfANr",
    "outputId": "97d2c826-2f28-4b97-bdf0-62957b17eedd"
   },
   "outputs": [
    {
     "data": {
      "text/plain": [
       "ID                          0\n",
       "CODE_GENDER             15599\n",
       "FLAG_OWN_CAR            21671\n",
       "FLAG_OWN_REALTY         21739\n",
       "CNT_CHILDREN            21581\n",
       "AMT_INCOME_TOTAL        21354\n",
       "NAME_INCOME_TYPE        22033\n",
       "NAME_EDUCATION_TYPE     23020\n",
       "NAME_FAMILY_STATUS      22014\n",
       "NAME_HOUSING_TYPE       23198\n",
       "DAYS_BIRTH              21999\n",
       "DAYS_EMPLOYED           21636\n",
       "FLAG_MOBIL              22030\n",
       "FLAG_WORK_PHONE         21534\n",
       "FLAG_PHONE              20820\n",
       "FLAG_EMAIL              20654\n",
       "OCCUPATION_TYPE        134725\n",
       "CNT_FAM_MEMBERS             0\n",
       "dtype: int64"
      ]
     },
     "execution_count": 12,
     "metadata": {},
     "output_type": "execute_result"
    }
   ],
   "source": [
    "#Checking null values in df_creditcard\n",
    "df_creditcard.isna().sum()"
   ]
  },
  {
   "cell_type": "code",
   "execution_count": 13,
   "metadata": {
    "colab": {
     "base_uri": "https://localhost:8080/"
    },
    "id": "DenRPdO0fDtq",
    "outputId": "b1f9310a-25fa-46fc-c5bc-a4b4cde604b0"
   },
   "outputs": [
    {
     "data": {
      "text/plain": [
       "ID                0\n",
       "MONTHS_BALANCE    0\n",
       "STATUS            0\n",
       "dtype: int64"
      ]
     },
     "execution_count": 13,
     "metadata": {},
     "output_type": "execute_result"
    }
   ],
   "source": [
    "#Checking null values in df_cardrecord\n",
    "df_cardrecord.isna().sum()"
   ]
  },
  {
   "cell_type": "code",
   "execution_count": 14,
   "metadata": {
    "colab": {
     "base_uri": "https://localhost:8080/"
    },
    "id": "p59w1CrXfDwy",
    "outputId": "e5acd901-290f-46df-f580-90b7814bd28b"
   },
   "outputs": [
    {
     "name": "stdout",
     "output_type": "stream",
     "text": [
      "F    284011\n",
      "M    138947\n",
      "Name: CODE_GENDER, dtype: int64\n",
      "\n",
      "Number of null values are 15599\n"
     ]
    }
   ],
   "source": [
    "#We see that nearly 5-10% data is missing in df_creditcard dataframe.\n",
    "#We will be analysing each column in df_creditcard and substituting with appropriate values df_creditcard['CODE_GENDER']\n",
    "\n",
    "print(df_creditcard['CODE_GENDER'].value_counts())\n",
    "print(\"\\nNumber of null values are\",df_creditcard['CODE_GENDER'].isna().sum())\n",
    "# substituting nulls with maximum value that is F\n",
    "df_creditcard['CODE_GENDER'].replace(to_replace=np.NaN,value='F',inplace=True)"
   ]
  },
  {
   "cell_type": "code",
   "execution_count": 15,
   "metadata": {
    "colab": {
     "base_uri": "https://localhost:8080/"
    },
    "id": "6k_e1NSefD0d",
    "outputId": "746fea53-0835-4493-d13d-8f3f6e0a9236"
   },
   "outputs": [
    {
     "data": {
      "text/plain": [
       "count     438557\n",
       "unique         2\n",
       "top            F\n",
       "freq      299610\n",
       "Name: CODE_GENDER, dtype: object"
      ]
     },
     "execution_count": 15,
     "metadata": {},
     "output_type": "execute_result"
    }
   ],
   "source": [
    "#df_creditcard['CODE_GENDER'] decription\n",
    "df_creditcard['CODE_GENDER'].describe()"
   ]
  },
  {
   "cell_type": "code",
   "execution_count": 16,
   "metadata": {
    "colab": {
     "base_uri": "https://localhost:8080/",
     "height": 264
    },
    "id": "bn1T49lmfD4x",
    "outputId": "a3c5fa6d-bfdc-421b-964f-0ee0569bfba7"
   },
   "outputs": [
    {
     "data": {
      "image/png": "[encoded data removed]",
      "text/plain": [
       "<Figure size 432x288 with 1 Axes>"
      ]
     },
     "metadata": {},
     "output_type": "display_data"
    }
   ],
   "source": [
    "#Visulaization of male and female\n",
    "explode =[0.0, 0.15]\n",
    "plt.pie(df_creditcard['CODE_GENDER'].value_counts(), labels=['Female', 'Male'], explode=explode, shadow= 0.2,autopct='%1.2f%%')\n",
    "plt.title('Percentage of Applications submitted based on Gender')\n",
    "plt.show()"
   ]
  },
  {
   "cell_type": "code",
   "execution_count": 17,
   "metadata": {
    "colab": {
     "base_uri": "https://localhost:8080/"
    },
    "id": "pNUYYsr8fD6P",
    "outputId": "85e40289-c82e-4058-a6c9-20d0388a62a3"
   },
   "outputs": [
    {
     "data": {
      "text/plain": [
       "0"
      ]
     },
     "execution_count": 17,
     "metadata": {},
     "output_type": "execute_result"
    }
   ],
   "source": [
    "df_creditcard['CODE_GENDER'].isna().sum()"
   ]
  },
  {
   "cell_type": "code",
   "execution_count": 18,
   "metadata": {
    "id": "U3-nCog_fD7u"
   },
   "outputs": [],
   "source": [
    "#Mapping Female to 1 and male to 0\n",
    "df_creditcard['CODE_GENDER'] = df_creditcard['CODE_GENDER'].map({'F':1, 'M':0}).astype(object)"
   ]
  },
  {
   "cell_type": "code",
   "execution_count": 19,
   "metadata": {
    "colab": {
     "base_uri": "https://localhost:8080/"
    },
    "id": "IF48dv81fR3B",
    "outputId": "7b5e141a-ccdc-4b0b-92e4-740479d7e9e7"
   },
   "outputs": [
    {
     "data": {
      "text/plain": [
       "1    299610\n",
       "0    138947\n",
       "Name: CODE_GENDER, dtype: int64"
      ]
     },
     "execution_count": 19,
     "metadata": {},
     "output_type": "execute_result"
    }
   ],
   "source": [
    "df_creditcard['CODE_GENDER'].value_counts()"
   ]
  },
  {
   "cell_type": "code",
   "execution_count": 20,
   "metadata": {
    "colab": {
     "base_uri": "https://localhost:8080/"
    },
    "id": "Le09vI2ffUTp",
    "outputId": "4fba9e83-598e-4c30-b453-58e25da7f370"
   },
   "outputs": [
    {
     "name": "stdout",
     "output_type": "stream",
     "text": [
      "N    261672\n",
      "Y    155214\n",
      "Name: FLAG_OWN_CAR, dtype: int64\n",
      "\n",
      "Number of null values are 21671\n"
     ]
    }
   ],
   "source": [
    "# FLAG_OWN_CAR column\n",
    "print(df_creditcard['FLAG_OWN_CAR'].value_counts())\n",
    "print(\"\\nNumber of null values are\",df_creditcard['FLAG_OWN_CAR'].isna().sum())"
   ]
  },
  {
   "cell_type": "code",
   "execution_count": 21,
   "metadata": {
    "id": "BkdYP42ufWOy"
   },
   "outputs": [],
   "source": [
    "# substituting nulls with maximum value that is F\n",
    "df_creditcard['FLAG_OWN_CAR'].replace(to_replace=np.NaN,value='N',inplace=True)"
   ]
  },
  {
   "cell_type": "code",
   "execution_count": 22,
   "metadata": {
    "colab": {
     "base_uri": "https://localhost:8080/",
     "height": 264
    },
    "id": "rr2SXoP4fYaq",
    "outputId": "771ff883-d3bb-4861-b84a-8820b9c1424e"
   },
   "outputs": [
    {
     "data": {
      "image/png": "[encoded data removed]",
      "text/plain": [
       "<Figure size 432x288 with 1 Axes>"
      ]
     },
     "metadata": {},
     "output_type": "display_data"
    }
   ],
   "source": [
    "#Visulaization of FLAG_OWN_CAR column\n",
    "explode =[0.0, 0.15]\n",
    "plt.pie(df_creditcard['FLAG_OWN_CAR'].value_counts(), labels=['N', 'Y'], explode=explode, shadow= 0.2,autopct='%1.2f%%')\n",
    "plt.title('Percentage of Applications submitted based on Owning a Car')\n",
    "plt.show()"
   ]
  },
  {
   "cell_type": "code",
   "execution_count": 23,
   "metadata": {
    "colab": {
     "base_uri": "https://localhost:8080/"
    },
    "id": "Z9jHh5cZfaCe",
    "outputId": "679d7882-0039-4d0f-ca8c-1ef2afac7365"
   },
   "outputs": [
    {
     "data": {
      "text/plain": [
       "N    283343\n",
       "Y    155214\n",
       "Name: FLAG_OWN_CAR, dtype: int64"
      ]
     },
     "execution_count": 23,
     "metadata": {},
     "output_type": "execute_result"
    }
   ],
   "source": [
    "df_creditcard['FLAG_OWN_CAR'].value_counts()"
   ]
  },
  {
   "cell_type": "code",
   "execution_count": 24,
   "metadata": {
    "id": "TSlGuaP0fcUT"
   },
   "outputs": [],
   "source": [
    "df_creditcard['FLAG_OWN_CAR'] = df_creditcard['FLAG_OWN_CAR'].map({'N':1, 'Y':0}).astype(int)"
   ]
  },
  {
   "cell_type": "code",
   "execution_count": 25,
   "metadata": {
    "colab": {
     "base_uri": "https://localhost:8080/"
    },
    "id": "nMU2jeuKfeZ0",
    "outputId": "60c43752-5ed6-4359-aafe-74a8abf06c71"
   },
   "outputs": [
    {
     "data": {
      "text/plain": [
       "1    283343\n",
       "0    155214\n",
       "Name: FLAG_OWN_CAR, dtype: int64"
      ]
     },
     "execution_count": 25,
     "metadata": {},
     "output_type": "execute_result"
    }
   ],
   "source": [
    "df_creditcard['FLAG_OWN_CAR'].value_counts()"
   ]
  },
  {
   "cell_type": "code",
   "execution_count": 26,
   "metadata": {
    "colab": {
     "base_uri": "https://localhost:8080/"
    },
    "id": "1QeWIyP7ff0P",
    "outputId": "7564e3c6-e2be-45ab-9437-eee0713eb920"
   },
   "outputs": [
    {
     "name": "stdout",
     "output_type": "stream",
     "text": [
      "Y    289612\n",
      "N    127206\n",
      "Name: FLAG_OWN_REALTY, dtype: int64\n",
      "\n",
      "Number of null values are 21739\n"
     ]
    }
   ],
   "source": [
    "# Now Based on owing reality\n",
    "print(df_creditcard['FLAG_OWN_REALTY'].value_counts())\n",
    "print(\"\\nNumber of null values are\",df_creditcard['FLAG_OWN_REALTY'].isna().sum())"
   ]
  },
  {
   "cell_type": "code",
   "execution_count": 27,
   "metadata": {
    "colab": {
     "base_uri": "https://localhost:8080/"
    },
    "id": "N2WNIh3cfhlh",
    "outputId": "4b21853a-9b1a-4b78-ec0d-4ec2583e8c7d"
   },
   "outputs": [
    {
     "data": {
      "text/plain": [
       "Y    289612\n",
       "N    127206\n",
       "Name: FLAG_OWN_REALTY, dtype: int64"
      ]
     },
     "execution_count": 27,
     "metadata": {},
     "output_type": "execute_result"
    }
   ],
   "source": [
    "df_creditcard['FLAG_OWN_REALTY'].value_counts()"
   ]
  },
  {
   "cell_type": "code",
   "execution_count": 28,
   "metadata": {
    "colab": {
     "base_uri": "https://localhost:8080/",
     "height": 264
    },
    "id": "RMD223XofjBQ",
    "outputId": "68e942c6-0727-48f8-c5cc-f5cc440d133f"
   },
   "outputs": [
    {
     "data": {
      "image/png": "[encoded data removed]",
      "text/plain": [
       "<Figure size 432x288 with 1 Axes>"
      ]
     },
     "metadata": {},
     "output_type": "display_data"
    }
   ],
   "source": [
    "# Visulization based on owning a realty\n",
    "explode =[0.0, 0.15]\n",
    "plt.pie(df_creditcard['FLAG_OWN_REALTY'].value_counts(), labels=['Yes', 'No'],explode=explode,shadow= 0.2, autopct='%1.2f%%')\n",
    "plt.title('Percentage of Applications submitted based on owning a realty')\n",
    "plt.show()"
   ]
  },
  {
   "cell_type": "code",
   "execution_count": 29,
   "metadata": {
    "id": "NESqo7AEfktL"
   },
   "outputs": [],
   "source": [
    "df_creditcard['FLAG_OWN_REALTY'].replace(to_replace=np.NaN,value='Y',inplace=True)"
   ]
  },
  {
   "cell_type": "code",
   "execution_count": 30,
   "metadata": {
    "id": "1xUq7Y6Kfmba"
   },
   "outputs": [],
   "source": [
    "df_creditcard['FLAG_OWN_REALTY'] = df_creditcard['FLAG_OWN_REALTY'].map({'Y':1, 'N':0}).astype(object)"
   ]
  },
  {
   "cell_type": "code",
   "execution_count": 31,
   "metadata": {
    "colab": {
     "base_uri": "https://localhost:8080/"
    },
    "id": "hQqaM11vfny_",
    "outputId": "7a0a5233-36e7-49b6-c2d8-4c608ec1f2e7"
   },
   "outputs": [
    {
     "data": {
      "text/plain": [
       "1    311351\n",
       "0    127206\n",
       "Name: FLAG_OWN_REALTY, dtype: int64"
      ]
     },
     "execution_count": 31,
     "metadata": {},
     "output_type": "execute_result"
    }
   ],
   "source": [
    "df_creditcard['FLAG_OWN_REALTY'].value_counts()"
   ]
  },
  {
   "cell_type": "code",
   "execution_count": 32,
   "metadata": {
    "colab": {
     "base_uri": "https://localhost:8080/"
    },
    "id": "Li4IaaVNfpMf",
    "outputId": "f85f7962-e68d-4303-d88a-f9fb12c511ba"
   },
   "outputs": [
    {
     "data": {
      "text/plain": [
       "0"
      ]
     },
     "execution_count": 32,
     "metadata": {},
     "output_type": "execute_result"
    }
   ],
   "source": [
    "df_creditcard['FLAG_OWN_REALTY'].isna().sum()"
   ]
  },
  {
   "cell_type": "code",
   "execution_count": 33,
   "metadata": {
    "colab": {
     "base_uri": "https://localhost:8080/"
    },
    "id": "Q1V_q-xqfqTA",
    "outputId": "4e00dce8-b8b5-4357-d11f-02aa11070eb6"
   },
   "outputs": [
    {
     "data": {
      "text/plain": [
       "1    311351\n",
       "0    127206\n",
       "Name: FLAG_OWN_REALTY, dtype: int64"
      ]
     },
     "execution_count": 33,
     "metadata": {},
     "output_type": "execute_result"
    }
   ],
   "source": [
    "df_creditcard['FLAG_OWN_REALTY'].value_counts()"
   ]
  },
  {
   "cell_type": "code",
   "execution_count": 34,
   "metadata": {
    "colab": {
     "base_uri": "https://localhost:8080/"
    },
    "id": "JZ4Py2J1frt9",
    "outputId": "38b3b6ea-1ea0-4766-b2a6-2263f5b7c01c"
   },
   "outputs": [
    {
     "data": {
      "text/plain": [
       "0.0     289135\n",
       "1.0      84224\n",
       "2.0      37881\n",
       "3.0       5117\n",
       "4.0        463\n",
       "5.0        133\n",
       "7.0          9\n",
       "9.0          5\n",
       "12.0         4\n",
       "6.0          4\n",
       "19.0         1\n",
       "Name: CNT_CHILDREN, dtype: int64"
      ]
     },
     "execution_count": 34,
     "metadata": {},
     "output_type": "execute_result"
    }
   ],
   "source": [
    "#Counting children - CNT_CHILDREN\n",
    "df_creditcard['CNT_CHILDREN'].value_counts()"
   ]
  },
  {
   "cell_type": "code",
   "execution_count": 35,
   "metadata": {
    "colab": {
     "base_uri": "https://localhost:8080/"
    },
    "id": "S0og5imwftu4",
    "outputId": "5047ae33-1d3c-4e0b-9d86-664fbd13ef55"
   },
   "outputs": [
    {
     "data": {
      "text/plain": [
       "21581"
      ]
     },
     "execution_count": 35,
     "metadata": {},
     "output_type": "execute_result"
    }
   ],
   "source": [
    "#This ordinal data, but no changes are been made because children can be any whole number in real-time\n",
    "#Checking for null value\n",
    "df_creditcard['CNT_CHILDREN'].isna().sum()"
   ]
  },
  {
   "cell_type": "code",
   "execution_count": 36,
   "metadata": {
    "id": "fyJHLicefvQM"
   },
   "outputs": [],
   "source": [
    "#Mapping missing values to 0 children\n",
    "df_creditcard['CNT_CHILDREN'].replace(to_replace=np.NaN,value=0,inplace=True)"
   ]
  },
  {
   "cell_type": "code",
   "execution_count": 37,
   "metadata": {
    "colab": {
     "base_uri": "https://localhost:8080/"
    },
    "id": "o5fErB2IfxUX",
    "outputId": "a0828675-8a3d-4c6e-a35a-c6a64d6da10e"
   },
   "outputs": [
    {
     "data": {
      "text/plain": [
       "135000.00    44739\n",
       "157500.00    37730\n",
       "180000.00    35950\n",
       "112500.00    35203\n",
       "225000.00    32648\n",
       "             ...  \n",
       "109603.35        1\n",
       "123916.50        1\n",
       "32139.00         1\n",
       "362911.50        1\n",
       "125730.00        1\n",
       "Name: AMT_INCOME_TOTAL, Length: 841, dtype: int64"
      ]
     },
     "execution_count": 37,
     "metadata": {},
     "output_type": "execute_result"
    }
   ],
   "source": [
    "#AMT_INCOME_TOTAL is a continuous value\n",
    "df_creditcard['AMT_INCOME_TOTAL'].value_counts()"
   ]
  },
  {
   "cell_type": "code",
   "execution_count": 38,
   "metadata": {
    "colab": {
     "base_uri": "https://localhost:8080/"
    },
    "id": "ZpIFV-4ofyco",
    "outputId": "24f1173a-1089-4ee0-d26e-294ac8e521c2"
   },
   "outputs": [
    {
     "data": {
      "text/plain": [
       "21354"
      ]
     },
     "execution_count": 38,
     "metadata": {},
     "output_type": "execute_result"
    }
   ],
   "source": [
    "df_creditcard['AMT_INCOME_TOTAL'].isna().sum()"
   ]
  },
  {
   "cell_type": "code",
   "execution_count": 39,
   "metadata": {
    "colab": {
     "base_uri": "https://localhost:8080/",
     "height": 441
    },
    "id": "ASOVgO6ef0Gc",
    "outputId": "69e5a654-3d9c-429c-bdcc-eda3614e1b3b"
   },
   "outputs": [
    {
     "data": {
      "image/png": "[encoded data removed]",
      "text/plain": [
       "<Figure size 1584x504 with 1 Axes>"
      ]
     },
     "metadata": {
      "needs_background": "light"
     },
     "output_type": "display_data"
    }
   ],
   "source": [
    "#plot visulaization of AMT_INCOME_TOTAL column\n",
    "plt.figure(figsize=(22,7))\n",
    "plt.hist(df_creditcard['AMT_INCOME_TOTAL'],bins=20)\n",
    "plt.grid()\n",
    "plt.show()"
   ]
  },
  {
   "cell_type": "code",
   "execution_count": 40,
   "metadata": {
    "id": "HulcnMtof1SR"
   },
   "outputs": [],
   "source": [
    "# The visualization is slightly skewed, so we are replcing null values with median of the AMT_INCOME_TOTAL column\n",
    "df_creditcard['AMT_INCOME_TOTAL'].replace(to_replace=np.NaN,value=df_creditcard['AMT_INCOME_TOTAL'].median(),inplace=True)"
   ]
  },
  {
   "cell_type": "code",
   "execution_count": 41,
   "metadata": {
    "colab": {
     "base_uri": "https://localhost:8080/"
    },
    "id": "IUh3HfP_f3DQ",
    "outputId": "9d601adb-d443-4a50-8ace-9b9adb5be01c"
   },
   "outputs": [
    {
     "data": {
      "text/plain": [
       "135000.00    44739\n",
       "157500.00    37730\n",
       "180000.00    35950\n",
       "112500.00    35203\n",
       "225000.00    32648\n",
       "             ...  \n",
       "109603.35        1\n",
       "123916.50        1\n",
       "32139.00         1\n",
       "362911.50        1\n",
       "125730.00        1\n",
       "Name: AMT_INCOME_TOTAL, Length: 841, dtype: int64"
      ]
     },
     "execution_count": 41,
     "metadata": {},
     "output_type": "execute_result"
    }
   ],
   "source": [
    "#After replacing with median values\n",
    "df_creditcard['AMT_INCOME_TOTAL'].value_counts()"
   ]
  },
  {
   "cell_type": "code",
   "execution_count": 42,
   "metadata": {
    "colab": {
     "base_uri": "https://localhost:8080/"
    },
    "id": "tiLRxx9wf4EV",
    "outputId": "cc968e9d-91c3-49e8-8e2b-764d107d3fd2"
   },
   "outputs": [
    {
     "data": {
      "text/plain": [
       "Working                 214760\n",
       "Commercial associate     95771\n",
       "Pensioner                71770\n",
       "State servant            34214\n",
       "Student                      9\n",
       "Name: NAME_INCOME_TYPE, dtype: int64"
      ]
     },
     "execution_count": 42,
     "metadata": {},
     "output_type": "execute_result"
    }
   ],
   "source": [
    "#Validating NAME_INCOME_TYPE column\n",
    "df_creditcard['NAME_INCOME_TYPE'].value_counts()"
   ]
  },
  {
   "cell_type": "code",
   "execution_count": 43,
   "metadata": {
    "colab": {
     "base_uri": "https://localhost:8080/",
     "height": 536
    },
    "id": "ldurOAQhf5Ml",
    "outputId": "7d599693-5504-4cf4-ad97-cffc93bf91e0"
   },
   "outputs": [
    {
     "data": {
      "image/png": "[encoded data removed]",
      "text/plain": [
       "<Figure size 648x648 with 1 Axes>"
      ]
     },
     "metadata": {},
     "output_type": "display_data"
    }
   ],
   "source": [
    "#Visulization of NAME_INCOME_TYPE column\n",
    "plt.figure(figsize = (9,9))\n",
    "plt.pie(df_creditcard['NAME_INCOME_TYPE'].value_counts(), \n",
    "        labels=df_creditcard['NAME_INCOME_TYPE'].value_counts().index, autopct='%1.2f%%')\n",
    "plt.title('% of Applications submitted based on Income Type')\n",
    "plt.legend()\n",
    "plt.show()"
   ]
  },
  {
   "cell_type": "code",
   "execution_count": 44,
   "metadata": {
    "colab": {
     "base_uri": "https://localhost:8080/"
    },
    "id": "-ZMyDoHJf-q2",
    "outputId": "5514765f-6bf7-439b-c95c-4f3f355c903c"
   },
   "outputs": [
    {
     "data": {
      "text/plain": [
       "22033"
      ]
     },
     "execution_count": 44,
     "metadata": {},
     "output_type": "execute_result"
    }
   ],
   "source": [
    "#Checking for null values\n",
    "df_creditcard['NAME_INCOME_TYPE'].isna().sum()"
   ]
  },
  {
   "cell_type": "code",
   "execution_count": 45,
   "metadata": {
    "id": "daPM92mzgAeF"
   },
   "outputs": [],
   "source": [
    "# Here 22033 have null values, so we are putting them in 'Working category' rather than putting in No working as this would cause an impact in another way\n",
    "df_creditcard['NAME_INCOME_TYPE'].replace(to_replace=np.NaN,value='Working',inplace=True)"
   ]
  },
  {
   "cell_type": "code",
   "execution_count": 46,
   "metadata": {
    "colab": {
     "base_uri": "https://localhost:8080/",
     "height": 296
    },
    "id": "qphv_My6gBYD",
    "outputId": "7925614e-4175-4343-dc05-7237b9cd46b4"
   },
   "outputs": [
    {
     "data": {
      "text/html": [
       "<div>\n",
       "<style scoped>\n",
       "    .dataframe tbody tr th:only-of-type {\n",
       "        vertical-align: middle;\n",
       "    }\n",
       "\n",
       "    .dataframe tbody tr th {\n",
       "        vertical-align: top;\n",
       "    }\n",
       "\n",
       "    .dataframe thead th {\n",
       "        text-align: right;\n",
       "    }\n",
       "</style>\n",
       "<table border=\"1\" class=\"dataframe\">\n",
       "  <thead>\n",
       "    <tr style=\"text-align: right;\">\n",
       "      <th></th>\n",
       "      <th>ID</th>\n",
       "      <th>CODE_GENDER</th>\n",
       "      <th>FLAG_OWN_CAR</th>\n",
       "      <th>FLAG_OWN_REALTY</th>\n",
       "      <th>CNT_CHILDREN</th>\n",
       "      <th>AMT_INCOME_TOTAL</th>\n",
       "      <th>NAME_EDUCATION_TYPE</th>\n",
       "      <th>NAME_FAMILY_STATUS</th>\n",
       "      <th>NAME_HOUSING_TYPE</th>\n",
       "      <th>DAYS_BIRTH</th>\n",
       "      <th>...</th>\n",
       "      <th>FLAG_WORK_PHONE</th>\n",
       "      <th>FLAG_PHONE</th>\n",
       "      <th>FLAG_EMAIL</th>\n",
       "      <th>OCCUPATION_TYPE</th>\n",
       "      <th>CNT_FAM_MEMBERS</th>\n",
       "      <th>NAME_INCOME_TYPE_Commercial associate</th>\n",
       "      <th>NAME_INCOME_TYPE_Pensioner</th>\n",
       "      <th>NAME_INCOME_TYPE_State servant</th>\n",
       "      <th>NAME_INCOME_TYPE_Student</th>\n",
       "      <th>NAME_INCOME_TYPE_Working</th>\n",
       "    </tr>\n",
       "  </thead>\n",
       "  <tbody>\n",
       "    <tr>\n",
       "      <th>0</th>\n",
       "      <td>5008804</td>\n",
       "      <td>0</td>\n",
       "      <td>0</td>\n",
       "      <td>1</td>\n",
       "      <td>0.0</td>\n",
       "      <td>427500.0</td>\n",
       "      <td>Higher education</td>\n",
       "      <td>Civil marriage</td>\n",
       "      <td>Rented apartment</td>\n",
       "      <td>-12005.0</td>\n",
       "      <td>...</td>\n",
       "      <td>1.0</td>\n",
       "      <td>0.0</td>\n",
       "      <td>0.0</td>\n",
       "      <td>NaN</td>\n",
       "      <td>2</td>\n",
       "      <td>0</td>\n",
       "      <td>0</td>\n",
       "      <td>0</td>\n",
       "      <td>0</td>\n",
       "      <td>1</td>\n",
       "    </tr>\n",
       "    <tr>\n",
       "      <th>1</th>\n",
       "      <td>5008805</td>\n",
       "      <td>0</td>\n",
       "      <td>0</td>\n",
       "      <td>1</td>\n",
       "      <td>0.0</td>\n",
       "      <td>427500.0</td>\n",
       "      <td>Higher education</td>\n",
       "      <td>Civil marriage</td>\n",
       "      <td>Rented apartment</td>\n",
       "      <td>-12005.0</td>\n",
       "      <td>...</td>\n",
       "      <td>1.0</td>\n",
       "      <td>0.0</td>\n",
       "      <td>0.0</td>\n",
       "      <td>NaN</td>\n",
       "      <td>2</td>\n",
       "      <td>0</td>\n",
       "      <td>0</td>\n",
       "      <td>0</td>\n",
       "      <td>0</td>\n",
       "      <td>1</td>\n",
       "    </tr>\n",
       "    <tr>\n",
       "      <th>2</th>\n",
       "      <td>5008806</td>\n",
       "      <td>0</td>\n",
       "      <td>0</td>\n",
       "      <td>1</td>\n",
       "      <td>0.0</td>\n",
       "      <td>112500.0</td>\n",
       "      <td>Secondary / secondary special</td>\n",
       "      <td>Married</td>\n",
       "      <td>House / apartment</td>\n",
       "      <td>-21474.0</td>\n",
       "      <td>...</td>\n",
       "      <td>0.0</td>\n",
       "      <td>0.0</td>\n",
       "      <td>0.0</td>\n",
       "      <td>Security staff</td>\n",
       "      <td>2</td>\n",
       "      <td>0</td>\n",
       "      <td>0</td>\n",
       "      <td>0</td>\n",
       "      <td>0</td>\n",
       "      <td>1</td>\n",
       "    </tr>\n",
       "    <tr>\n",
       "      <th>3</th>\n",
       "      <td>5008808</td>\n",
       "      <td>1</td>\n",
       "      <td>1</td>\n",
       "      <td>1</td>\n",
       "      <td>0.0</td>\n",
       "      <td>270000.0</td>\n",
       "      <td>Secondary / secondary special</td>\n",
       "      <td>Single / not married</td>\n",
       "      <td>House / apartment</td>\n",
       "      <td>-19110.0</td>\n",
       "      <td>...</td>\n",
       "      <td>0.0</td>\n",
       "      <td>1.0</td>\n",
       "      <td>1.0</td>\n",
       "      <td>Sales staff</td>\n",
       "      <td>1</td>\n",
       "      <td>1</td>\n",
       "      <td>0</td>\n",
       "      <td>0</td>\n",
       "      <td>0</td>\n",
       "      <td>0</td>\n",
       "    </tr>\n",
       "    <tr>\n",
       "      <th>4</th>\n",
       "      <td>5008809</td>\n",
       "      <td>1</td>\n",
       "      <td>1</td>\n",
       "      <td>1</td>\n",
       "      <td>0.0</td>\n",
       "      <td>270000.0</td>\n",
       "      <td>Secondary / secondary special</td>\n",
       "      <td>Single / not married</td>\n",
       "      <td>House / apartment</td>\n",
       "      <td>-19110.0</td>\n",
       "      <td>...</td>\n",
       "      <td>0.0</td>\n",
       "      <td>1.0</td>\n",
       "      <td>1.0</td>\n",
       "      <td>Sales staff</td>\n",
       "      <td>1</td>\n",
       "      <td>1</td>\n",
       "      <td>0</td>\n",
       "      <td>0</td>\n",
       "      <td>0</td>\n",
       "      <td>0</td>\n",
       "    </tr>\n",
       "  </tbody>\n",
       "</table>\n",
       "<p>5 rows × 22 columns</p>\n",
       "</div>"
      ],
      "text/plain": [
       "        ID CODE_GENDER  FLAG_OWN_CAR FLAG_OWN_REALTY  CNT_CHILDREN  \\\n",
       "0  5008804           0             0               1           0.0   \n",
       "1  5008805           0             0               1           0.0   \n",
       "2  5008806           0             0               1           0.0   \n",
       "3  5008808           1             1               1           0.0   \n",
       "4  5008809           1             1               1           0.0   \n",
       "\n",
       "   AMT_INCOME_TOTAL            NAME_EDUCATION_TYPE    NAME_FAMILY_STATUS  \\\n",
       "0          427500.0               Higher education        Civil marriage   \n",
       "1          427500.0               Higher education        Civil marriage   \n",
       "2          112500.0  Secondary / secondary special               Married   \n",
       "3          270000.0  Secondary / secondary special  Single / not married   \n",
       "4          270000.0  Secondary / secondary special  Single / not married   \n",
       "\n",
       "   NAME_HOUSING_TYPE  DAYS_BIRTH  ...  FLAG_WORK_PHONE  FLAG_PHONE  \\\n",
       "0   Rented apartment    -12005.0  ...              1.0         0.0   \n",
       "1   Rented apartment    -12005.0  ...              1.0         0.0   \n",
       "2  House / apartment    -21474.0  ...              0.0         0.0   \n",
       "3  House / apartment    -19110.0  ...              0.0         1.0   \n",
       "4  House / apartment    -19110.0  ...              0.0         1.0   \n",
       "\n",
       "   FLAG_EMAIL  OCCUPATION_TYPE  CNT_FAM_MEMBERS  \\\n",
       "0         0.0              NaN                2   \n",
       "1         0.0              NaN                2   \n",
       "2         0.0   Security staff                2   \n",
       "3         1.0      Sales staff                1   \n",
       "4         1.0      Sales staff                1   \n",
       "\n",
       "  NAME_INCOME_TYPE_Commercial associate  NAME_INCOME_TYPE_Pensioner  \\\n",
       "0                                     0                           0   \n",
       "1                                     0                           0   \n",
       "2                                     0                           0   \n",
       "3                                     1                           0   \n",
       "4                                     1                           0   \n",
       "\n",
       "   NAME_INCOME_TYPE_State servant  NAME_INCOME_TYPE_Student  \\\n",
       "0                               0                         0   \n",
       "1                               0                         0   \n",
       "2                               0                         0   \n",
       "3                               0                         0   \n",
       "4                               0                         0   \n",
       "\n",
       "   NAME_INCOME_TYPE_Working  \n",
       "0                         1  \n",
       "1                         1  \n",
       "2                         1  \n",
       "3                         0  \n",
       "4                         0  \n",
       "\n",
       "[5 rows x 22 columns]"
      ]
     },
     "execution_count": 46,
     "metadata": {},
     "output_type": "execute_result"
    }
   ],
   "source": [
    "#we use one-hot encoding on NAME_INCOME_TYPE\n",
    "cols = pd.get_dummies(df_creditcard['NAME_INCOME_TYPE'], prefix= 'NAME_INCOME_TYPE')\n",
    "df_creditcard[cols.columns] = cols\n",
    "df_creditcard.drop('NAME_INCOME_TYPE', axis = 1, inplace = True)\n",
    "df_creditcard.head()"
   ]
  },
  {
   "cell_type": "code",
   "execution_count": 47,
   "metadata": {
    "colab": {
     "base_uri": "https://localhost:8080/"
    },
    "id": "FJkQD7YJgCUR",
    "outputId": "a51392bd-a170-4746-9480-e98d536ba469"
   },
   "outputs": [
    {
     "data": {
      "text/plain": [
       "Secondary / secondary special    286031\n",
       "Higher education                 111433\n",
       "Incomplete higher                 13921\n",
       "Lower secondary                    3886\n",
       "Academic degree                     266\n",
       "Name: NAME_EDUCATION_TYPE, dtype: int64"
      ]
     },
     "execution_count": 47,
     "metadata": {},
     "output_type": "execute_result"
    }
   ],
   "source": [
    "#Checking for data in NAME_EDUCATION_TYPE column\n",
    "df_creditcard['NAME_EDUCATION_TYPE'].value_counts()"
   ]
  },
  {
   "cell_type": "code",
   "execution_count": 48,
   "metadata": {
    "colab": {
     "base_uri": "https://localhost:8080/",
     "height": 405
    },
    "id": "qUaTvykHgD8W",
    "outputId": "5d7df56b-b7bc-496b-ba5e-f9e7a68f9726"
   },
   "outputs": [
    {
     "data": {
      "image/png": "[encoded data removed]",
      "text/plain": [
       "<Figure size 1368x432 with 1 Axes>"
      ]
     },
     "metadata": {
      "needs_background": "light"
     },
     "output_type": "display_data"
    }
   ],
   "source": [
    "#PLotting visulaization\n",
    "plt.figure(figsize=(19,6))\n",
    "sns.countplot(x='NAME_EDUCATION_TYPE',data=df_creditcard)\n",
    "plt.title('Count based on Education Type')\n",
    "plt.show()"
   ]
  },
  {
   "cell_type": "code",
   "execution_count": 49,
   "metadata": {
    "colab": {
     "base_uri": "https://localhost:8080/"
    },
    "id": "tkn0n9yogGFe",
    "outputId": "cdfa2f9d-a16d-4586-8a71-8e53d766fd8e"
   },
   "outputs": [
    {
     "data": {
      "text/plain": [
       "23020"
      ]
     },
     "execution_count": 49,
     "metadata": {},
     "output_type": "execute_result"
    }
   ],
   "source": [
    "#checking for null values\n",
    "df_creditcard['NAME_EDUCATION_TYPE'].isna().sum()"
   ]
  },
  {
   "cell_type": "code",
   "execution_count": 50,
   "metadata": {
    "id": "fqREH84CgHxN"
   },
   "outputs": [],
   "source": [
    "#Replcing null value with highest Education Type\n",
    "df_creditcard['NAME_EDUCATION_TYPE'].replace(to_replace=np.NaN,value='Secondary / secondary special',inplace=True)"
   ]
  },
  {
   "cell_type": "code",
   "execution_count": 51,
   "metadata": {
    "colab": {
     "base_uri": "https://localhost:8080/",
     "height": 243
    },
    "id": "0i8mnYlIgI9E",
    "outputId": "8151738a-d5b7-402f-f398-bdf897c6d499"
   },
   "outputs": [
    {
     "data": {
      "text/html": [
       "<div>\n",
       "<style scoped>\n",
       "    .dataframe tbody tr th:only-of-type {\n",
       "        vertical-align: middle;\n",
       "    }\n",
       "\n",
       "    .dataframe tbody tr th {\n",
       "        vertical-align: top;\n",
       "    }\n",
       "\n",
       "    .dataframe thead th {\n",
       "        text-align: right;\n",
       "    }\n",
       "</style>\n",
       "<table border=\"1\" class=\"dataframe\">\n",
       "  <thead>\n",
       "    <tr style=\"text-align: right;\">\n",
       "      <th></th>\n",
       "      <th>ID</th>\n",
       "      <th>CODE_GENDER</th>\n",
       "      <th>FLAG_OWN_CAR</th>\n",
       "      <th>FLAG_OWN_REALTY</th>\n",
       "      <th>CNT_CHILDREN</th>\n",
       "      <th>AMT_INCOME_TOTAL</th>\n",
       "      <th>NAME_FAMILY_STATUS</th>\n",
       "      <th>NAME_HOUSING_TYPE</th>\n",
       "      <th>DAYS_BIRTH</th>\n",
       "      <th>DAYS_EMPLOYED</th>\n",
       "      <th>...</th>\n",
       "      <th>NAME_INCOME_TYPE_Commercial associate</th>\n",
       "      <th>NAME_INCOME_TYPE_Pensioner</th>\n",
       "      <th>NAME_INCOME_TYPE_State servant</th>\n",
       "      <th>NAME_INCOME_TYPE_Student</th>\n",
       "      <th>NAME_INCOME_TYPE_Working</th>\n",
       "      <th>NAME_EDUCATION_TYPE_Academic degree</th>\n",
       "      <th>NAME_EDUCATION_TYPE_Higher education</th>\n",
       "      <th>NAME_EDUCATION_TYPE_Incomplete higher</th>\n",
       "      <th>NAME_EDUCATION_TYPE_Lower secondary</th>\n",
       "      <th>NAME_EDUCATION_TYPE_Secondary / secondary special</th>\n",
       "    </tr>\n",
       "  </thead>\n",
       "  <tbody>\n",
       "    <tr>\n",
       "      <th>0</th>\n",
       "      <td>5008804</td>\n",
       "      <td>0</td>\n",
       "      <td>0</td>\n",
       "      <td>1</td>\n",
       "      <td>0.0</td>\n",
       "      <td>427500.0</td>\n",
       "      <td>Civil marriage</td>\n",
       "      <td>Rented apartment</td>\n",
       "      <td>-12005.0</td>\n",
       "      <td>-4542.0</td>\n",
       "      <td>...</td>\n",
       "      <td>0</td>\n",
       "      <td>0</td>\n",
       "      <td>0</td>\n",
       "      <td>0</td>\n",
       "      <td>1</td>\n",
       "      <td>0</td>\n",
       "      <td>1</td>\n",
       "      <td>0</td>\n",
       "      <td>0</td>\n",
       "      <td>0</td>\n",
       "    </tr>\n",
       "    <tr>\n",
       "      <th>1</th>\n",
       "      <td>5008805</td>\n",
       "      <td>0</td>\n",
       "      <td>0</td>\n",
       "      <td>1</td>\n",
       "      <td>0.0</td>\n",
       "      <td>427500.0</td>\n",
       "      <td>Civil marriage</td>\n",
       "      <td>Rented apartment</td>\n",
       "      <td>-12005.0</td>\n",
       "      <td>-4542.0</td>\n",
       "      <td>...</td>\n",
       "      <td>0</td>\n",
       "      <td>0</td>\n",
       "      <td>0</td>\n",
       "      <td>0</td>\n",
       "      <td>1</td>\n",
       "      <td>0</td>\n",
       "      <td>1</td>\n",
       "      <td>0</td>\n",
       "      <td>0</td>\n",
       "      <td>0</td>\n",
       "    </tr>\n",
       "    <tr>\n",
       "      <th>2</th>\n",
       "      <td>5008806</td>\n",
       "      <td>0</td>\n",
       "      <td>0</td>\n",
       "      <td>1</td>\n",
       "      <td>0.0</td>\n",
       "      <td>112500.0</td>\n",
       "      <td>Married</td>\n",
       "      <td>House / apartment</td>\n",
       "      <td>-21474.0</td>\n",
       "      <td>-1134.0</td>\n",
       "      <td>...</td>\n",
       "      <td>0</td>\n",
       "      <td>0</td>\n",
       "      <td>0</td>\n",
       "      <td>0</td>\n",
       "      <td>1</td>\n",
       "      <td>0</td>\n",
       "      <td>0</td>\n",
       "      <td>0</td>\n",
       "      <td>0</td>\n",
       "      <td>1</td>\n",
       "    </tr>\n",
       "    <tr>\n",
       "      <th>3</th>\n",
       "      <td>5008808</td>\n",
       "      <td>1</td>\n",
       "      <td>1</td>\n",
       "      <td>1</td>\n",
       "      <td>0.0</td>\n",
       "      <td>270000.0</td>\n",
       "      <td>Single / not married</td>\n",
       "      <td>House / apartment</td>\n",
       "      <td>-19110.0</td>\n",
       "      <td>-3051.0</td>\n",
       "      <td>...</td>\n",
       "      <td>1</td>\n",
       "      <td>0</td>\n",
       "      <td>0</td>\n",
       "      <td>0</td>\n",
       "      <td>0</td>\n",
       "      <td>0</td>\n",
       "      <td>0</td>\n",
       "      <td>0</td>\n",
       "      <td>0</td>\n",
       "      <td>1</td>\n",
       "    </tr>\n",
       "    <tr>\n",
       "      <th>4</th>\n",
       "      <td>5008809</td>\n",
       "      <td>1</td>\n",
       "      <td>1</td>\n",
       "      <td>1</td>\n",
       "      <td>0.0</td>\n",
       "      <td>270000.0</td>\n",
       "      <td>Single / not married</td>\n",
       "      <td>House / apartment</td>\n",
       "      <td>-19110.0</td>\n",
       "      <td>-3051.0</td>\n",
       "      <td>...</td>\n",
       "      <td>1</td>\n",
       "      <td>0</td>\n",
       "      <td>0</td>\n",
       "      <td>0</td>\n",
       "      <td>0</td>\n",
       "      <td>0</td>\n",
       "      <td>0</td>\n",
       "      <td>0</td>\n",
       "      <td>0</td>\n",
       "      <td>1</td>\n",
       "    </tr>\n",
       "  </tbody>\n",
       "</table>\n",
       "<p>5 rows × 26 columns</p>\n",
       "</div>"
      ],
      "text/plain": [
       "        ID CODE_GENDER  FLAG_OWN_CAR FLAG_OWN_REALTY  CNT_CHILDREN  \\\n",
       "0  5008804           0             0               1           0.0   \n",
       "1  5008805           0             0               1           0.0   \n",
       "2  5008806           0             0               1           0.0   \n",
       "3  5008808           1             1               1           0.0   \n",
       "4  5008809           1             1               1           0.0   \n",
       "\n",
       "   AMT_INCOME_TOTAL    NAME_FAMILY_STATUS  NAME_HOUSING_TYPE  DAYS_BIRTH  \\\n",
       "0          427500.0        Civil marriage   Rented apartment    -12005.0   \n",
       "1          427500.0        Civil marriage   Rented apartment    -12005.0   \n",
       "2          112500.0               Married  House / apartment    -21474.0   \n",
       "3          270000.0  Single / not married  House / apartment    -19110.0   \n",
       "4          270000.0  Single / not married  House / apartment    -19110.0   \n",
       "\n",
       "   DAYS_EMPLOYED  ...  NAME_INCOME_TYPE_Commercial associate  \\\n",
       "0        -4542.0  ...                                      0   \n",
       "1        -4542.0  ...                                      0   \n",
       "2        -1134.0  ...                                      0   \n",
       "3        -3051.0  ...                                      1   \n",
       "4        -3051.0  ...                                      1   \n",
       "\n",
       "   NAME_INCOME_TYPE_Pensioner  NAME_INCOME_TYPE_State servant  \\\n",
       "0                           0                               0   \n",
       "1                           0                               0   \n",
       "2                           0                               0   \n",
       "3                           0                               0   \n",
       "4                           0                               0   \n",
       "\n",
       "   NAME_INCOME_TYPE_Student NAME_INCOME_TYPE_Working  \\\n",
       "0                         0                        1   \n",
       "1                         0                        1   \n",
       "2                         0                        1   \n",
       "3                         0                        0   \n",
       "4                         0                        0   \n",
       "\n",
       "   NAME_EDUCATION_TYPE_Academic degree  NAME_EDUCATION_TYPE_Higher education  \\\n",
       "0                                    0                                     1   \n",
       "1                                    0                                     1   \n",
       "2                                    0                                     0   \n",
       "3                                    0                                     0   \n",
       "4                                    0                                     0   \n",
       "\n",
       "   NAME_EDUCATION_TYPE_Incomplete higher  NAME_EDUCATION_TYPE_Lower secondary  \\\n",
       "0                                      0                                    0   \n",
       "1                                      0                                    0   \n",
       "2                                      0                                    0   \n",
       "3                                      0                                    0   \n",
       "4                                      0                                    0   \n",
       "\n",
       "   NAME_EDUCATION_TYPE_Secondary / secondary special  \n",
       "0                                                  0  \n",
       "1                                                  0  \n",
       "2                                                  1  \n",
       "3                                                  1  \n",
       "4                                                  1  \n",
       "\n",
       "[5 rows x 26 columns]"
      ]
     },
     "execution_count": 51,
     "metadata": {},
     "output_type": "execute_result"
    }
   ],
   "source": [
    "#we use one-hot encoding on NAME_EDUCATION_TYPE<ask akansha if below is right or should we use 0,1,2,3>\n",
    "cols = pd.get_dummies(df_creditcard['NAME_EDUCATION_TYPE'], prefix= 'NAME_EDUCATION_TYPE')\n",
    "df_creditcard[cols.columns] = cols\n",
    "df_creditcard.drop('NAME_EDUCATION_TYPE', axis = 1, inplace = True)\n",
    "df_creditcard.head()"
   ]
  },
  {
   "cell_type": "code",
   "execution_count": 52,
   "metadata": {
    "colab": {
     "base_uri": "https://localhost:8080/"
    },
    "id": "smExV5WTgKH7",
    "outputId": "bd1fa28c-54a9-499f-afe2-44174e960141"
   },
   "outputs": [
    {
     "data": {
      "text/plain": [
       "Married                 284648\n",
       "Single / not married     52723\n",
       "Civil marriage           34583\n",
       "Separated                25811\n",
       "Widow                    18778\n",
       "Name: NAME_FAMILY_STATUS, dtype: int64"
      ]
     },
     "execution_count": 52,
     "metadata": {},
     "output_type": "execute_result"
    }
   ],
   "source": [
    "#Checking for NAME_FAMILY_STATUS columns\n",
    "df_creditcard['NAME_FAMILY_STATUS'].value_counts()"
   ]
  },
  {
   "cell_type": "code",
   "execution_count": 53,
   "metadata": {
    "colab": {
     "base_uri": "https://localhost:8080/",
     "height": 405
    },
    "id": "WKJgAHCCgLfk",
    "outputId": "8432901c-5cd5-4d6e-eba0-5dfdd2d165a5"
   },
   "outputs": [
    {
     "data": {
      "image/png": "[encoded data removed]",
      "text/plain": [
       "<Figure size 1368x432 with 1 Axes>"
      ]
     },
     "metadata": {
      "needs_background": "light"
     },
     "output_type": "display_data"
    }
   ],
   "source": [
    "#Visulization\n",
    "plt.figure(figsize=(19,6))\n",
    "sns.countplot(x='NAME_FAMILY_STATUS',data=df_creditcard)\n",
    "plt.title('Count based on Family Status')\n",
    "plt.show()"
   ]
  },
  {
   "cell_type": "code",
   "execution_count": 54,
   "metadata": {
    "colab": {
     "base_uri": "https://localhost:8080/"
    },
    "id": "hFkoiwixgMVh",
    "outputId": "681cf65a-6a6d-4d58-8d51-c3566f009a68"
   },
   "outputs": [
    {
     "data": {
      "text/plain": [
       "22014"
      ]
     },
     "execution_count": 54,
     "metadata": {},
     "output_type": "execute_result"
    }
   ],
   "source": [
    "#Checking for null values\n",
    "df_creditcard['NAME_FAMILY_STATUS'].isna().sum()"
   ]
  },
  {
   "cell_type": "code",
   "execution_count": 55,
   "metadata": {
    "id": "eaUx3EbHgPCt"
   },
   "outputs": [],
   "source": [
    "#Replcing Null values with highest value- married\n",
    "df_creditcard['NAME_FAMILY_STATUS'].replace(to_replace=np.NaN,value='Married',inplace=True)"
   ]
  },
  {
   "cell_type": "code",
   "execution_count": 56,
   "metadata": {
    "colab": {
     "base_uri": "https://localhost:8080/"
    },
    "id": "VJWA7PgMgQAO",
    "outputId": "d417d1b3-111d-4d51-c72d-8bfd3da37077"
   },
   "outputs": [
    {
     "data": {
      "text/plain": [
       "0"
      ]
     },
     "execution_count": 56,
     "metadata": {},
     "output_type": "execute_result"
    }
   ],
   "source": [
    "#Nulls after substituting\n",
    "df_creditcard['NAME_FAMILY_STATUS'].isna().sum()"
   ]
  },
  {
   "cell_type": "code",
   "execution_count": 57,
   "metadata": {
    "colab": {
     "base_uri": "https://localhost:8080/",
     "height": 243
    },
    "id": "btG7YGP_gRCU",
    "outputId": "312123d8-0e80-4b35-938c-d4c9d928c1fd"
   },
   "outputs": [
    {
     "data": {
      "text/html": [
       "<div>\n",
       "<style scoped>\n",
       "    .dataframe tbody tr th:only-of-type {\n",
       "        vertical-align: middle;\n",
       "    }\n",
       "\n",
       "    .dataframe tbody tr th {\n",
       "        vertical-align: top;\n",
       "    }\n",
       "\n",
       "    .dataframe thead th {\n",
       "        text-align: right;\n",
       "    }\n",
       "</style>\n",
       "<table border=\"1\" class=\"dataframe\">\n",
       "  <thead>\n",
       "    <tr style=\"text-align: right;\">\n",
       "      <th></th>\n",
       "      <th>ID</th>\n",
       "      <th>CODE_GENDER</th>\n",
       "      <th>FLAG_OWN_CAR</th>\n",
       "      <th>FLAG_OWN_REALTY</th>\n",
       "      <th>CNT_CHILDREN</th>\n",
       "      <th>AMT_INCOME_TOTAL</th>\n",
       "      <th>NAME_HOUSING_TYPE</th>\n",
       "      <th>DAYS_BIRTH</th>\n",
       "      <th>DAYS_EMPLOYED</th>\n",
       "      <th>FLAG_MOBIL</th>\n",
       "      <th>...</th>\n",
       "      <th>NAME_EDUCATION_TYPE_Academic degree</th>\n",
       "      <th>NAME_EDUCATION_TYPE_Higher education</th>\n",
       "      <th>NAME_EDUCATION_TYPE_Incomplete higher</th>\n",
       "      <th>NAME_EDUCATION_TYPE_Lower secondary</th>\n",
       "      <th>NAME_EDUCATION_TYPE_Secondary / secondary special</th>\n",
       "      <th>NAME_FAMILY_STATUS_Civil marriage</th>\n",
       "      <th>NAME_FAMILY_STATUS_Married</th>\n",
       "      <th>NAME_FAMILY_STATUS_Separated</th>\n",
       "      <th>NAME_FAMILY_STATUS_Single / not married</th>\n",
       "      <th>NAME_FAMILY_STATUS_Widow</th>\n",
       "    </tr>\n",
       "  </thead>\n",
       "  <tbody>\n",
       "    <tr>\n",
       "      <th>0</th>\n",
       "      <td>5008804</td>\n",
       "      <td>0</td>\n",
       "      <td>0</td>\n",
       "      <td>1</td>\n",
       "      <td>0.0</td>\n",
       "      <td>427500.0</td>\n",
       "      <td>Rented apartment</td>\n",
       "      <td>-12005.0</td>\n",
       "      <td>-4542.0</td>\n",
       "      <td>1.0</td>\n",
       "      <td>...</td>\n",
       "      <td>0</td>\n",
       "      <td>1</td>\n",
       "      <td>0</td>\n",
       "      <td>0</td>\n",
       "      <td>0</td>\n",
       "      <td>1</td>\n",
       "      <td>0</td>\n",
       "      <td>0</td>\n",
       "      <td>0</td>\n",
       "      <td>0</td>\n",
       "    </tr>\n",
       "    <tr>\n",
       "      <th>1</th>\n",
       "      <td>5008805</td>\n",
       "      <td>0</td>\n",
       "      <td>0</td>\n",
       "      <td>1</td>\n",
       "      <td>0.0</td>\n",
       "      <td>427500.0</td>\n",
       "      <td>Rented apartment</td>\n",
       "      <td>-12005.0</td>\n",
       "      <td>-4542.0</td>\n",
       "      <td>1.0</td>\n",
       "      <td>...</td>\n",
       "      <td>0</td>\n",
       "      <td>1</td>\n",
       "      <td>0</td>\n",
       "      <td>0</td>\n",
       "      <td>0</td>\n",
       "      <td>1</td>\n",
       "      <td>0</td>\n",
       "      <td>0</td>\n",
       "      <td>0</td>\n",
       "      <td>0</td>\n",
       "    </tr>\n",
       "    <tr>\n",
       "      <th>2</th>\n",
       "      <td>5008806</td>\n",
       "      <td>0</td>\n",
       "      <td>0</td>\n",
       "      <td>1</td>\n",
       "      <td>0.0</td>\n",
       "      <td>112500.0</td>\n",
       "      <td>House / apartment</td>\n",
       "      <td>-21474.0</td>\n",
       "      <td>-1134.0</td>\n",
       "      <td>1.0</td>\n",
       "      <td>...</td>\n",
       "      <td>0</td>\n",
       "      <td>0</td>\n",
       "      <td>0</td>\n",
       "      <td>0</td>\n",
       "      <td>1</td>\n",
       "      <td>0</td>\n",
       "      <td>1</td>\n",
       "      <td>0</td>\n",
       "      <td>0</td>\n",
       "      <td>0</td>\n",
       "    </tr>\n",
       "    <tr>\n",
       "      <th>3</th>\n",
       "      <td>5008808</td>\n",
       "      <td>1</td>\n",
       "      <td>1</td>\n",
       "      <td>1</td>\n",
       "      <td>0.0</td>\n",
       "      <td>270000.0</td>\n",
       "      <td>House / apartment</td>\n",
       "      <td>-19110.0</td>\n",
       "      <td>-3051.0</td>\n",
       "      <td>1.0</td>\n",
       "      <td>...</td>\n",
       "      <td>0</td>\n",
       "      <td>0</td>\n",
       "      <td>0</td>\n",
       "      <td>0</td>\n",
       "      <td>1</td>\n",
       "      <td>0</td>\n",
       "      <td>0</td>\n",
       "      <td>0</td>\n",
       "      <td>1</td>\n",
       "      <td>0</td>\n",
       "    </tr>\n",
       "    <tr>\n",
       "      <th>4</th>\n",
       "      <td>5008809</td>\n",
       "      <td>1</td>\n",
       "      <td>1</td>\n",
       "      <td>1</td>\n",
       "      <td>0.0</td>\n",
       "      <td>270000.0</td>\n",
       "      <td>House / apartment</td>\n",
       "      <td>-19110.0</td>\n",
       "      <td>-3051.0</td>\n",
       "      <td>1.0</td>\n",
       "      <td>...</td>\n",
       "      <td>0</td>\n",
       "      <td>0</td>\n",
       "      <td>0</td>\n",
       "      <td>0</td>\n",
       "      <td>1</td>\n",
       "      <td>0</td>\n",
       "      <td>0</td>\n",
       "      <td>0</td>\n",
       "      <td>1</td>\n",
       "      <td>0</td>\n",
       "    </tr>\n",
       "  </tbody>\n",
       "</table>\n",
       "<p>5 rows × 30 columns</p>\n",
       "</div>"
      ],
      "text/plain": [
       "        ID CODE_GENDER  FLAG_OWN_CAR FLAG_OWN_REALTY  CNT_CHILDREN  \\\n",
       "0  5008804           0             0               1           0.0   \n",
       "1  5008805           0             0               1           0.0   \n",
       "2  5008806           0             0               1           0.0   \n",
       "3  5008808           1             1               1           0.0   \n",
       "4  5008809           1             1               1           0.0   \n",
       "\n",
       "   AMT_INCOME_TOTAL  NAME_HOUSING_TYPE  DAYS_BIRTH  DAYS_EMPLOYED  FLAG_MOBIL  \\\n",
       "0          427500.0   Rented apartment    -12005.0        -4542.0         1.0   \n",
       "1          427500.0   Rented apartment    -12005.0        -4542.0         1.0   \n",
       "2          112500.0  House / apartment    -21474.0        -1134.0         1.0   \n",
       "3          270000.0  House / apartment    -19110.0        -3051.0         1.0   \n",
       "4          270000.0  House / apartment    -19110.0        -3051.0         1.0   \n",
       "\n",
       "   ...  NAME_EDUCATION_TYPE_Academic degree  \\\n",
       "0  ...                                    0   \n",
       "1  ...                                    0   \n",
       "2  ...                                    0   \n",
       "3  ...                                    0   \n",
       "4  ...                                    0   \n",
       "\n",
       "   NAME_EDUCATION_TYPE_Higher education  \\\n",
       "0                                     1   \n",
       "1                                     1   \n",
       "2                                     0   \n",
       "3                                     0   \n",
       "4                                     0   \n",
       "\n",
       "   NAME_EDUCATION_TYPE_Incomplete higher NAME_EDUCATION_TYPE_Lower secondary  \\\n",
       "0                                      0                                   0   \n",
       "1                                      0                                   0   \n",
       "2                                      0                                   0   \n",
       "3                                      0                                   0   \n",
       "4                                      0                                   0   \n",
       "\n",
       "   NAME_EDUCATION_TYPE_Secondary / secondary special  \\\n",
       "0                                                  0   \n",
       "1                                                  0   \n",
       "2                                                  1   \n",
       "3                                                  1   \n",
       "4                                                  1   \n",
       "\n",
       "   NAME_FAMILY_STATUS_Civil marriage  NAME_FAMILY_STATUS_Married  \\\n",
       "0                                  1                           0   \n",
       "1                                  1                           0   \n",
       "2                                  0                           1   \n",
       "3                                  0                           0   \n",
       "4                                  0                           0   \n",
       "\n",
       "   NAME_FAMILY_STATUS_Separated  NAME_FAMILY_STATUS_Single / not married  \\\n",
       "0                             0                                        0   \n",
       "1                             0                                        0   \n",
       "2                             0                                        0   \n",
       "3                             0                                        1   \n",
       "4                             0                                        1   \n",
       "\n",
       "   NAME_FAMILY_STATUS_Widow  \n",
       "0                         0  \n",
       "1                         0  \n",
       "2                         0  \n",
       "3                         0  \n",
       "4                         0  \n",
       "\n",
       "[5 rows x 30 columns]"
      ]
     },
     "execution_count": 57,
     "metadata": {},
     "output_type": "execute_result"
    }
   ],
   "source": [
    "#we use one-hot encoding on NAME_FAMILY_STATUS\n",
    "cols = pd.get_dummies(df_creditcard['NAME_FAMILY_STATUS'], prefix= 'NAME_FAMILY_STATUS')\n",
    "df_creditcard[cols.columns] = cols\n",
    "df_creditcard.drop('NAME_FAMILY_STATUS', axis = 1, inplace = True)\n",
    "df_creditcard.head()"
   ]
  },
  {
   "cell_type": "code",
   "execution_count": 58,
   "metadata": {
    "colab": {
     "base_uri": "https://localhost:8080/"
    },
    "id": "e_xLCKJUgR-b",
    "outputId": "5b4eeca0-4e6f-44b4-dbf4-fc9e066e44b3"
   },
   "outputs": [
    {
     "data": {
      "text/plain": [
       "House / apartment      372961\n",
       "With parents            18078\n",
       "Municipal apartment     13549\n",
       "Rented apartment         5573\n",
       "Office apartment         3719\n",
       "Co-op apartment          1479\n",
       "Name: NAME_HOUSING_TYPE, dtype: int64"
      ]
     },
     "execution_count": 58,
     "metadata": {},
     "output_type": "execute_result"
    }
   ],
   "source": [
    "#NAME_HOUSING_TYPE column\n",
    "df_creditcard['NAME_HOUSING_TYPE'].value_counts()"
   ]
  },
  {
   "cell_type": "code",
   "execution_count": 59,
   "metadata": {
    "colab": {
     "base_uri": "https://localhost:8080/",
     "height": 405
    },
    "id": "HODEgnTLgTZC",
    "outputId": "03947454-788b-44f7-dc68-f608f43629c0"
   },
   "outputs": [
    {
     "data": {
      "image/png": "[encoded data removed]",
      "text/plain": [
       "<Figure size 1368x432 with 1 Axes>"
      ]
     },
     "metadata": {
      "needs_background": "light"
     },
     "output_type": "display_data"
    }
   ],
   "source": [
    "#Visulization\n",
    "plt.figure(figsize=(19,6))\n",
    "sns.countplot(x='NAME_HOUSING_TYPE',data=df_creditcard)\n",
    "plt.title('Count based on Housing Type')\n",
    "plt.show()"
   ]
  },
  {
   "cell_type": "code",
   "execution_count": 60,
   "metadata": {
    "colab": {
     "base_uri": "https://localhost:8080/"
    },
    "id": "thIk05CbgUmK",
    "outputId": "2dd77e85-d50f-4ca5-9159-1669c0c30477"
   },
   "outputs": [
    {
     "data": {
      "text/plain": [
       "23198"
      ]
     },
     "execution_count": 60,
     "metadata": {},
     "output_type": "execute_result"
    }
   ],
   "source": [
    "# Checking for null values\n",
    "df_creditcard['NAME_HOUSING_TYPE'].isna().sum()"
   ]
  },
  {
   "cell_type": "code",
   "execution_count": 61,
   "metadata": {
    "id": "q01ldaD4gV5d"
   },
   "outputs": [],
   "source": [
    "#Replcing null values with maximum modal value \n",
    "df_creditcard['NAME_HOUSING_TYPE'].replace(to_replace=np.NaN,value='House / apartment',inplace=True)"
   ]
  },
  {
   "cell_type": "code",
   "execution_count": 62,
   "metadata": {
    "colab": {
     "base_uri": "https://localhost:8080/"
    },
    "id": "zfLpTGargX19",
    "outputId": "e5ed432f-f6db-458e-a3c5-ac392e5793e8"
   },
   "outputs": [
    {
     "data": {
      "text/plain": [
       "0"
      ]
     },
     "execution_count": 62,
     "metadata": {},
     "output_type": "execute_result"
    }
   ],
   "source": [
    "# Checking for null values after substituting\n",
    "df_creditcard['NAME_HOUSING_TYPE'].isna().sum()"
   ]
  },
  {
   "cell_type": "code",
   "execution_count": 63,
   "metadata": {
    "colab": {
     "base_uri": "https://localhost:8080/",
     "height": 243
    },
    "id": "hKxMZ_hygY-O",
    "outputId": "37341ac8-2ec4-4cbe-b555-a327b470907a"
   },
   "outputs": [
    {
     "data": {
      "text/html": [
       "<div>\n",
       "<style scoped>\n",
       "    .dataframe tbody tr th:only-of-type {\n",
       "        vertical-align: middle;\n",
       "    }\n",
       "\n",
       "    .dataframe tbody tr th {\n",
       "        vertical-align: top;\n",
       "    }\n",
       "\n",
       "    .dataframe thead th {\n",
       "        text-align: right;\n",
       "    }\n",
       "</style>\n",
       "<table border=\"1\" class=\"dataframe\">\n",
       "  <thead>\n",
       "    <tr style=\"text-align: right;\">\n",
       "      <th></th>\n",
       "      <th>ID</th>\n",
       "      <th>CODE_GENDER</th>\n",
       "      <th>FLAG_OWN_CAR</th>\n",
       "      <th>FLAG_OWN_REALTY</th>\n",
       "      <th>CNT_CHILDREN</th>\n",
       "      <th>AMT_INCOME_TOTAL</th>\n",
       "      <th>DAYS_BIRTH</th>\n",
       "      <th>DAYS_EMPLOYED</th>\n",
       "      <th>FLAG_MOBIL</th>\n",
       "      <th>FLAG_WORK_PHONE</th>\n",
       "      <th>...</th>\n",
       "      <th>NAME_FAMILY_STATUS_Married</th>\n",
       "      <th>NAME_FAMILY_STATUS_Separated</th>\n",
       "      <th>NAME_FAMILY_STATUS_Single / not married</th>\n",
       "      <th>NAME_FAMILY_STATUS_Widow</th>\n",
       "      <th>NAME_HOUSING_TYPE_Co-op apartment</th>\n",
       "      <th>NAME_HOUSING_TYPE_House / apartment</th>\n",
       "      <th>NAME_HOUSING_TYPE_Municipal apartment</th>\n",
       "      <th>NAME_HOUSING_TYPE_Office apartment</th>\n",
       "      <th>NAME_HOUSING_TYPE_Rented apartment</th>\n",
       "      <th>NAME_HOUSING_TYPE_With parents</th>\n",
       "    </tr>\n",
       "  </thead>\n",
       "  <tbody>\n",
       "    <tr>\n",
       "      <th>0</th>\n",
       "      <td>5008804</td>\n",
       "      <td>0</td>\n",
       "      <td>0</td>\n",
       "      <td>1</td>\n",
       "      <td>0.0</td>\n",
       "      <td>427500.0</td>\n",
       "      <td>-12005.0</td>\n",
       "      <td>-4542.0</td>\n",
       "      <td>1.0</td>\n",
       "      <td>1.0</td>\n",
       "      <td>...</td>\n",
       "      <td>0</td>\n",
       "      <td>0</td>\n",
       "      <td>0</td>\n",
       "      <td>0</td>\n",
       "      <td>0</td>\n",
       "      <td>0</td>\n",
       "      <td>0</td>\n",
       "      <td>0</td>\n",
       "      <td>1</td>\n",
       "      <td>0</td>\n",
       "    </tr>\n",
       "    <tr>\n",
       "      <th>1</th>\n",
       "      <td>5008805</td>\n",
       "      <td>0</td>\n",
       "      <td>0</td>\n",
       "      <td>1</td>\n",
       "      <td>0.0</td>\n",
       "      <td>427500.0</td>\n",
       "      <td>-12005.0</td>\n",
       "      <td>-4542.0</td>\n",
       "      <td>1.0</td>\n",
       "      <td>1.0</td>\n",
       "      <td>...</td>\n",
       "      <td>0</td>\n",
       "      <td>0</td>\n",
       "      <td>0</td>\n",
       "      <td>0</td>\n",
       "      <td>0</td>\n",
       "      <td>0</td>\n",
       "      <td>0</td>\n",
       "      <td>0</td>\n",
       "      <td>1</td>\n",
       "      <td>0</td>\n",
       "    </tr>\n",
       "    <tr>\n",
       "      <th>2</th>\n",
       "      <td>5008806</td>\n",
       "      <td>0</td>\n",
       "      <td>0</td>\n",
       "      <td>1</td>\n",
       "      <td>0.0</td>\n",
       "      <td>112500.0</td>\n",
       "      <td>-21474.0</td>\n",
       "      <td>-1134.0</td>\n",
       "      <td>1.0</td>\n",
       "      <td>0.0</td>\n",
       "      <td>...</td>\n",
       "      <td>1</td>\n",
       "      <td>0</td>\n",
       "      <td>0</td>\n",
       "      <td>0</td>\n",
       "      <td>0</td>\n",
       "      <td>1</td>\n",
       "      <td>0</td>\n",
       "      <td>0</td>\n",
       "      <td>0</td>\n",
       "      <td>0</td>\n",
       "    </tr>\n",
       "    <tr>\n",
       "      <th>3</th>\n",
       "      <td>5008808</td>\n",
       "      <td>1</td>\n",
       "      <td>1</td>\n",
       "      <td>1</td>\n",
       "      <td>0.0</td>\n",
       "      <td>270000.0</td>\n",
       "      <td>-19110.0</td>\n",
       "      <td>-3051.0</td>\n",
       "      <td>1.0</td>\n",
       "      <td>0.0</td>\n",
       "      <td>...</td>\n",
       "      <td>0</td>\n",
       "      <td>0</td>\n",
       "      <td>1</td>\n",
       "      <td>0</td>\n",
       "      <td>0</td>\n",
       "      <td>1</td>\n",
       "      <td>0</td>\n",
       "      <td>0</td>\n",
       "      <td>0</td>\n",
       "      <td>0</td>\n",
       "    </tr>\n",
       "    <tr>\n",
       "      <th>4</th>\n",
       "      <td>5008809</td>\n",
       "      <td>1</td>\n",
       "      <td>1</td>\n",
       "      <td>1</td>\n",
       "      <td>0.0</td>\n",
       "      <td>270000.0</td>\n",
       "      <td>-19110.0</td>\n",
       "      <td>-3051.0</td>\n",
       "      <td>1.0</td>\n",
       "      <td>0.0</td>\n",
       "      <td>...</td>\n",
       "      <td>0</td>\n",
       "      <td>0</td>\n",
       "      <td>1</td>\n",
       "      <td>0</td>\n",
       "      <td>0</td>\n",
       "      <td>1</td>\n",
       "      <td>0</td>\n",
       "      <td>0</td>\n",
       "      <td>0</td>\n",
       "      <td>0</td>\n",
       "    </tr>\n",
       "  </tbody>\n",
       "</table>\n",
       "<p>5 rows × 35 columns</p>\n",
       "</div>"
      ],
      "text/plain": [
       "        ID CODE_GENDER  FLAG_OWN_CAR FLAG_OWN_REALTY  CNT_CHILDREN  \\\n",
       "0  5008804           0             0               1           0.0   \n",
       "1  5008805           0             0               1           0.0   \n",
       "2  5008806           0             0               1           0.0   \n",
       "3  5008808           1             1               1           0.0   \n",
       "4  5008809           1             1               1           0.0   \n",
       "\n",
       "   AMT_INCOME_TOTAL  DAYS_BIRTH  DAYS_EMPLOYED  FLAG_MOBIL  FLAG_WORK_PHONE  \\\n",
       "0          427500.0    -12005.0        -4542.0         1.0              1.0   \n",
       "1          427500.0    -12005.0        -4542.0         1.0              1.0   \n",
       "2          112500.0    -21474.0        -1134.0         1.0              0.0   \n",
       "3          270000.0    -19110.0        -3051.0         1.0              0.0   \n",
       "4          270000.0    -19110.0        -3051.0         1.0              0.0   \n",
       "\n",
       "   ...  NAME_FAMILY_STATUS_Married  NAME_FAMILY_STATUS_Separated  \\\n",
       "0  ...                           0                             0   \n",
       "1  ...                           0                             0   \n",
       "2  ...                           1                             0   \n",
       "3  ...                           0                             0   \n",
       "4  ...                           0                             0   \n",
       "\n",
       "  NAME_FAMILY_STATUS_Single / not married  NAME_FAMILY_STATUS_Widow  \\\n",
       "0                                       0                         0   \n",
       "1                                       0                         0   \n",
       "2                                       0                         0   \n",
       "3                                       1                         0   \n",
       "4                                       1                         0   \n",
       "\n",
       "   NAME_HOUSING_TYPE_Co-op apartment  NAME_HOUSING_TYPE_House / apartment  \\\n",
       "0                                  0                                    0   \n",
       "1                                  0                                    0   \n",
       "2                                  0                                    1   \n",
       "3                                  0                                    1   \n",
       "4                                  0                                    1   \n",
       "\n",
       "   NAME_HOUSING_TYPE_Municipal apartment  NAME_HOUSING_TYPE_Office apartment  \\\n",
       "0                                      0                                   0   \n",
       "1                                      0                                   0   \n",
       "2                                      0                                   0   \n",
       "3                                      0                                   0   \n",
       "4                                      0                                   0   \n",
       "\n",
       "   NAME_HOUSING_TYPE_Rented apartment  NAME_HOUSING_TYPE_With parents  \n",
       "0                                   1                               0  \n",
       "1                                   1                               0  \n",
       "2                                   0                               0  \n",
       "3                                   0                               0  \n",
       "4                                   0                               0  \n",
       "\n",
       "[5 rows x 35 columns]"
      ]
     },
     "execution_count": 63,
     "metadata": {},
     "output_type": "execute_result"
    }
   ],
   "source": [
    "#Applying one-hot vector\n",
    "cols = pd.get_dummies(df_creditcard['NAME_HOUSING_TYPE'], prefix= 'NAME_HOUSING_TYPE')\n",
    "df_creditcard[cols.columns] = cols\n",
    "df_creditcard.drop('NAME_HOUSING_TYPE', axis = 1, inplace = True)\n",
    "df_creditcard.head()"
   ]
  },
  {
   "cell_type": "code",
   "execution_count": 64,
   "metadata": {
    "colab": {
     "base_uri": "https://localhost:8080/"
    },
    "id": "CID6Rb0igaCg",
    "outputId": "1ff58b0f-07dd-41a1-96ae-b43633106e43"
   },
   "outputs": [
    {
     "data": {
      "text/plain": [
       "-11707.0    150\n",
       "-14400.0    116\n",
       "-14178.0    116\n",
       "-14055.0    111\n",
       "-20107.0    106\n",
       "           ... \n",
       "-9304.0       1\n",
       "-18399.0      1\n",
       "-8098.0       1\n",
       "-9399.0       1\n",
       "-24802.0      1\n",
       "Name: DAYS_BIRTH, Length: 16331, dtype: int64"
      ]
     },
     "execution_count": 64,
     "metadata": {},
     "output_type": "execute_result"
    }
   ],
   "source": [
    "#Checking for Days_Birth \n",
    "df_creditcard['DAYS_BIRTH'].value_counts()"
   ]
  },
  {
   "cell_type": "code",
   "execution_count": 65,
   "metadata": {
    "colab": {
     "base_uri": "https://localhost:8080/"
    },
    "id": "rTtebCrEgblx",
    "outputId": "2ce9cdc2-0c18-4ed8-f1e4-0e84373c850f"
   },
   "outputs": [
    {
     "data": {
      "text/plain": [
       "21999"
      ]
     },
     "execution_count": 65,
     "metadata": {},
     "output_type": "execute_result"
    }
   ],
   "source": [
    "df_creditcard['DAYS_BIRTH'].isna().sum()"
   ]
  },
  {
   "cell_type": "code",
   "execution_count": 66,
   "metadata": {
    "colab": {
     "base_uri": "https://localhost:8080/",
     "height": 390
    },
    "id": "ESWhWL5Igcxn",
    "outputId": "7ab44da2-c6b0-434a-afa2-beda6f7baa41"
   },
   "outputs": [
    {
     "data": {
      "image/png": "[encoded data removed]",
      "text/plain": [
       "<Figure size 1368x432 with 1 Axes>"
      ]
     },
     "metadata": {
      "needs_background": "light"
     },
     "output_type": "display_data"
    }
   ],
   "source": [
    "#Visalization of DAYS_BIRTH column\n",
    "plt.figure(figsize=(19,6))\n",
    "plt.hist(df_creditcard['DAYS_BIRTH'],bins='sturges')\n",
    "plt.title('Count based Days Birth')\n",
    "plt.show()"
   ]
  },
  {
   "cell_type": "code",
   "execution_count": 67,
   "metadata": {
    "id": "77n7Tv8EgeFS"
   },
   "outputs": [],
   "source": [
    "#Replacing null values with median as data is slightly skewed\n",
    "df_creditcard['DAYS_BIRTH'].replace(to_replace=np.NaN,value=df_creditcard['DAYS_BIRTH'].median(),inplace=True)"
   ]
  },
  {
   "cell_type": "code",
   "execution_count": 68,
   "metadata": {
    "colab": {
     "base_uri": "https://localhost:8080/"
    },
    "id": "UMJ6JwYGgfTf",
    "outputId": "b7432ac4-0570-4f72-e531-157365582843"
   },
   "outputs": [
    {
     "data": {
      "text/plain": [
       "43.0    33951\n",
       "39.0    13347\n",
       "40.0    12559\n",
       "42.0    12286\n",
       "32.0    12125\n",
       "38.0    12070\n",
       "28.0    12060\n",
       "41.0    11957\n",
       "37.0    11863\n",
       "36.0    11764\n",
       "30.0    11704\n",
       "35.0    11617\n",
       "44.0    11541\n",
       "29.0    11501\n",
       "33.0    11454\n",
       "34.0    11285\n",
       "31.0    10787\n",
       "46.0    10271\n",
       "45.0    10169\n",
       "54.0     9985\n",
       "47.0     9712\n",
       "48.0     9510\n",
       "53.0     9372\n",
       "52.0     9347\n",
       "49.0     9342\n",
       "57.0     9280\n",
       "55.0     9278\n",
       "60.0     9207\n",
       "51.0     9193\n",
       "50.0     9015\n",
       "58.0     8794\n",
       "59.0     8737\n",
       "56.0     8643\n",
       "27.0     8394\n",
       "61.0     7949\n",
       "63.0     7418\n",
       "62.0     7259\n",
       "64.0     6444\n",
       "65.0     5408\n",
       "26.0     5171\n",
       "25.0     4373\n",
       "24.0     3379\n",
       "23.0     3154\n",
       "66.0     2361\n",
       "67.0     1543\n",
       "22.0      982\n",
       "68.0      911\n",
       "69.0       55\n",
       "21.0       30\n",
       "Name: YEARS, dtype: int64"
      ]
     },
     "execution_count": 68,
     "metadata": {},
     "output_type": "execute_result"
    }
   ],
   "source": [
    "#Converting DAYS_BIRTH into YEARS\n",
    "df_creditcard['DAYS_BIRTH'] = round(df_creditcard['DAYS_BIRTH']/-365,0)\n",
    "df_creditcard.rename(columns={'DAYS_BIRTH':'YEARS'}, inplace=True)\n",
    "df_creditcard['YEARS'].value_counts()"
   ]
  },
  {
   "cell_type": "code",
   "execution_count": 69,
   "metadata": {
    "colab": {
     "base_uri": "https://localhost:8080/"
    },
    "id": "z5HKIdrMggkJ",
    "outputId": "20731342-6211-4f66-8435-a55d2a13247e"
   },
   "outputs": [
    {
     "data": {
      "text/plain": [
       " 365243.0    71716\n",
       "-218.0         245\n",
       "-1678.0        235\n",
       "-231.0         231\n",
       "-430.0         230\n",
       "             ...  \n",
       "-5793.0          1\n",
       "-6142.0          1\n",
       "-6856.0          1\n",
       "-9466.0          1\n",
       "-14208.0         1\n",
       "Name: DAYS_EMPLOYED, Length: 9302, dtype: int64"
      ]
     },
     "execution_count": 69,
     "metadata": {},
     "output_type": "execute_result"
    }
   ],
   "source": [
    "df_creditcard['DAYS_EMPLOYED'].value_counts()"
   ]
  },
  {
   "cell_type": "code",
   "execution_count": 70,
   "metadata": {
    "id": "q-iNZj7KgiQY"
   },
   "outputs": [],
   "source": [
    "#We have to remove values which are positive,positive values show that they are unemployed\n",
    "#Checking for values greater than 0\n",
    "# Checking unique values greater than 0\n",
    "df_creditcard[df_creditcard['DAYS_EMPLOYED']>0]['DAYS_EMPLOYED'].unique()\n",
    "#replcing with 0\n",
    "df_creditcard['DAYS_EMPLOYED'].replace(365243, 0, inplace=True)\n"
   ]
  },
  {
   "cell_type": "code",
   "execution_count": 71,
   "metadata": {
    "colab": {
     "base_uri": "https://localhost:8080/"
    },
    "id": "qKUjOsCKgjnc",
    "outputId": "bac656c9-d837-41bc-8f5d-fabb2240fee6"
   },
   "outputs": [
    {
     "data": {
      "text/plain": [
       "21636"
      ]
     },
     "execution_count": 71,
     "metadata": {},
     "output_type": "execute_result"
    }
   ],
   "source": [
    "#Checking for null values\n",
    "df_creditcard['DAYS_EMPLOYED'].isna().sum()"
   ]
  },
  {
   "cell_type": "code",
   "execution_count": 72,
   "metadata": {
    "colab": {
     "base_uri": "https://localhost:8080/",
     "height": 390
    },
    "id": "46W03czjgk07",
    "outputId": "3f35d081-bd05-4c8d-c5fd-e4406f6e0dca"
   },
   "outputs": [
    {
     "data": {
      "image/png": "[encoded data removed]",
      "text/plain": [
       "<Figure size 1368x432 with 1 Axes>"
      ]
     },
     "metadata": {
      "needs_background": "light"
     },
     "output_type": "display_data"
    }
   ],
   "source": [
    "#Visalization of DAYS_EMPLOYED column\n",
    "plt.figure(figsize=(19,6))\n",
    "plt.hist(df_creditcard['DAYS_EMPLOYED'],bins='sturges')\n",
    "plt.title('Count based Days Employed')\n",
    "plt.show()"
   ]
  },
  {
   "cell_type": "code",
   "execution_count": 73,
   "metadata": {
    "id": "TkIyYMG0gmHQ"
   },
   "outputs": [],
   "source": [
    "#Replacing null values with median as data is slightly skewed\n",
    "df_creditcard['DAYS_EMPLOYED'].replace(to_replace=np.NaN,value=df_creditcard['DAYS_EMPLOYED'].median(),inplace=True)"
   ]
  },
  {
   "cell_type": "code",
   "execution_count": 74,
   "metadata": {
    "id": "f5IO56KDgnWN"
   },
   "outputs": [],
   "source": [
    "##Converting 'DAYS_EMPLOYED' values from Day to Years\n",
    "df_creditcard['DAYS_EMPLOYED'] = abs(round(df_creditcard['DAYS_EMPLOYED']/-365,0))\n",
    "df_creditcard.rename(columns={'DAYS_EMPLOYED':'YEARS_EMPLOYED'}, inplace=True) "
   ]
  },
  {
   "cell_type": "code",
   "execution_count": 75,
   "metadata": {
    "colab": {
     "base_uri": "https://localhost:8080/",
     "height": 390
    },
    "id": "ESBKpYtqgoQx",
    "outputId": "da9db296-3f15-49da-f0a3-86021a4167b0"
   },
   "outputs": [
    {
     "data": {
      "image/png": "[encoded data removed]",
      "text/plain": [
       "<Figure size 1368x432 with 1 Axes>"
      ]
     },
     "metadata": {
      "needs_background": "light"
     },
     "output_type": "display_data"
    }
   ],
   "source": [
    "#Visulization after converting to years\n",
    "plt.figure(figsize=(19,6))\n",
    "plt.hist(df_creditcard['YEARS_EMPLOYED'],bins='sturges')\n",
    "plt.title('Count based Years Employed')\n",
    "plt.show()"
   ]
  },
  {
   "cell_type": "code",
   "execution_count": 76,
   "metadata": {
    "colab": {
     "base_uri": "https://localhost:8080/"
    },
    "id": "TYWifncQgpPe",
    "outputId": "16f8b4dd-65fe-461d-b3be-726b7dc4066d"
   },
   "outputs": [
    {
     "data": {
      "text/plain": [
       "1.0    416527\n",
       "Name: FLAG_MOBIL, dtype: int64"
      ]
     },
     "execution_count": 76,
     "metadata": {},
     "output_type": "execute_result"
    }
   ],
   "source": [
    "#FLAG_MOBIL Column\n",
    "df_creditcard['FLAG_MOBIL'].value_counts()"
   ]
  },
  {
   "cell_type": "code",
   "execution_count": 77,
   "metadata": {
    "colab": {
     "base_uri": "https://localhost:8080/"
    },
    "id": "dqqvSWiLgrGY",
    "outputId": "85913c40-acfb-49e1-ccb5-1dad65f54f4a"
   },
   "outputs": [
    {
     "data": {
      "text/plain": [
       "22030"
      ]
     },
     "execution_count": 77,
     "metadata": {},
     "output_type": "execute_result"
    }
   ],
   "source": [
    "df_creditcard['FLAG_MOBIL'].isna().sum()"
   ]
  },
  {
   "cell_type": "code",
   "execution_count": 78,
   "metadata": {
    "id": "F57NQCqagtGN"
   },
   "outputs": [],
   "source": [
    "#All the values of this column are 1, so dropping the column all together\n",
    "df_creditcard.drop('FLAG_MOBIL', axis=1, inplace=True)"
   ]
  },
  {
   "cell_type": "code",
   "execution_count": 79,
   "metadata": {
    "colab": {
     "base_uri": "https://localhost:8080/"
    },
    "id": "IOiEt_dvguIn",
    "outputId": "c9a9ef2c-9c8d-4e1a-bade-926ec4f1fc7c"
   },
   "outputs": [
    {
     "data": {
      "text/plain": [
       "0.0    331298\n",
       "1.0     85725\n",
       "Name: FLAG_WORK_PHONE, dtype: int64"
      ]
     },
     "execution_count": 79,
     "metadata": {},
     "output_type": "execute_result"
    }
   ],
   "source": [
    "# FLAG_WORK_PHONE Column\n",
    "df_creditcard['FLAG_WORK_PHONE'].value_counts()"
   ]
  },
  {
   "cell_type": "code",
   "execution_count": 80,
   "metadata": {
    "colab": {
     "base_uri": "https://localhost:8080/",
     "height": 373
    },
    "id": "SJ8zJzVngu71",
    "outputId": "b8829f31-6b83-4ef2-a6a1-5c85d55c3112"
   },
   "outputs": [
    {
     "data": {
      "image/png": "[encoded data removed]",
      "text/plain": [
       "<Figure size 432x432 with 1 Axes>"
      ]
     },
     "metadata": {},
     "output_type": "display_data"
    }
   ],
   "source": [
    "#Visulization of FLAG_WORK_PHONE\n",
    "plt.figure(figsize=(6,6))\n",
    "explode =[0.0, 0.15]\n",
    "plt.pie(df_creditcard['FLAG_WORK_PHONE'].value_counts(), labels=['0', '1'], explode=explode, shadow= 0.2,autopct='%1.2f%%')\n",
    "plt.title('Percentage of Applications submitted based work Phone')\n",
    "plt.show()"
   ]
  },
  {
   "cell_type": "code",
   "execution_count": 81,
   "metadata": {
    "colab": {
     "base_uri": "https://localhost:8080/"
    },
    "id": "CfJ3MHBAgwbx",
    "outputId": "caf79761-59a5-40c9-88a7-592122de8431"
   },
   "outputs": [
    {
     "data": {
      "text/plain": [
       "21534"
      ]
     },
     "execution_count": 81,
     "metadata": {},
     "output_type": "execute_result"
    }
   ],
   "source": [
    "df_creditcard['FLAG_WORK_PHONE'].isna().sum()"
   ]
  },
  {
   "cell_type": "code",
   "execution_count": 82,
   "metadata": {
    "colab": {
     "base_uri": "https://localhost:8080/"
    },
    "id": "auZ12CRTgxKZ",
    "outputId": "dd05d0fe-b701-4ba4-bbed-b793b6328719"
   },
   "outputs": [
    {
     "data": {
      "text/plain": [
       "0"
      ]
     },
     "execution_count": 82,
     "metadata": {},
     "output_type": "execute_result"
    }
   ],
   "source": [
    "#Replcing null values with 0\n",
    "df_creditcard['FLAG_WORK_PHONE'].replace(to_replace=np.NaN,value='0',inplace=True)\n",
    "#Checking values after replcing\n",
    "df_creditcard['FLAG_WORK_PHONE'].isna().sum()"
   ]
  },
  {
   "cell_type": "code",
   "execution_count": 83,
   "metadata": {
    "colab": {
     "base_uri": "https://localhost:8080/"
    },
    "id": "AhH7dZSugxPc",
    "outputId": "444fc227-6021-464c-9dc3-86ef583f4fa9"
   },
   "outputs": [
    {
     "data": {
      "text/plain": [
       "0.0    297661\n",
       "1.0    120076\n",
       "Name: FLAG_PHONE, dtype: int64"
      ]
     },
     "execution_count": 83,
     "metadata": {},
     "output_type": "execute_result"
    }
   ],
   "source": [
    "#FLAG_PHONE\n",
    "df_creditcard['FLAG_PHONE'].value_counts()"
   ]
  },
  {
   "cell_type": "code",
   "execution_count": 84,
   "metadata": {
    "colab": {
     "base_uri": "https://localhost:8080/",
     "height": 536
    },
    "id": "H67cK48wgxSd",
    "outputId": "f30eb223-12f0-4331-8c96-90af41a34234"
   },
   "outputs": [
    {
     "data": {
      "image/png": "[encoded data removed]",
      "text/plain": [
       "<Figure size 648x648 with 1 Axes>"
      ]
     },
     "metadata": {},
     "output_type": "display_data"
    }
   ],
   "source": [
    "#Visulization of FLAG_PHONE\n",
    "plt.figure(figsize=(9,9))\n",
    "explode =[0.0, 0.15]\n",
    "plt.pie(df_creditcard['FLAG_PHONE'].value_counts(), labels=['0', '1'], explode=explode, shadow= 0.2,autopct='%1.2f%%')\n",
    "plt.title('Percentage of Applications submitted based on Phone')\n",
    "plt.show()"
   ]
  },
  {
   "cell_type": "code",
   "execution_count": 85,
   "metadata": {
    "colab": {
     "base_uri": "https://localhost:8080/"
    },
    "id": "BswVZRq6g6ab",
    "outputId": "3f91d8a7-1c0f-47ba-f01a-01d8bd8827f1"
   },
   "outputs": [
    {
     "data": {
      "text/plain": [
       "20820"
      ]
     },
     "execution_count": 85,
     "metadata": {},
     "output_type": "execute_result"
    }
   ],
   "source": [
    "df_creditcard['FLAG_PHONE'].isna().sum()"
   ]
  },
  {
   "cell_type": "code",
   "execution_count": 86,
   "metadata": {
    "colab": {
     "base_uri": "https://localhost:8080/"
    },
    "id": "dIeRxdeEg8fe",
    "outputId": "0564419c-1ef8-4f4d-87c0-a8b5d65628f0"
   },
   "outputs": [
    {
     "data": {
      "text/plain": [
       "0"
      ]
     },
     "execution_count": 86,
     "metadata": {},
     "output_type": "execute_result"
    }
   ],
   "source": [
    "#Replcing null values with 0\n",
    "df_creditcard['FLAG_PHONE'].replace(to_replace=np.NaN,value='0',inplace=True)\n",
    "#Checking values after replcing\n",
    "df_creditcard['FLAG_PHONE'].isna().sum()"
   ]
  },
  {
   "cell_type": "code",
   "execution_count": 87,
   "metadata": {
    "colab": {
     "base_uri": "https://localhost:8080/"
    },
    "id": "Ubr7LAcPg91U",
    "outputId": "7d44d957-a7c4-4087-f841-9ce386fca79f"
   },
   "outputs": [
    {
     "data": {
      "text/plain": [
       "0.0    372529\n",
       "1.0     45374\n",
       "Name: FLAG_EMAIL, dtype: int64"
      ]
     },
     "execution_count": 87,
     "metadata": {},
     "output_type": "execute_result"
    }
   ],
   "source": [
    "#Checking for Email\n",
    "df_creditcard['FLAG_EMAIL'].value_counts()"
   ]
  },
  {
   "cell_type": "code",
   "execution_count": 88,
   "metadata": {
    "colab": {
     "base_uri": "https://localhost:8080/",
     "height": 482
    },
    "id": "obj6pOUUg-3g",
    "outputId": "b17c2727-dfc2-48c4-dfa8-056c98816e1d"
   },
   "outputs": [
    {
     "data": {
      "image/png": "[encoded data removed]",
      "text/plain": [
       "<Figure size 576x576 with 1 Axes>"
      ]
     },
     "metadata": {},
     "output_type": "display_data"
    }
   ],
   "source": [
    "#Visulization of FLAG_EMAIL\n",
    "plt.figure(figsize=(8,8))\n",
    "explode =[0.0, 0.15]\n",
    "plt.pie(df_creditcard['FLAG_EMAIL'].value_counts(), labels=['0', '1'], explode=explode, shadow= 0.2,autopct='%1.2f%%')\n",
    "plt.title('Percentage of Applications submitted based on Email')\n",
    "plt.show()"
   ]
  },
  {
   "cell_type": "code",
   "execution_count": 89,
   "metadata": {
    "colab": {
     "base_uri": "https://localhost:8080/"
    },
    "id": "T-uW5ugQhBxy",
    "outputId": "f7dad1ea-cc13-4e76-abba-9a9c3ce7b402"
   },
   "outputs": [
    {
     "data": {
      "text/plain": [
       "20654"
      ]
     },
     "execution_count": 89,
     "metadata": {},
     "output_type": "execute_result"
    }
   ],
   "source": [
    "df_creditcard['FLAG_EMAIL'].isna().sum()"
   ]
  },
  {
   "cell_type": "code",
   "execution_count": 90,
   "metadata": {
    "colab": {
     "base_uri": "https://localhost:8080/"
    },
    "id": "VcddCvkChDjv",
    "outputId": "183c97c5-6687-41d4-ed7b-33d89583dc53"
   },
   "outputs": [
    {
     "data": {
      "text/plain": [
       "0"
      ]
     },
     "execution_count": 90,
     "metadata": {},
     "output_type": "execute_result"
    }
   ],
   "source": [
    "#Replcing null values with 0\n",
    "df_creditcard['FLAG_EMAIL'].replace(to_replace=np.NaN,value='0',inplace=True)\n",
    "#Checking values after replcing\n",
    "df_creditcard['FLAG_EMAIL'].isna().sum()"
   ]
  },
  {
   "cell_type": "code",
   "execution_count": 91,
   "metadata": {
    "colab": {
     "base_uri": "https://localhost:8080/"
    },
    "id": "zOOoRLFAhEhk",
    "outputId": "eff8b223-9fa2-4597-d90e-ea028d64f07e"
   },
   "outputs": [
    {
     "data": {
      "text/plain": [
       "Laborers                 78151\n",
       "Core staff               42934\n",
       "Sales staff              41000\n",
       "Managers                 35406\n",
       "Drivers                  26073\n",
       "High skill tech staff    17253\n",
       "Accountants              15939\n",
       "Medicine staff           13512\n",
       "Cooking staff             8055\n",
       "Security staff            7979\n",
       "Cleaning staff            5839\n",
       "Private service staff     3456\n",
       "Low-skill Laborers        2140\n",
       "Secretaries               2043\n",
       "Waiters/barmen staff      1654\n",
       "Realty agents             1041\n",
       "HR staff                   774\n",
       "IT staff                   583\n",
       "Name: OCCUPATION_TYPE, dtype: int64"
      ]
     },
     "execution_count": 91,
     "metadata": {},
     "output_type": "execute_result"
    }
   ],
   "source": [
    "#OCCUPATION_TYPE column\n",
    "df_creditcard['OCCUPATION_TYPE'].value_counts()"
   ]
  },
  {
   "cell_type": "code",
   "execution_count": 92,
   "metadata": {
    "colab": {
     "base_uri": "https://localhost:8080/"
    },
    "id": "jtD9FlAXhFko",
    "outputId": "f2987fe3-8297-42f2-cd01-7583051a0a21"
   },
   "outputs": [
    {
     "data": {
      "text/plain": [
       "134725"
      ]
     },
     "execution_count": 92,
     "metadata": {},
     "output_type": "execute_result"
    }
   ],
   "source": [
    "df_creditcard['OCCUPATION_TYPE'].isna().sum()"
   ]
  },
  {
   "cell_type": "code",
   "execution_count": 93,
   "metadata": {
    "colab": {
     "base_uri": "https://localhost:8080/"
    },
    "id": "nRn4oiSzhGyH",
    "outputId": "c42f7430-9bf7-4577-861c-75b7006714bb"
   },
   "outputs": [
    {
     "name": "stdout",
     "output_type": "stream",
     "text": [
      "Missing % 30.72006603474577\n"
     ]
    }
   ],
   "source": [
    "#Percentage of missing values in occupation type \n",
    "print(\"Missing %\",(df_creditcard['OCCUPATION_TYPE'].isna().sum()/df_creditcard.shape[0]*100))"
   ]
  },
  {
   "cell_type": "code",
   "execution_count": 94,
   "metadata": {
    "id": "OOJk51lChHsD"
   },
   "outputs": [],
   "source": [
    "# we are dropping the column OCCUPATION_TYPE as the column values are little less significant when comes to determinin if a person is defaulter.\n",
    "df_creditcard.drop('OCCUPATION_TYPE', axis=1, inplace=True)"
   ]
  },
  {
   "cell_type": "code",
   "execution_count": 95,
   "metadata": {
    "colab": {
     "base_uri": "https://localhost:8080/"
    },
    "id": "9Bz5tFzdhIgz",
    "outputId": "d3c694b9-6d01-471b-b91f-a6b57da59628"
   },
   "outputs": [
    {
     "data": {
      "text/plain": [
       "2     233891\n",
       "1      84492\n",
       "3      77128\n",
       "4      37356\n",
       "5       5081\n",
       "6        459\n",
       "7        124\n",
       "9          9\n",
       "11         5\n",
       "14         4\n",
       "8          4\n",
       "15         3\n",
       "20         1\n",
       "Name: CNT_FAM_MEMBERS, dtype: int64"
      ]
     },
     "execution_count": 95,
     "metadata": {},
     "output_type": "execute_result"
    }
   ],
   "source": [
    "#CNT_FAM_MEMBERS column\n",
    "df_creditcard['CNT_FAM_MEMBERS'].value_counts()"
   ]
  },
  {
   "cell_type": "code",
   "execution_count": 96,
   "metadata": {
    "colab": {
     "base_uri": "https://localhost:8080/"
    },
    "id": "f4sftlbvhJow",
    "outputId": "fb37b969-adc1-43ad-9eff-1510b9533ef8"
   },
   "outputs": [
    {
     "data": {
      "text/plain": [
       "0"
      ]
     },
     "execution_count": 96,
     "metadata": {},
     "output_type": "execute_result"
    }
   ],
   "source": [
    "#Checking for missing values- no missing values\n",
    "df_creditcard['CNT_FAM_MEMBERS'].isna().sum()"
   ]
  },
  {
   "cell_type": "code",
   "execution_count": 97,
   "metadata": {
    "colab": {
     "base_uri": "https://localhost:8080/"
    },
    "id": "gQKtssdihK8t",
    "outputId": "72cd6e7f-f38f-4b5c-c9fc-50ea9b94c2c3"
   },
   "outputs": [
    {
     "data": {
      "text/plain": [
       "ID                                                   0\n",
       "CODE_GENDER                                          0\n",
       "FLAG_OWN_CAR                                         0\n",
       "FLAG_OWN_REALTY                                      0\n",
       "CNT_CHILDREN                                         0\n",
       "AMT_INCOME_TOTAL                                     0\n",
       "YEARS                                                0\n",
       "YEARS_EMPLOYED                                       0\n",
       "FLAG_WORK_PHONE                                      0\n",
       "FLAG_PHONE                                           0\n",
       "FLAG_EMAIL                                           0\n",
       "CNT_FAM_MEMBERS                                      0\n",
       "NAME_INCOME_TYPE_Commercial associate                0\n",
       "NAME_INCOME_TYPE_Pensioner                           0\n",
       "NAME_INCOME_TYPE_State servant                       0\n",
       "NAME_INCOME_TYPE_Student                             0\n",
       "NAME_INCOME_TYPE_Working                             0\n",
       "NAME_EDUCATION_TYPE_Academic degree                  0\n",
       "NAME_EDUCATION_TYPE_Higher education                 0\n",
       "NAME_EDUCATION_TYPE_Incomplete higher                0\n",
       "NAME_EDUCATION_TYPE_Lower secondary                  0\n",
       "NAME_EDUCATION_TYPE_Secondary / secondary special    0\n",
       "NAME_FAMILY_STATUS_Civil marriage                    0\n",
       "NAME_FAMILY_STATUS_Married                           0\n",
       "NAME_FAMILY_STATUS_Separated                         0\n",
       "NAME_FAMILY_STATUS_Single / not married              0\n",
       "NAME_FAMILY_STATUS_Widow                             0\n",
       "NAME_HOUSING_TYPE_Co-op apartment                    0\n",
       "NAME_HOUSING_TYPE_House / apartment                  0\n",
       "NAME_HOUSING_TYPE_Municipal apartment                0\n",
       "NAME_HOUSING_TYPE_Office apartment                   0\n",
       "NAME_HOUSING_TYPE_Rented apartment                   0\n",
       "NAME_HOUSING_TYPE_With parents                       0\n",
       "dtype: int64"
      ]
     },
     "execution_count": 97,
     "metadata": {},
     "output_type": "execute_result"
    }
   ],
   "source": [
    "df_creditcard.isna().sum()"
   ]
  },
  {
   "cell_type": "code",
   "execution_count": 98,
   "metadata": {
    "colab": {
     "base_uri": "https://localhost:8080/"
    },
    "id": "V2CT15FAhMNY",
    "outputId": "07ed7bf5-2f52-4d0e-8335-1b601195e7c1"
   },
   "outputs": [
    {
     "data": {
      "text/plain": [
       "(1048575, 3)"
      ]
     },
     "execution_count": 98,
     "metadata": {},
     "output_type": "execute_result"
    }
   ],
   "source": [
    "#Now working on df_cardrecord\n",
    "df_cardrecord.shape"
   ]
  },
  {
   "cell_type": "code",
   "execution_count": 99,
   "metadata": {
    "colab": {
     "base_uri": "https://localhost:8080/",
     "height": 206
    },
    "id": "T8Me52MdhNfd",
    "outputId": "922422d6-e158-476c-9444-d4d268c5966e"
   },
   "outputs": [
    {
     "data": {
      "text/html": [
       "<div>\n",
       "<style scoped>\n",
       "    .dataframe tbody tr th:only-of-type {\n",
       "        vertical-align: middle;\n",
       "    }\n",
       "\n",
       "    .dataframe tbody tr th {\n",
       "        vertical-align: top;\n",
       "    }\n",
       "\n",
       "    .dataframe thead th {\n",
       "        text-align: right;\n",
       "    }\n",
       "</style>\n",
       "<table border=\"1\" class=\"dataframe\">\n",
       "  <thead>\n",
       "    <tr style=\"text-align: right;\">\n",
       "      <th></th>\n",
       "      <th>ID</th>\n",
       "      <th>MONTHS_BALANCE</th>\n",
       "      <th>STATUS</th>\n",
       "    </tr>\n",
       "  </thead>\n",
       "  <tbody>\n",
       "    <tr>\n",
       "      <th>0</th>\n",
       "      <td>5001711</td>\n",
       "      <td>0</td>\n",
       "      <td>X</td>\n",
       "    </tr>\n",
       "    <tr>\n",
       "      <th>1</th>\n",
       "      <td>5001711</td>\n",
       "      <td>-1</td>\n",
       "      <td>0</td>\n",
       "    </tr>\n",
       "    <tr>\n",
       "      <th>2</th>\n",
       "      <td>5001711</td>\n",
       "      <td>-2</td>\n",
       "      <td>0</td>\n",
       "    </tr>\n",
       "    <tr>\n",
       "      <th>3</th>\n",
       "      <td>5001711</td>\n",
       "      <td>-3</td>\n",
       "      <td>0</td>\n",
       "    </tr>\n",
       "    <tr>\n",
       "      <th>4</th>\n",
       "      <td>5001712</td>\n",
       "      <td>0</td>\n",
       "      <td>C</td>\n",
       "    </tr>\n",
       "  </tbody>\n",
       "</table>\n",
       "</div>"
      ],
      "text/plain": [
       "        ID  MONTHS_BALANCE STATUS\n",
       "0  5001711               0      X\n",
       "1  5001711              -1      0\n",
       "2  5001711              -2      0\n",
       "3  5001711              -3      0\n",
       "4  5001712               0      C"
      ]
     },
     "execution_count": 99,
     "metadata": {},
     "output_type": "execute_result"
    }
   ],
   "source": [
    "df_cardrecord.head()"
   ]
  },
  {
   "cell_type": "code",
   "execution_count": 100,
   "metadata": {
    "colab": {
     "base_uri": "https://localhost:8080/"
    },
    "id": "kordJIh5hOZu",
    "outputId": "347f42bb-adeb-437b-8e2b-54fa8f8af9f7"
   },
   "outputs": [
    {
     "data": {
      "text/plain": [
       "ID                0\n",
       "MONTHS_BALANCE    0\n",
       "STATUS            0\n",
       "dtype: int64"
      ]
     },
     "execution_count": 100,
     "metadata": {},
     "output_type": "execute_result"
    }
   ],
   "source": [
    "#Checking for nulls\n",
    "df_cardrecord.isnull().sum()"
   ]
  },
  {
   "cell_type": "code",
   "execution_count": 101,
   "metadata": {
    "colab": {
     "base_uri": "https://localhost:8080/"
    },
    "id": "s0bFfbNehP5b",
    "outputId": "3410a084-be06-427c-cca6-9dc6d3b98a56"
   },
   "outputs": [
    {
     "data": {
      "text/plain": [
       "C    442031\n",
       "0    383120\n",
       "X    209230\n",
       "1     11090\n",
       "5      1693\n",
       "2       868\n",
       "3       320\n",
       "4       223\n",
       "Name: STATUS, dtype: int64"
      ]
     },
     "execution_count": 101,
     "metadata": {},
     "output_type": "execute_result"
    }
   ],
   "source": [
    "#Checking the Status column\n",
    "df_cardrecord['STATUS'].value_counts()"
   ]
  },
  {
   "cell_type": "code",
   "execution_count": 102,
   "metadata": {
    "colab": {
     "base_uri": "https://localhost:8080/"
    },
    "id": "1brQk1_OhQs2",
    "outputId": "9de2ff36-e931-4123-e588-3ce9dffaf88a"
   },
   "outputs": [
    {
     "data": {
      "text/plain": [
       "0    98.646353\n",
       "1     1.353647\n",
       "Name: STATUS, dtype: float64"
      ]
     },
     "execution_count": 102,
     "metadata": {},
     "output_type": "execute_result"
    }
   ],
   "source": [
    "#Let's Assume that 0: Good Client and 1: Bad client\n",
    "df_cardrecord['STATUS'].replace(['C', 'X'],0, inplace=True)\n",
    "df_cardrecord['STATUS'].replace(['2','3','4','5'],1, inplace=True)\n",
    "df_cardrecord['STATUS'] = df_cardrecord['STATUS'].astype('int')\n",
    "df_cardrecord['STATUS'].value_counts(normalize=True)*100"
   ]
  },
  {
   "cell_type": "code",
   "execution_count": 103,
   "metadata": {
    "id": "WxtVaGRJhSSv"
   },
   "outputs": [],
   "source": [
    "#Grouping by column and storing in another dataframe\n",
    "df_cardrecord_trans = df_cardrecord.groupby('ID').agg(max).reset_index()"
   ]
  },
  {
   "cell_type": "code",
   "execution_count": 104,
   "metadata": {
    "colab": {
     "base_uri": "https://localhost:8080/",
     "height": 206
    },
    "id": "5pcgM2PJhTZ_",
    "outputId": "4365b924-9d15-454b-9386-abe2cdb54484"
   },
   "outputs": [
    {
     "data": {
      "text/html": [
       "<div>\n",
       "<style scoped>\n",
       "    .dataframe tbody tr th:only-of-type {\n",
       "        vertical-align: middle;\n",
       "    }\n",
       "\n",
       "    .dataframe tbody tr th {\n",
       "        vertical-align: top;\n",
       "    }\n",
       "\n",
       "    .dataframe thead th {\n",
       "        text-align: right;\n",
       "    }\n",
       "</style>\n",
       "<table border=\"1\" class=\"dataframe\">\n",
       "  <thead>\n",
       "    <tr style=\"text-align: right;\">\n",
       "      <th></th>\n",
       "      <th>ID</th>\n",
       "      <th>STATUS</th>\n",
       "    </tr>\n",
       "  </thead>\n",
       "  <tbody>\n",
       "    <tr>\n",
       "      <th>0</th>\n",
       "      <td>5001711</td>\n",
       "      <td>0</td>\n",
       "    </tr>\n",
       "    <tr>\n",
       "      <th>1</th>\n",
       "      <td>5001712</td>\n",
       "      <td>0</td>\n",
       "    </tr>\n",
       "    <tr>\n",
       "      <th>2</th>\n",
       "      <td>5001713</td>\n",
       "      <td>0</td>\n",
       "    </tr>\n",
       "    <tr>\n",
       "      <th>3</th>\n",
       "      <td>5001714</td>\n",
       "      <td>0</td>\n",
       "    </tr>\n",
       "    <tr>\n",
       "      <th>4</th>\n",
       "      <td>5001715</td>\n",
       "      <td>0</td>\n",
       "    </tr>\n",
       "  </tbody>\n",
       "</table>\n",
       "</div>"
      ],
      "text/plain": [
       "        ID  STATUS\n",
       "0  5001711       0\n",
       "1  5001712       0\n",
       "2  5001713       0\n",
       "3  5001714       0\n",
       "4  5001715       0"
      ]
     },
     "execution_count": 104,
     "metadata": {},
     "output_type": "execute_result"
    }
   ],
   "source": [
    "#we are dropping the month balance\n",
    "df_cardrecord_trans.drop('MONTHS_BALANCE', axis=1, inplace=True)\n",
    "df_cardrecord_trans.head()"
   ]
  },
  {
   "cell_type": "code",
   "execution_count": 105,
   "metadata": {
    "colab": {
     "base_uri": "https://localhost:8080/"
    },
    "id": "lk7lH1j4hUVJ",
    "outputId": "55ea4b7b-bcfd-425d-d4fa-70675bdeff01"
   },
   "outputs": [
    {
     "data": {
      "text/plain": [
       "0    88.365771\n",
       "1    11.634229\n",
       "Name: STATUS, dtype: float64"
      ]
     },
     "execution_count": 105,
     "metadata": {},
     "output_type": "execute_result"
    }
   ],
   "source": [
    "#Normalizing Status column\n",
    "df_cardrecord_trans['STATUS'].value_counts(normalize=True)*100"
   ]
  },
  {
   "cell_type": "code",
   "execution_count": 106,
   "metadata": {
    "colab": {
     "base_uri": "https://localhost:8080/",
     "height": 243
    },
    "id": "DRMY48nVhV9q",
    "outputId": "96ff5e47-68f4-4e1e-a238-cf548a3ddd68"
   },
   "outputs": [
    {
     "data": {
      "text/html": [
       "<div>\n",
       "<style scoped>\n",
       "    .dataframe tbody tr th:only-of-type {\n",
       "        vertical-align: middle;\n",
       "    }\n",
       "\n",
       "    .dataframe tbody tr th {\n",
       "        vertical-align: top;\n",
       "    }\n",
       "\n",
       "    .dataframe thead th {\n",
       "        text-align: right;\n",
       "    }\n",
       "</style>\n",
       "<table border=\"1\" class=\"dataframe\">\n",
       "  <thead>\n",
       "    <tr style=\"text-align: right;\">\n",
       "      <th></th>\n",
       "      <th>ID</th>\n",
       "      <th>CODE_GENDER</th>\n",
       "      <th>FLAG_OWN_CAR</th>\n",
       "      <th>FLAG_OWN_REALTY</th>\n",
       "      <th>CNT_CHILDREN</th>\n",
       "      <th>AMT_INCOME_TOTAL</th>\n",
       "      <th>YEARS</th>\n",
       "      <th>YEARS_EMPLOYED</th>\n",
       "      <th>FLAG_WORK_PHONE</th>\n",
       "      <th>FLAG_PHONE</th>\n",
       "      <th>...</th>\n",
       "      <th>NAME_FAMILY_STATUS_Separated</th>\n",
       "      <th>NAME_FAMILY_STATUS_Single / not married</th>\n",
       "      <th>NAME_FAMILY_STATUS_Widow</th>\n",
       "      <th>NAME_HOUSING_TYPE_Co-op apartment</th>\n",
       "      <th>NAME_HOUSING_TYPE_House / apartment</th>\n",
       "      <th>NAME_HOUSING_TYPE_Municipal apartment</th>\n",
       "      <th>NAME_HOUSING_TYPE_Office apartment</th>\n",
       "      <th>NAME_HOUSING_TYPE_Rented apartment</th>\n",
       "      <th>NAME_HOUSING_TYPE_With parents</th>\n",
       "      <th>STATUS</th>\n",
       "    </tr>\n",
       "  </thead>\n",
       "  <tbody>\n",
       "    <tr>\n",
       "      <th>0</th>\n",
       "      <td>5008804</td>\n",
       "      <td>0</td>\n",
       "      <td>0</td>\n",
       "      <td>1</td>\n",
       "      <td>0.0</td>\n",
       "      <td>427500.0</td>\n",
       "      <td>33.0</td>\n",
       "      <td>12.0</td>\n",
       "      <td>1.0</td>\n",
       "      <td>0.0</td>\n",
       "      <td>...</td>\n",
       "      <td>0</td>\n",
       "      <td>0</td>\n",
       "      <td>0</td>\n",
       "      <td>0</td>\n",
       "      <td>0</td>\n",
       "      <td>0</td>\n",
       "      <td>0</td>\n",
       "      <td>1</td>\n",
       "      <td>0</td>\n",
       "      <td>1</td>\n",
       "    </tr>\n",
       "    <tr>\n",
       "      <th>1</th>\n",
       "      <td>5008805</td>\n",
       "      <td>0</td>\n",
       "      <td>0</td>\n",
       "      <td>1</td>\n",
       "      <td>0.0</td>\n",
       "      <td>427500.0</td>\n",
       "      <td>33.0</td>\n",
       "      <td>12.0</td>\n",
       "      <td>1.0</td>\n",
       "      <td>0.0</td>\n",
       "      <td>...</td>\n",
       "      <td>0</td>\n",
       "      <td>0</td>\n",
       "      <td>0</td>\n",
       "      <td>0</td>\n",
       "      <td>0</td>\n",
       "      <td>0</td>\n",
       "      <td>0</td>\n",
       "      <td>1</td>\n",
       "      <td>0</td>\n",
       "      <td>1</td>\n",
       "    </tr>\n",
       "    <tr>\n",
       "      <th>2</th>\n",
       "      <td>5008806</td>\n",
       "      <td>0</td>\n",
       "      <td>0</td>\n",
       "      <td>1</td>\n",
       "      <td>0.0</td>\n",
       "      <td>112500.0</td>\n",
       "      <td>59.0</td>\n",
       "      <td>3.0</td>\n",
       "      <td>0.0</td>\n",
       "      <td>0.0</td>\n",
       "      <td>...</td>\n",
       "      <td>0</td>\n",
       "      <td>0</td>\n",
       "      <td>0</td>\n",
       "      <td>0</td>\n",
       "      <td>1</td>\n",
       "      <td>0</td>\n",
       "      <td>0</td>\n",
       "      <td>0</td>\n",
       "      <td>0</td>\n",
       "      <td>0</td>\n",
       "    </tr>\n",
       "    <tr>\n",
       "      <th>3</th>\n",
       "      <td>5008808</td>\n",
       "      <td>1</td>\n",
       "      <td>1</td>\n",
       "      <td>1</td>\n",
       "      <td>0.0</td>\n",
       "      <td>270000.0</td>\n",
       "      <td>52.0</td>\n",
       "      <td>8.0</td>\n",
       "      <td>0.0</td>\n",
       "      <td>1.0</td>\n",
       "      <td>...</td>\n",
       "      <td>0</td>\n",
       "      <td>1</td>\n",
       "      <td>0</td>\n",
       "      <td>0</td>\n",
       "      <td>1</td>\n",
       "      <td>0</td>\n",
       "      <td>0</td>\n",
       "      <td>0</td>\n",
       "      <td>0</td>\n",
       "      <td>0</td>\n",
       "    </tr>\n",
       "    <tr>\n",
       "      <th>4</th>\n",
       "      <td>5008809</td>\n",
       "      <td>1</td>\n",
       "      <td>1</td>\n",
       "      <td>1</td>\n",
       "      <td>0.0</td>\n",
       "      <td>270000.0</td>\n",
       "      <td>52.0</td>\n",
       "      <td>8.0</td>\n",
       "      <td>0.0</td>\n",
       "      <td>1.0</td>\n",
       "      <td>...</td>\n",
       "      <td>0</td>\n",
       "      <td>1</td>\n",
       "      <td>0</td>\n",
       "      <td>0</td>\n",
       "      <td>1</td>\n",
       "      <td>0</td>\n",
       "      <td>0</td>\n",
       "      <td>0</td>\n",
       "      <td>0</td>\n",
       "      <td>0</td>\n",
       "    </tr>\n",
       "  </tbody>\n",
       "</table>\n",
       "<p>5 rows × 34 columns</p>\n",
       "</div>"
      ],
      "text/plain": [
       "        ID CODE_GENDER  FLAG_OWN_CAR FLAG_OWN_REALTY  CNT_CHILDREN  \\\n",
       "0  5008804           0             0               1           0.0   \n",
       "1  5008805           0             0               1           0.0   \n",
       "2  5008806           0             0               1           0.0   \n",
       "3  5008808           1             1               1           0.0   \n",
       "4  5008809           1             1               1           0.0   \n",
       "\n",
       "   AMT_INCOME_TOTAL  YEARS  YEARS_EMPLOYED FLAG_WORK_PHONE FLAG_PHONE  ...  \\\n",
       "0          427500.0   33.0            12.0             1.0        0.0  ...   \n",
       "1          427500.0   33.0            12.0             1.0        0.0  ...   \n",
       "2          112500.0   59.0             3.0             0.0        0.0  ...   \n",
       "3          270000.0   52.0             8.0             0.0        1.0  ...   \n",
       "4          270000.0   52.0             8.0             0.0        1.0  ...   \n",
       "\n",
       "  NAME_FAMILY_STATUS_Separated  NAME_FAMILY_STATUS_Single / not married  \\\n",
       "0                            0                                        0   \n",
       "1                            0                                        0   \n",
       "2                            0                                        0   \n",
       "3                            0                                        1   \n",
       "4                            0                                        1   \n",
       "\n",
       "   NAME_FAMILY_STATUS_Widow  NAME_HOUSING_TYPE_Co-op apartment  \\\n",
       "0                         0                                  0   \n",
       "1                         0                                  0   \n",
       "2                         0                                  0   \n",
       "3                         0                                  0   \n",
       "4                         0                                  0   \n",
       "\n",
       "   NAME_HOUSING_TYPE_House / apartment  NAME_HOUSING_TYPE_Municipal apartment  \\\n",
       "0                                    0                                      0   \n",
       "1                                    0                                      0   \n",
       "2                                    1                                      0   \n",
       "3                                    1                                      0   \n",
       "4                                    1                                      0   \n",
       "\n",
       "   NAME_HOUSING_TYPE_Office apartment  NAME_HOUSING_TYPE_Rented apartment  \\\n",
       "0                                   0                                   1   \n",
       "1                                   0                                   1   \n",
       "2                                   0                                   0   \n",
       "3                                   0                                   0   \n",
       "4                                   0                                   0   \n",
       "\n",
       "   NAME_HOUSING_TYPE_With parents  STATUS  \n",
       "0                               0       1  \n",
       "1                               0       1  \n",
       "2                               0       0  \n",
       "3                               0       0  \n",
       "4                               0       0  \n",
       "\n",
       "[5 rows x 34 columns]"
      ]
     },
     "execution_count": 106,
     "metadata": {},
     "output_type": "execute_result"
    }
   ],
   "source": [
    "#Now merging both the dataframes on ID using Inner Join\n",
    "df_classification = pd.merge(df_creditcard, df_cardrecord_trans, on='ID', how='inner')\n",
    "df_classification.head()"
   ]
  },
  {
   "cell_type": "code",
   "execution_count": 107,
   "metadata": {
    "colab": {
     "base_uri": "https://localhost:8080/"
    },
    "id": "feHE4CGUhW4X",
    "outputId": "a538697e-8b9c-4773-90b9-d655ddec9e25"
   },
   "outputs": [
    {
     "name": "stdout",
     "output_type": "stream",
     "text": [
      "Number of rows after merging 36457\n",
      "Number of Columns after merging 34\n"
     ]
    }
   ],
   "source": [
    "#Checking the number of rows and columns after merging\n",
    "print(\"Number of rows after merging\",df_classification.shape[0])\n",
    "print(\"Number of Columns after merging\",df_classification.shape[1])"
   ]
  },
  {
   "cell_type": "code",
   "execution_count": 108,
   "metadata": {
    "id": "3JZ_6EjYhYSN"
   },
   "outputs": [],
   "source": [
    "#We are dropping ID as they are unique values \n",
    "df_classification.drop('ID',axis=1, inplace=True)"
   ]
  },
  {
   "cell_type": "code",
   "execution_count": 109,
   "metadata": {
    "colab": {
     "base_uri": "https://localhost:8080/"
    },
    "id": "sXd0bs7YhZWl",
    "outputId": "0ad42e1e-90f0-4acb-9b28-f3645e652a0c"
   },
   "outputs": [
    {
     "data": {
      "text/plain": [
       "26109"
      ]
     },
     "execution_count": 109,
     "metadata": {},
     "output_type": "execute_result"
    }
   ],
   "source": [
    "#Checking if there are any duplicates\n",
    "len(df_classification) - len(df_classification.drop_duplicates())"
   ]
  },
  {
   "cell_type": "code",
   "execution_count": 110,
   "metadata": {
    "colab": {
     "base_uri": "https://localhost:8080/"
    },
    "id": "nX-CkoxNhaWu",
    "outputId": "3c582254-b461-46a3-f16d-5ca1b61b0c72"
   },
   "outputs": [
    {
     "data": {
      "text/plain": [
       "(10348, 33)"
      ]
     },
     "execution_count": 110,
     "metadata": {},
     "output_type": "execute_result"
    }
   ],
   "source": [
    "#Dropping duplicate records and checking shape\n",
    "df_classification = df_classification.drop_duplicates()\n",
    "df_classification.reset_index(drop=True ,inplace=True)\n",
    "df_classification.shape"
   ]
  },
  {
   "cell_type": "code",
   "execution_count": 111,
   "metadata": {
    "colab": {
     "base_uri": "https://localhost:8080/"
    },
    "id": "KCqNFkLfhbpY",
    "outputId": "70b1be50-0662-4923-8f91-8eed7c4b9cdc"
   },
   "outputs": [
    {
     "data": {
      "text/plain": [
       "CODE_GENDER                                          0\n",
       "FLAG_OWN_CAR                                         0\n",
       "FLAG_OWN_REALTY                                      0\n",
       "CNT_CHILDREN                                         0\n",
       "AMT_INCOME_TOTAL                                     0\n",
       "YEARS                                                0\n",
       "YEARS_EMPLOYED                                       0\n",
       "FLAG_WORK_PHONE                                      0\n",
       "FLAG_PHONE                                           0\n",
       "FLAG_EMAIL                                           0\n",
       "CNT_FAM_MEMBERS                                      0\n",
       "NAME_INCOME_TYPE_Commercial associate                0\n",
       "NAME_INCOME_TYPE_Pensioner                           0\n",
       "NAME_INCOME_TYPE_State servant                       0\n",
       "NAME_INCOME_TYPE_Student                             0\n",
       "NAME_INCOME_TYPE_Working                             0\n",
       "NAME_EDUCATION_TYPE_Academic degree                  0\n",
       "NAME_EDUCATION_TYPE_Higher education                 0\n",
       "NAME_EDUCATION_TYPE_Incomplete higher                0\n",
       "NAME_EDUCATION_TYPE_Lower secondary                  0\n",
       "NAME_EDUCATION_TYPE_Secondary / secondary special    0\n",
       "NAME_FAMILY_STATUS_Civil marriage                    0\n",
       "NAME_FAMILY_STATUS_Married                           0\n",
       "NAME_FAMILY_STATUS_Separated                         0\n",
       "NAME_FAMILY_STATUS_Single / not married              0\n",
       "NAME_FAMILY_STATUS_Widow                             0\n",
       "NAME_HOUSING_TYPE_Co-op apartment                    0\n",
       "NAME_HOUSING_TYPE_House / apartment                  0\n",
       "NAME_HOUSING_TYPE_Municipal apartment                0\n",
       "NAME_HOUSING_TYPE_Office apartment                   0\n",
       "NAME_HOUSING_TYPE_Rented apartment                   0\n",
       "NAME_HOUSING_TYPE_With parents                       0\n",
       "STATUS                                               0\n",
       "dtype: int64"
      ]
     },
     "execution_count": 111,
     "metadata": {},
     "output_type": "execute_result"
    }
   ],
   "source": [
    "#Checking for nulls\n",
    "df_classification.isnull().sum()"
   ]
  },
  {
   "cell_type": "code",
   "execution_count": 112,
   "metadata": {
    "colab": {
     "base_uri": "https://localhost:8080/"
    },
    "id": "mwgSydpfhdJv",
    "outputId": "9075fcba-b566-464f-a5cc-be3151367017"
   },
   "outputs": [
    {
     "data": {
      "text/plain": [
       "0    78.536915\n",
       "1    21.463085\n",
       "Name: STATUS, dtype: float64"
      ]
     },
     "execution_count": 112,
     "metadata": {},
     "output_type": "execute_result"
    }
   ],
   "source": [
    "df_classification['STATUS'].value_counts(normalize=True)*100"
   ]
  },
  {
   "cell_type": "code",
   "execution_count": 113,
   "metadata": {
    "id": "Dl49-vzFhefY"
   },
   "outputs": [],
   "source": [
    "df_classification =df_classification.sample(n=3000)"
   ]
  },
  {
   "cell_type": "code",
   "execution_count": 114,
   "metadata": {
    "colab": {
     "base_uri": "https://localhost:8080/"
    },
    "id": "gnf8YCiNhgHh",
    "outputId": "25a583c4-08ef-4718-f6f9-61320fa094df"
   },
   "outputs": [
    {
     "data": {
      "text/plain": [
       "(3000, 33)"
      ]
     },
     "execution_count": 114,
     "metadata": {},
     "output_type": "execute_result"
    }
   ],
   "source": [
    "df_classification.shape\n"
   ]
  },
  {
   "cell_type": "code",
   "execution_count": 115,
   "metadata": {},
   "outputs": [
    {
     "name": "stdout",
     "output_type": "stream",
     "text": [
      "<class 'pandas.core.frame.DataFrame'>\n",
      "Int64Index: 3000 entries, 6179 to 8837\n",
      "Data columns (total 33 columns):\n",
      " #   Column                                             Non-Null Count  Dtype  \n",
      "---  ------                                             --------------  -----  \n",
      " 0   CODE_GENDER                                        3000 non-null   object \n",
      " 1   FLAG_OWN_CAR                                       3000 non-null   int32  \n",
      " 2   FLAG_OWN_REALTY                                    3000 non-null   object \n",
      " 3   CNT_CHILDREN                                       3000 non-null   float64\n",
      " 4   AMT_INCOME_TOTAL                                   3000 non-null   float64\n",
      " 5   YEARS                                              3000 non-null   float64\n",
      " 6   YEARS_EMPLOYED                                     3000 non-null   float64\n",
      " 7   FLAG_WORK_PHONE                                    3000 non-null   object \n",
      " 8   FLAG_PHONE                                         3000 non-null   object \n",
      " 9   FLAG_EMAIL                                         3000 non-null   object \n",
      " 10  CNT_FAM_MEMBERS                                    3000 non-null   int64  \n",
      " 11  NAME_INCOME_TYPE_Commercial associate              3000 non-null   uint8  \n",
      " 12  NAME_INCOME_TYPE_Pensioner                         3000 non-null   uint8  \n",
      " 13  NAME_INCOME_TYPE_State servant                     3000 non-null   uint8  \n",
      " 14  NAME_INCOME_TYPE_Student                           3000 non-null   uint8  \n",
      " 15  NAME_INCOME_TYPE_Working                           3000 non-null   uint8  \n",
      " 16  NAME_EDUCATION_TYPE_Academic degree                3000 non-null   uint8  \n",
      " 17  NAME_EDUCATION_TYPE_Higher education               3000 non-null   uint8  \n",
      " 18  NAME_EDUCATION_TYPE_Incomplete higher              3000 non-null   uint8  \n",
      " 19  NAME_EDUCATION_TYPE_Lower secondary                3000 non-null   uint8  \n",
      " 20  NAME_EDUCATION_TYPE_Secondary / secondary special  3000 non-null   uint8  \n",
      " 21  NAME_FAMILY_STATUS_Civil marriage                  3000 non-null   uint8  \n",
      " 22  NAME_FAMILY_STATUS_Married                         3000 non-null   uint8  \n",
      " 23  NAME_FAMILY_STATUS_Separated                       3000 non-null   uint8  \n",
      " 24  NAME_FAMILY_STATUS_Single / not married            3000 non-null   uint8  \n",
      " 25  NAME_FAMILY_STATUS_Widow                           3000 non-null   uint8  \n",
      " 26  NAME_HOUSING_TYPE_Co-op apartment                  3000 non-null   uint8  \n",
      " 27  NAME_HOUSING_TYPE_House / apartment                3000 non-null   uint8  \n",
      " 28  NAME_HOUSING_TYPE_Municipal apartment              3000 non-null   uint8  \n",
      " 29  NAME_HOUSING_TYPE_Office apartment                 3000 non-null   uint8  \n",
      " 30  NAME_HOUSING_TYPE_Rented apartment                 3000 non-null   uint8  \n",
      " 31  NAME_HOUSING_TYPE_With parents                     3000 non-null   uint8  \n",
      " 32  STATUS                                             3000 non-null   int32  \n",
      "dtypes: float64(4), int32(2), int64(1), object(5), uint8(21)\n",
      "memory usage: 342.8+ KB\n"
     ]
    }
   ],
   "source": [
    "df_classification.info()"
   ]
  },
  {
   "cell_type": "code",
   "execution_count": 116,
   "metadata": {
    "id": "RVvZUZ50hhYk"
   },
   "outputs": [],
   "source": [
    "# KNN Classifier\n",
    "#We are using min max Scalar\n",
    "#First used grid search in order to find out the best parameters and then fit the model using those scores and then print out test and train scores\n",
    "#We take the 'STATUS' as the target column and est all as the feature columns\n",
    "X = df_classification.drop('STATUS', axis = 1)\n",
    "y = df_classification['STATUS']\n",
    "\n",
    "#We split the training and test data; we take the test data and training data as default values\n",
    "X_train, X_test, y_train, y_test = train_test_split(X, y, random_state = 0)\n",
    "\n",
    "#using min max scaler we scale the values and then transform the values\n",
    "scaler = MinMaxScaler()\n",
    "X_train = scaler.fit_transform(X_train)\n",
    "X_test = scaler.transform(X_test)"
   ]
  },
  {
   "cell_type": "code",
   "execution_count": 117,
   "metadata": {
    "colab": {
     "base_uri": "https://localhost:8080/"
    },
    "id": "I5Kj48kRhvUe",
    "outputId": "b9ad0601-a844-40e6-ff6b-86272d21378b"
   },
   "outputs": [
    {
     "data": {
      "text/plain": [
       "KNeighborsClassifier()"
      ]
     },
     "execution_count": 117,
     "metadata": {},
     "output_type": "execute_result"
    }
   ],
   "source": [
    "#Using KNN Classification, we are not applying any parameter , so by default it takes k as 5\n",
    "knn = KNeighborsClassifier()\n",
    "knn.fit(X_train,y_train)"
   ]
  },
  {
   "cell_type": "code",
   "execution_count": 118,
   "metadata": {
    "id": "FcW03lzwhw5t"
   },
   "outputs": [],
   "source": [
    "#Predicting y \n",
    "y_pred=knn.predict(X_test)"
   ]
  },
  {
   "cell_type": "code",
   "execution_count": 120,
   "metadata": {
    "colab": {
     "base_uri": "https://localhost:8080/"
    },
    "id": "p1DDD40Ihx-W",
    "outputId": "655245e1-2556-48a6-d84e-d2ef36190710"
   },
   "outputs": [
    {
     "name": "stdout",
     "output_type": "stream",
     "text": [
      "The accuracy for KNN-default is 0.756\n"
     ]
    }
   ],
   "source": [
    "#Testing the accuracy score\n",
    "print('The accuracy for KNN-default is',accuracy_score(y_test, y_pred))"
   ]
  },
  {
   "cell_type": "code",
   "execution_count": 121,
   "metadata": {
    "id": "msgAkBGfhznN"
   },
   "outputs": [],
   "source": [
    "#We use grid search and best parameters to see the best n value for KNN\n",
    "param_dist={\n",
    "    \"weights\":[\"uniform\"],\n",
    "    \"n_neighbors\":[1,2,3,4,5,6,7,8,9,10],\n",
    "    \"metric\":[\"minkowski\", \"manhattan\",\"euclidean\",\"cosine\"]\n",
    "}\n",
    "grid=GridSearchCV(knn, param_grid=param_dist, cv=5, n_jobs=-1,scoring='roc_auc')\n"
   ]
  },
  {
   "cell_type": "code",
   "execution_count": 122,
   "metadata": {
    "colab": {
     "base_uri": "https://localhost:8080/"
    },
    "id": "jHFg8kqEh3FN",
    "outputId": "63c8f51b-6a3f-4af6-88bf-6cb2daf41791"
   },
   "outputs": [
    {
     "data": {
      "text/plain": [
       "GridSearchCV(cv=5, estimator=KNeighborsClassifier(), n_jobs=-1,\n",
       "             param_grid={'metric': ['minkowski', 'manhattan', 'euclidean',\n",
       "                                    'cosine'],\n",
       "                         'n_neighbors': [1, 2, 3, 4, 5, 6, 7, 8, 9, 10],\n",
       "                         'weights': ['uniform']})"
      ]
     },
     "execution_count": 122,
     "metadata": {},
     "output_type": "execute_result"
    }
   ],
   "source": [
    "grid.fit(X_train,y_train)"
   ]
  },
  {
   "cell_type": "code",
   "execution_count": 123,
   "metadata": {
    "colab": {
     "base_uri": "https://localhost:8080/"
    },
    "id": "kZIGlH-qh4ew",
    "outputId": "681b5542-4994-4413-b779-85f8283de13f"
   },
   "outputs": [
    {
     "data": {
      "text/plain": [
       "KNeighborsClassifier(n_neighbors=10)"
      ]
     },
     "execution_count": 123,
     "metadata": {},
     "output_type": "execute_result"
    }
   ],
   "source": [
    "#Taking the best n_neighbor using grid method\n",
    "grid.best_estimator_"
   ]
  },
  {
   "cell_type": "code",
   "execution_count": 124,
   "metadata": {
    "colab": {
     "base_uri": "https://localhost:8080/"
    },
    "id": "slCJYoPph53W",
    "outputId": "0a3cab8e-3883-4232-f499-1323a60c4f2a"
   },
   "outputs": [
    {
     "data": {
      "text/plain": [
       "0.772"
      ]
     },
     "execution_count": 124,
     "metadata": {},
     "output_type": "execute_result"
    }
   ],
   "source": [
    "#Taking the best score using grid method\n",
    "grid.best_score_"
   ]
  },
  {
   "cell_type": "code",
   "execution_count": 125,
   "metadata": {
    "colab": {
     "base_uri": "https://localhost:8080/"
    },
    "id": "xcQQJgW8h8xM",
    "outputId": "490062c3-c2cf-4734-cbf6-8cbb9e07bb7a"
   },
   "outputs": [
    {
     "data": {
      "text/plain": [
       "{'metric': 'minkowski', 'n_neighbors': 10, 'weights': 'uniform'}"
      ]
     },
     "execution_count": 125,
     "metadata": {},
     "output_type": "execute_result"
    }
   ],
   "source": [
    "#hyper parameter tunning\n",
    "grid.best_params_"
   ]
  },
  {
   "cell_type": "code",
   "execution_count": 126,
   "metadata": {
    "colab": {
     "base_uri": "https://localhost:8080/"
    },
    "id": "ybNtnX-Uh-4m",
    "outputId": "6c23564f-f01d-45c4-8efa-c1b032a4c1c6"
   },
   "outputs": [
    {
     "name": "stdout",
     "output_type": "stream",
     "text": [
      "Train score: 0.7782\n",
      "Test score: 0.7907\n"
     ]
    }
   ],
   "source": [
    "# now fitting the model with best parameters\n",
    "knn = KNeighborsClassifier(metric='minkowski', n_neighbors=10, weights='uniform')\n",
    "knn.fit(X_train,y_train)\n",
    "print('Train score: {:.4f}'.format(knn.score(X_train, y_train)))\n",
    "print('Test score: {:.4f}'.format(knn.score(X_test, y_test)))"
   ]
  },
  {
   "cell_type": "code",
   "execution_count": 127,
   "metadata": {
    "id": "qoo15y62iEqY"
   },
   "outputs": [],
   "source": [
    "#We can also do using graph\n",
    "#Taking the train and test data set and using min max scalar\n",
    "X = df_classification.drop('STATUS', axis = 1)\n",
    "y = df_classification['STATUS']\n",
    "\n",
    "X_train, X_test, y_train, y_test = train_test_split(X, y, random_state = 0)\n",
    "\n",
    "scaler = MinMaxScaler()\n",
    "X_train = scaler.fit_transform(X_train)\n",
    "X_test = scaler.transform(X_test)\n"
   ]
  },
  {
   "cell_type": "code",
   "execution_count": 128,
   "metadata": {
    "id": "tR9BqHgyiLNT"
   },
   "outputs": [],
   "source": [
    "#Checking the best n_neighbour value \n",
    "train_score_array = []\n",
    "test_score_array = []\n",
    "\n",
    "for k in range(1,20):\n",
    "    knn = KNeighborsClassifier(k)\n",
    "    knn.fit(X_train, y_train)\n",
    "    train_score_array.append(knn.score(X_train, y_train))\n",
    "    test_score_array.append(knn.score(X_test, y_test))"
   ]
  },
  {
   "cell_type": "code",
   "execution_count": 129,
   "metadata": {
    "colab": {
     "base_uri": "https://localhost:8080/",
     "height": 353
    },
    "id": "GhK1pEdxiLjd",
    "outputId": "f10bb6f8-9e13-4be7-94e9-b25ed9c4adda"
   },
   "outputs": [
    {
     "data": {
      "text/plain": [
       "<matplotlib.legend.Legend at 0x7f9bbc35b150>"
      ]
     },
     "execution_count": 129,
     "metadata": {},
     "output_type": "execute_result"
    },
    {
     "data": {
      "image/png": "[encoded data removed]",
      "text/plain": [
       "<Figure size 1440x360 with 1 Axes>"
      ]
     },
     "metadata": {
      "needs_background": "light"
     },
     "output_type": "display_data"
    }
   ],
   "source": [
    "#Plotting the graph and visulaizing the best n_neighbour parameter\n",
    "x_axis = range(1,20)\n",
    "%matplotlib inline\n",
    "\n",
    "plt.subplots(figsize = (20,5))\n",
    "plt.plot(x_axis, train_score_array, label = 'Train Score', c = 'g')\n",
    "plt.plot(x_axis, test_score_array, label = 'Test Score', c='b')\n",
    "plt.xlabel('n_neighbors')\n",
    "plt.ylabel('Accuracy')\n",
    "plt.grid()\n",
    "plt.legend()"
   ]
  },
  {
   "cell_type": "code",
   "execution_count": 130,
   "metadata": {
    "id": "fq7ZS3pgiNTi"
   },
   "outputs": [],
   "source": [
    "# At n= 10 we see the best n parameter"
   ]
  },
  {
   "cell_type": "code",
   "execution_count": 131,
   "metadata": {
    "colab": {
     "base_uri": "https://localhost:8080/"
    },
    "id": "C4xCqouHiRFp",
    "outputId": "69bcfa7d-c969-4be3-c788-5cb83eabc562"
   },
   "outputs": [
    {
     "name": "stdout",
     "output_type": "stream",
     "text": [
      "Train score: 0.7782\n",
      "Test score: 0.7907\n"
     ]
    }
   ],
   "source": [
    "#From the above grph we see that the best value of n_neighbour(k) = 10; substituting k =10 in KNN and va;idating the train and test score \n",
    "knn = KNeighborsClassifier(10)\n",
    "knn.fit(X_train, y_train)\n",
    "print('Train score: {:.4f}'.format(knn.score(X_train, y_train)))\n",
    "print('Test score: {:.4f}'.format(knn.score(X_test, y_test)))"
   ]
  },
  {
   "cell_type": "code",
   "execution_count": 132,
   "metadata": {
    "id": "x1IirUVbiUxV"
   },
   "outputs": [],
   "source": [
    "#Predicting y based on X test data\n",
    "y_pred_knn =knn.predict(X_test)"
   ]
  },
  {
   "cell_type": "code",
   "execution_count": 133,
   "metadata": {
    "colab": {
     "base_uri": "https://localhost:8080/"
    },
    "id": "RArdqlUximml",
    "outputId": "f10b27de-4833-452d-a742-b4266ad8cf53"
   },
   "outputs": [
    {
     "data": {
      "text/plain": [
       "0.7906666666666666"
      ]
     },
     "execution_count": 133,
     "metadata": {},
     "output_type": "execute_result"
    }
   ],
   "source": [
    "#Calculating accuracy score\n",
    "accuracy_score(y_pred_knn,y_test)"
   ]
  },
  {
   "cell_type": "code",
   "execution_count": 134,
   "metadata": {
    "colab": {
     "base_uri": "https://localhost:8080/"
    },
    "id": "3aI2bv0cioSV",
    "outputId": "e2149ad9-fc57-4b17-f313-89dcf380dfab"
   },
   "outputs": [
    {
     "name": "stdout",
     "output_type": "stream",
     "text": [
      "              precision    recall  f1-score   support\n",
      "\n",
      "           0       1.00      0.79      0.88       748\n",
      "           1       0.00      0.00      0.00         2\n",
      "\n",
      "    accuracy                           0.79       750\n",
      "   macro avg       0.50      0.40      0.44       750\n",
      "weighted avg       0.99      0.79      0.88       750\n",
      "\n"
     ]
    }
   ],
   "source": [
    "#Printing Classification re[port]\n",
    "print(classification_report(y_pred_knn,y_test))"
   ]
  },
  {
   "cell_type": "code",
   "execution_count": 135,
   "metadata": {
    "colab": {
     "base_uri": "https://localhost:8080/"
    },
    "id": "3crX_GYPirsw",
    "outputId": "cf2a0d29-a45e-4b27-eed3-6d8ab2734e35"
   },
   "outputs": [
    {
     "name": "stdout",
     "output_type": "stream",
     "text": [
      "[[593 155]\n",
      " [  2   0]]\n"
     ]
    }
   ],
   "source": [
    "#printing confusion matrix\n",
    "print(confusion_matrix(y_pred_knn,y_test))"
   ]
  },
  {
   "cell_type": "code",
   "execution_count": 136,
   "metadata": {
    "id": "4QzFj_2ni6_n"
   },
   "outputs": [],
   "source": [
    "#Logistic Regression\n",
    "#'STATUS' is out target column and rest are feture columns; Splitting data into train and test datasets and applying Min Max Scaler\n",
    "#'STATUS' is out target column and rest are feture columns; Splitting data into train and test datasets and applying Min Max Scaler\n",
    "\n",
    "X = df_classification.drop('STATUS', axis = 1)\n",
    "y = df_classification['STATUS']\n",
    "\n",
    "X_train, X_test, y_train, y_test = train_test_split(X, y, random_state = 0)\n",
    "\n",
    "scaler = StandardScaler()\n",
    "X_train = scaler.fit_transform(X_train)\n",
    "X_test = scaler.transform(X_test)"
   ]
  },
  {
   "cell_type": "code",
   "execution_count": 137,
   "metadata": {
    "id": "fRop_nPajDCc"
   },
   "outputs": [],
   "source": [
    "from sklearn.linear_model import LogisticRegression\n",
    "\n",
    "c_range = [0.001, 0.01, 0.1, 1, 10, 100, 1000]\n",
    "train_score_l1 = []\n",
    "train_score_l2 = []\n",
    "test_score_l1 = []\n",
    "test_score_l2 = []\n",
    "\n",
    "for c in c_range:\n",
    "    log_l1 = LogisticRegression(penalty = 'l1', C = c, solver = 'liblinear', max_iter = 500)\n",
    "    log_l2 = LogisticRegression(penalty = 'l2', C = c, solver = 'lbfgs', max_iter = 500)\n",
    "    log_l1.fit(X_train, y_train)\n",
    "    log_l2.fit(X_train, y_train)\n",
    "    train_score_l1.append(log_l1.score(X_train, y_train))\n",
    "    train_score_l2.append(log_l2.score(X_train, y_train))\n",
    "    test_score_l1.append(log_l1.score(X_test, y_test))\n",
    "    test_score_l2.append(log_l2.score(X_test, y_test))"
   ]
  },
  {
   "cell_type": "code",
   "execution_count": 138,
   "metadata": {
    "colab": {
     "base_uri": "https://localhost:8080/",
     "height": 338
    },
    "id": "jhRvYkLPjWoK",
    "outputId": "316bd1aa-5c73-48f1-f501-8e022e1e0ee6"
   },
   "outputs": [
    {
     "data": {
      "image/png": "[encoded data removed]",
      "text/plain": [
       "<Figure size 1080x360 with 1 Axes>"
      ]
     },
     "metadata": {
      "needs_background": "light"
     },
     "output_type": "display_data"
    }
   ],
   "source": [
    "import matplotlib.pyplot as plt\n",
    "%matplotlib inline\n",
    "\n",
    "plt.subplots(figsize = (15,5))\n",
    "plt.plot(c_range, train_score_l1, label = 'Train score, penalty = l1')\n",
    "plt.plot(c_range, test_score_l1, label = 'Test score, penalty = l1')\n",
    "plt.plot(c_range, train_score_l2, label = 'Train score, penalty = l2')\n",
    "plt.plot(c_range, test_score_l2, label = 'Test score, penalty = l2')\n",
    "plt.legend()\n",
    "plt.xlabel('Regularization parameter: C')\n",
    "plt.ylabel('Accuracy')\n",
    "plt.xscale('log')"
   ]
  },
  {
   "cell_type": "code",
   "execution_count": 139,
   "metadata": {
    "colab": {
     "base_uri": "https://localhost:8080/"
    },
    "id": "sukIx-6JjYmS",
    "outputId": "6e149aa7-3eea-44e2-9e9f-2f9acb8a8f3e"
   },
   "outputs": [
    {
     "data": {
      "text/plain": [
       "GridSearchCV(cv=5, estimator=LogisticRegression(max_iter=1000, random_state=0),\n",
       "             param_grid={'C': [0.01, 0.1, 1, 10, 100]}, scoring='roc_auc')"
      ]
     },
     "execution_count": 139,
     "metadata": {},
     "output_type": "execute_result"
    }
   ],
   "source": [
    "#The best c parameter as per graph is c=0.01\n",
    "#Using hypterparameter tuning\n",
    "param_grid = {'C': [0.01, 0.1, 1, 10, 100]}\n",
    "lreg = LogisticRegression(random_state = 0, max_iter = 1000)\n",
    "grid_lreg = GridSearchCV(lreg, param_grid, cv =5, scoring= 'roc_auc')\n",
    "grid_lreg.fit(X_train, y_train)"
   ]
  },
  {
   "cell_type": "code",
   "execution_count": 140,
   "metadata": {
    "colab": {
     "base_uri": "https://localhost:8080/"
    },
    "id": "gyK1QXvgjeNw",
    "outputId": "2021f401-5745-4f8f-e232-ba1228b1b6d5"
   },
   "outputs": [
    {
     "data": {
      "text/plain": [
       "0.519387367850366"
      ]
     },
     "execution_count": 140,
     "metadata": {},
     "output_type": "execute_result"
    }
   ],
   "source": [
    "#Predicting the score\n",
    "grid_lreg.score(X_test, y_test)"
   ]
  },
  {
   "cell_type": "code",
   "execution_count": 141,
   "metadata": {
    "colab": {
     "base_uri": "https://localhost:8080/"
    },
    "id": "maomE5bvjfng",
    "outputId": "786cead5-1180-4194-efd6-20540de996b4"
   },
   "outputs": [
    {
     "name": "stdout",
     "output_type": "stream",
     "text": [
      "accuracy_score:  0.7933333333333333\n",
      "roc_auc_score:  0.519387367850366\n"
     ]
    }
   ],
   "source": [
    "from sklearn.metrics import accuracy_score, roc_auc_score\n",
    "\n",
    "#Predicting y\n",
    "y_pred = grid_lreg.predict(X_test)\n",
    "print('accuracy_score: ', accuracy_score(y_test, y_pred))\n",
    "print('roc_auc_score: ', roc_auc_score(y_test, grid_lreg.predict_proba(X_test)[:,1]))"
   ]
  },
  {
   "cell_type": "code",
   "execution_count": 142,
   "metadata": {
    "id": "BdAWqC6Zjgy3"
   },
   "outputs": [],
   "source": [
    "#Predicting Y\n",
    "y_pred_lreg =grid_lreg.predict(X_test)"
   ]
  },
  {
   "cell_type": "code",
   "execution_count": 143,
   "metadata": {
    "colab": {
     "base_uri": "https://localhost:8080/"
    },
    "id": "tlV_fxjZjh9R",
    "outputId": "72e1dbe6-fa97-40bb-94f6-dd96e1727b95"
   },
   "outputs": [
    {
     "name": "stdout",
     "output_type": "stream",
     "text": [
      "              precision    recall  f1-score   support\n",
      "\n",
      "           0       0.99      0.80      0.88       742\n",
      "           1       0.03      0.50      0.05         8\n",
      "\n",
      "    accuracy                           0.79       750\n",
      "   macro avg       0.51      0.65      0.47       750\n",
      "weighted avg       0.98      0.79      0.88       750\n",
      "\n"
     ]
    }
   ],
   "source": [
    "#Printing Classification report\n",
    "import warnings\n",
    "warnings.filterwarnings('ignore')\n",
    "print(classification_report(y_pred_lreg,y_test))"
   ]
  },
  {
   "cell_type": "code",
   "execution_count": 144,
   "metadata": {
    "colab": {
     "base_uri": "https://localhost:8080/"
    },
    "id": "kEi2Wzuwjk4l",
    "outputId": "d3884c23-9033-40a1-8477-3032d97101c6"
   },
   "outputs": [
    {
     "name": "stdout",
     "output_type": "stream",
     "text": [
      "[[591 151]\n",
      " [  4   4]]\n"
     ]
    }
   ],
   "source": [
    "#Confusion matrix\n",
    "print(confusion_matrix(y_pred_lreg,y_test))"
   ]
  },
  {
   "cell_type": "code",
   "execution_count": 145,
   "metadata": {
    "id": "GYJVc89djmGn"
   },
   "outputs": [],
   "source": [
    "#Linear SVC\n",
    "#Splitting data into train and test and applying min max scalar\n",
    "#Splitting data into train and test and applying min max scalar\n",
    "X = df_classification.drop('STATUS', axis = 1)\n",
    "y = df_classification['STATUS']\n",
    "\n",
    "X_train, X_test, y_train, y_test = train_test_split(X, y, random_state = 0)\n",
    "\n",
    "scaler = MinMaxScaler()\n",
    "X_train = scaler.fit_transform(X_train)\n",
    "X_test = scaler.transform(X_test)"
   ]
  },
  {
   "cell_type": "code",
   "execution_count": 146,
   "metadata": {
    "colab": {
     "base_uri": "https://localhost:8080/"
    },
    "id": "Tpe2rp4HjzK7",
    "outputId": "9b263c3d-f81d-4970-aff2-a0a037c282ca"
   },
   "outputs": [
    {
     "data": {
      "text/plain": [
       "LinearSVC()"
      ]
     },
     "execution_count": 146,
     "metadata": {},
     "output_type": "execute_result"
    }
   ],
   "source": [
    "#Appying Linear SVC and fitting training data\n",
    "svc = LinearSVC()\n",
    "svc.fit(X_train,y_train)"
   ]
  },
  {
   "cell_type": "code",
   "execution_count": 147,
   "metadata": {
    "id": "jCPocrQVj1Yk"
   },
   "outputs": [],
   "source": [
    "#Predicting y using test dataset\n",
    "y_pred=svc.predict(X_test)"
   ]
  },
  {
   "cell_type": "code",
   "execution_count": 148,
   "metadata": {
    "colab": {
     "base_uri": "https://localhost:8080/"
    },
    "id": "cbKiWe5Jj3CW",
    "outputId": "82be7f93-aae5-4cb6-aa17-9972303f1441"
   },
   "outputs": [
    {
     "data": {
      "text/plain": [
       "0.7933333333333333"
      ]
     },
     "execution_count": 148,
     "metadata": {},
     "output_type": "execute_result"
    }
   ],
   "source": [
    "#Predicting accuracy\n",
    "accuracy_score(y_test, y_pred)"
   ]
  },
  {
   "cell_type": "code",
   "execution_count": 149,
   "metadata": {
    "id": "TWXjqQzFj39k"
   },
   "outputs": [],
   "source": [
    "#Predicting the y values\n",
    "y_pred_svc =svc.predict(X_test)"
   ]
  },
  {
   "cell_type": "code",
   "execution_count": 150,
   "metadata": {
    "colab": {
     "base_uri": "https://localhost:8080/"
    },
    "id": "j1GMUeMoj4xt",
    "outputId": "90e0f91e-62a6-42ff-b613-5aa89c0874ae"
   },
   "outputs": [
    {
     "name": "stdout",
     "output_type": "stream",
     "text": [
      "              precision    recall  f1-score   support\n",
      "\n",
      "           0       1.00      0.79      0.88       748\n",
      "           1       0.01      0.50      0.01         2\n",
      "\n",
      "    accuracy                           0.79       750\n",
      "   macro avg       0.50      0.65      0.45       750\n",
      "weighted avg       1.00      0.79      0.88       750\n",
      "\n"
     ]
    }
   ],
   "source": [
    "#Printing Classification report\n",
    "print(classification_report(y_pred_svc,y_test))"
   ]
  },
  {
   "cell_type": "code",
   "execution_count": 151,
   "metadata": {
    "colab": {
     "base_uri": "https://localhost:8080/"
    },
    "id": "FNKeHxvWj5nZ",
    "outputId": "b5d37e1c-de73-43d7-833f-9e52263656c6"
   },
   "outputs": [
    {
     "name": "stdout",
     "output_type": "stream",
     "text": [
      "[[594 154]\n",
      " [  1   1]]\n"
     ]
    }
   ],
   "source": [
    "#printing confusion matrix\n",
    "print(confusion_matrix(y_pred_svc,y_test))"
   ]
  },
  {
   "cell_type": "markdown",
   "metadata": {
    "id": "4wGcpyPqj9-0"
   },
   "source": [
    "#### Applying hyper-tuning\n",
    "#### We are using Grid Search with CV"
   ]
  },
  {
   "cell_type": "code",
   "execution_count": 152,
   "metadata": {
    "colab": {
     "base_uri": "https://localhost:8080/"
    },
    "id": "xhAYiUYxj63J",
    "outputId": "8f79ce85-4b16-46a5-b199-a1a4ce11179a"
   },
   "outputs": [
    {
     "name": "stdout",
     "output_type": "stream",
     "text": [
      "Best score on validation set: 0.78\n",
      "Best parameters:  {'C': 0.001, 'gamma': 0.001}\n"
     ]
    }
   ],
   "source": [
    "#Applying hyper-tuning\n",
    "# We are using Grid Search with CV\n",
    "from sklearn.model_selection import cross_val_score\n",
    "from sklearn.svm import SVC\n",
    "scaler = MinMaxScaler()\n",
    "X_train = scaler.fit_transform(X_train)\n",
    "X_test = scaler.transform(X_test)\n",
    "\n",
    "best_score = 0\n",
    "for gamma in [0.001, 0.01, 0.1, 1, 10, 100]:\n",
    "    for C in [0.001, 0.01, 0.1, 1, 10, 100]:\n",
    "        # for each combination of parameters,\n",
    "        # train an SVC\n",
    "        svm = SVC(gamma=gamma, C=C)\n",
    "        # perform cross-validation\n",
    "        scores = cross_val_score(svm, X_train, y_train, cv=5)\n",
    "        # compute mean cross-validation accuracy\n",
    "        score = np.mean(scores)\n",
    "        # if we got a better score, store the score and parameters\n",
    "        if score > best_score:\n",
    "            best_score = score\n",
    "            best_parameters = {'C': C, 'gamma': gamma}\n",
    "            \n",
    "# rebuild a model on the combined training and validation set\n",
    "svm = SVC(**best_parameters)\n",
    "svm.fit(X_train, y_train)\n",
    "print(\"Best score on validation set: {:.2f}\".format(best_score))\n",
    "print(\"Best parameters: \", best_parameters)\n"
   ]
  },
  {
   "cell_type": "code",
   "execution_count": 153,
   "metadata": {
    "colab": {
     "base_uri": "https://localhost:8080/"
    },
    "id": "lexfH3iZkGCX",
    "outputId": "57f53145-8dc8-4c2b-8604-7376b688db35"
   },
   "outputs": [
    {
     "name": "stdout",
     "output_type": "stream",
     "text": [
      "0.7933333333333333\n"
     ]
    }
   ],
   "source": [
    "test_score = svm.score(X_test, y_test)\n",
    "print(test_score)"
   ]
  },
  {
   "cell_type": "code",
   "execution_count": 154,
   "metadata": {
    "colab": {
     "base_uri": "https://localhost:8080/"
    },
    "id": "mZ7xRgCwkH1l",
    "outputId": "42698b74-ce20-49b4-b13f-db1e0f528a4d"
   },
   "outputs": [
    {
     "name": "stdout",
     "output_type": "stream",
     "text": [
      "Parameter grid:\n",
      "{'C': [0.001, 0.01, 0.1, 1, 10, 100], 'gamma': [0.001, 0.01, 0.1, 1, 10, 100]}\n"
     ]
    },
    {
     "data": {
      "text/plain": [
       "GridSearchCV(cv=5, estimator=SVC(),\n",
       "             param_grid={'C': [0.001, 0.01, 0.1, 1, 10, 100],\n",
       "                         'gamma': [0.001, 0.01, 0.1, 1, 10, 100]},\n",
       "             return_train_score=True)"
      ]
     },
     "execution_count": 154,
     "metadata": {},
     "output_type": "execute_result"
    }
   ],
   "source": [
    "param_grid = {'C': [0.001, 0.01, 0.1, 1, 10, 100],\n",
    "              'gamma': [0.001, 0.01, 0.1, 1, 10, 100]}\n",
    "print(\"Parameter grid:\\n{}\".format(param_grid))\n",
    "grid_search = GridSearchCV(SVC(), param_grid, cv=5, return_train_score=True,scoring= 'roc_auc')\n",
    "grid_search.fit(X_train, y_train)"
   ]
  },
  {
   "cell_type": "code",
   "execution_count": 155,
   "metadata": {
    "colab": {
     "base_uri": "https://localhost:8080/"
    },
    "id": "weBkN_tVkMaA",
    "outputId": "59d7fe8d-a1f9-40ec-a9fd-5a789277b92a"
   },
   "outputs": [
    {
     "name": "stdout",
     "output_type": "stream",
     "text": [
      "Best parameters: {'C': 0.001, 'gamma': 0.001}\n",
      "Best cross-validation score: 0.78\n"
     ]
    }
   ],
   "source": [
    "print(\"Best parameters: {}\".format(grid_search.best_params_))\n",
    "print(\"Best cross-validation score: {:.2f}\".format(grid_search.best_score_))"
   ]
  },
  {
   "cell_type": "code",
   "execution_count": 156,
   "metadata": {
    "colab": {
     "base_uri": "https://localhost:8080/"
    },
    "id": "qQ8PhKERkT-7",
    "outputId": "9ead9149-0bca-40ff-90cb-52a0109a79dc"
   },
   "outputs": [
    {
     "name": "stdout",
     "output_type": "stream",
     "text": [
      "Train score: 0.7769\n",
      "Test score: 0.7933\n"
     ]
    }
   ],
   "source": [
    "#finding train and test scores for best parameters\n",
    "svm = SVC(gamma=0.001, C=0.001)\n",
    "svm.fit(X_train, y_train)\n",
    "\n",
    "print('Train score: {:.4f}'.format(svm.score(X_train, y_train)))\n",
    "print('Test score: {:.4f}'.format(svm.score(X_test, y_test)))"
   ]
  },
  {
   "cell_type": "code",
   "execution_count": 157,
   "metadata": {
    "colab": {
     "base_uri": "https://localhost:8080/"
    },
    "id": "1HZArBuXkZzM",
    "outputId": "5fbf8f32-539c-479b-8264-57b946e2db69"
   },
   "outputs": [
    {
     "data": {
      "text/plain": [
       "0.7933333333333333"
      ]
     },
     "execution_count": 157,
     "metadata": {},
     "output_type": "execute_result"
    }
   ],
   "source": [
    "y_pred_sv =svm.predict(X_test)\n",
    "accuracy_score(y_pred_sv,y_test)"
   ]
  },
  {
   "cell_type": "code",
   "execution_count": 158,
   "metadata": {
    "colab": {
     "base_uri": "https://localhost:8080/"
    },
    "id": "zgFKp_fAkcM2",
    "outputId": "42a47c90-691f-4afd-c66c-b52f9b1a9a15"
   },
   "outputs": [
    {
     "name": "stdout",
     "output_type": "stream",
     "text": [
      "              precision    recall  f1-score   support\n",
      "\n",
      "           0       1.00      0.79      0.88       750\n",
      "           1       0.00      0.00      0.00         0\n",
      "\n",
      "    accuracy                           0.79       750\n",
      "   macro avg       0.50      0.40      0.44       750\n",
      "weighted avg       1.00      0.79      0.88       750\n",
      "\n"
     ]
    }
   ],
   "source": [
    "#Classification report\n",
    "import warnings\n",
    "warnings.filterwarnings('ignore')\n",
    "print(classification_report(y_pred_sv,y_test))"
   ]
  },
  {
   "cell_type": "code",
   "execution_count": 159,
   "metadata": {
    "colab": {
     "base_uri": "https://localhost:8080/"
    },
    "id": "NEUh-Pjykdcw",
    "outputId": "c897592e-2baa-4563-9d3a-2b82bca899f4"
   },
   "outputs": [
    {
     "name": "stdout",
     "output_type": "stream",
     "text": [
      "[[595 155]\n",
      " [  0   0]]\n"
     ]
    }
   ],
   "source": [
    "#Confusion matrix\n",
    "print(confusion_matrix(y_pred_sv,y_test))"
   ]
  },
  {
   "cell_type": "markdown",
   "metadata": {
    "id": "raLCdQi4lvoM"
   },
   "source": [
    "## SVC with kernel trick\n",
    "### ``kernel = 'poly'``"
   ]
  },
  {
   "cell_type": "code",
   "execution_count": 160,
   "metadata": {
    "id": "CG_vXfrWlrx8"
   },
   "outputs": [],
   "source": [
    "# splitting into train and test data\n",
    "X = df_classification.drop('STATUS', axis = 1)\n",
    "y = df_classification['STATUS']\n",
    "\n",
    "X_train, X_test, y_train, y_test = train_test_split(X, y, random_state = 0)\n",
    "\n",
    "scaler = MinMaxScaler()\n",
    "X_train = scaler.fit_transform(X_train)\n",
    "X_test = scaler.transform(X_test)"
   ]
  },
  {
   "cell_type": "code",
   "execution_count": 161,
   "metadata": {
    "colab": {
     "base_uri": "https://localhost:8080/"
    },
    "id": "qolR8mAml1Rt",
    "outputId": "c0c40bc2-e03b-4aec-f43b-53f74728fb14"
   },
   "outputs": [
    {
     "data": {
      "text/plain": [
       "0.792"
      ]
     },
     "execution_count": 161,
     "metadata": {},
     "output_type": "execute_result"
    }
   ],
   "source": [
    "clf = SVC(kernel = 'poly')\n",
    "clf.fit(X_train,y_train)    \n",
    "y_pred=clf.predict(X_test)\n",
    "accuracy_score(y_test, y_pred)"
   ]
  },
  {
   "cell_type": "code",
   "execution_count": 162,
   "metadata": {
    "id": "ywxKwKP6l2xL"
   },
   "outputs": [],
   "source": [
    "param_dist={\n",
    "    \"max_iter\":[10,50,100,150,200,250,300,350,400,450,500],\n",
    "    \"C\":[0.001, 0.01, 0.1, 1, 10],\n",
    "    \"gamma\":[0.001, 0.01, 0.1, 1, 10]\n",
    "}\n",
    "from sklearn.model_selection import GridSearchCV\n",
    "grid_poly=GridSearchCV(clf, param_grid=param_dist, cv=5, n_jobs=-1,scoring= 'roc_auc')"
   ]
  },
  {
   "cell_type": "code",
   "execution_count": 163,
   "metadata": {
    "colab": {
     "base_uri": "https://localhost:8080/"
    },
    "id": "0XhAYsQJl54T",
    "outputId": "806cabdc-c69b-44c0-9877-6457a11edc4e"
   },
   "outputs": [
    {
     "data": {
      "text/plain": [
       "GridSearchCV(cv=5, estimator=SVC(kernel='poly'), n_jobs=-1,\n",
       "             param_grid={'C': [0.001, 0.01, 0.1, 1, 10],\n",
       "                         'gamma': [0.001, 0.01, 0.1, 1, 10],\n",
       "                         'max_iter': [10, 50, 100, 150, 200, 250, 300, 350, 400,\n",
       "                                      450, 500]})"
      ]
     },
     "execution_count": 163,
     "metadata": {},
     "output_type": "execute_result"
    }
   ],
   "source": [
    "grid_poly.fit(X_train,y_train)"
   ]
  },
  {
   "cell_type": "code",
   "execution_count": 164,
   "metadata": {
    "colab": {
     "base_uri": "https://localhost:8080/"
    },
    "id": "gqBbRsfYl7NY",
    "outputId": "d1f3d3aa-0e36-49d1-dc26-f15f0b4acdef"
   },
   "outputs": [
    {
     "data": {
      "text/plain": [
       "SVC(C=0.001, gamma=0.001, kernel='poly', max_iter=450)"
      ]
     },
     "execution_count": 164,
     "metadata": {},
     "output_type": "execute_result"
    }
   ],
   "source": [
    "grid_poly.best_estimator_"
   ]
  },
  {
   "cell_type": "code",
   "execution_count": 165,
   "metadata": {
    "colab": {
     "base_uri": "https://localhost:8080/"
    },
    "id": "x9ueTWeil8Fr",
    "outputId": "b09e1f86-f6ec-4f13-e11b-b7af2d8986fe"
   },
   "outputs": [
    {
     "data": {
      "text/plain": [
       "0.776888888888889"
      ]
     },
     "execution_count": 165,
     "metadata": {},
     "output_type": "execute_result"
    }
   ],
   "source": [
    "grid_poly.best_score_"
   ]
  },
  {
   "cell_type": "code",
   "execution_count": 166,
   "metadata": {
    "colab": {
     "base_uri": "https://localhost:8080/"
    },
    "id": "ZktHfzlll9Te",
    "outputId": "3528929f-db92-45b2-cc81-505b9b2c2bda"
   },
   "outputs": [
    {
     "name": "stdout",
     "output_type": "stream",
     "text": [
      "Best parameters: {'C': 0.001, 'gamma': 0.001, 'max_iter': 450}\n",
      "Best cross-validation score: 0.78\n"
     ]
    }
   ],
   "source": [
    "# printing the best parameters\n",
    "print(\"Best parameters: {}\".format(grid_poly.best_params_))\n",
    "print(\"Best cross-validation score: {:.2f}\".format(grid_poly.best_score_))"
   ]
  },
  {
   "cell_type": "code",
   "execution_count": 167,
   "metadata": {
    "id": "togCo5WVl_IB"
   },
   "outputs": [],
   "source": [
    "#Predicting y from X_test\n",
    "y_pred_grid_poly =grid_poly.predict(X_test)"
   ]
  },
  {
   "cell_type": "code",
   "execution_count": 168,
   "metadata": {
    "colab": {
     "base_uri": "https://localhost:8080/"
    },
    "id": "ZGN-3qrtmA_b",
    "outputId": "b7213535-72c7-43f0-b196-c211bafc1926"
   },
   "outputs": [
    {
     "data": {
      "text/plain": [
       "0.5093333333333333"
      ]
     },
     "execution_count": 168,
     "metadata": {},
     "output_type": "execute_result"
    }
   ],
   "source": [
    "#Accuracy Score\n",
    "accuracy_score(y_pred_grid_poly,y_test)"
   ]
  },
  {
   "cell_type": "code",
   "execution_count": 169,
   "metadata": {
    "colab": {
     "base_uri": "https://localhost:8080/"
    },
    "id": "roiMXqHxmC0u",
    "outputId": "9e6ee1d7-c614-4fbb-ab9e-5b94196d7304"
   },
   "outputs": [
    {
     "name": "stdout",
     "output_type": "stream",
     "text": [
      "              precision    recall  f1-score   support\n",
      "\n",
      "           0       0.53      0.78      0.63       409\n",
      "           1       0.41      0.19      0.26       341\n",
      "\n",
      "    accuracy                           0.51       750\n",
      "   macro avg       0.47      0.48      0.45       750\n",
      "weighted avg       0.48      0.51      0.46       750\n",
      "\n",
      "[[318  91]\n",
      " [277  64]]\n"
     ]
    }
   ],
   "source": [
    "#Classification report\n",
    "print(classification_report(y_pred_grid_poly,y_test))\n",
    "#Confusion Matrix\n",
    "print(confusion_matrix(y_pred_grid_poly,y_test))"
   ]
  },
  {
   "cell_type": "markdown",
   "metadata": {
    "id": "mNwU69PpmGbq"
   },
   "source": [
    "# Svc Kernel -rbf\n",
    "### splitting the dataset into train and test and applying min max scalar\n"
   ]
  },
  {
   "cell_type": "code",
   "execution_count": 170,
   "metadata": {
    "id": "yFtt6SqRmYo0"
   },
   "outputs": [],
   "source": [
    "# splitting the dataset into train and test and applying min max scalar\n",
    "X = df_classification.drop('STATUS', axis = 1)\n",
    "y = df_classification['STATUS']\n",
    "\n",
    "X_train, X_test, y_train, y_test = train_test_split(X, y, random_state = 0)\n",
    "\n",
    "scaler = MinMaxScaler()\n",
    "X_train = scaler.fit_transform(X_train)\n",
    "X_test = scaler.transform(X_test)"
   ]
  },
  {
   "cell_type": "code",
   "execution_count": 171,
   "metadata": {
    "colab": {
     "base_uri": "https://localhost:8080/"
    },
    "id": "Sy4acEk-mZ_J",
    "outputId": "2a96e223-5fb9-4df9-c474-eb64c616f4cd"
   },
   "outputs": [
    {
     "data": {
      "text/plain": [
       "0.7933333333333333"
      ]
     },
     "execution_count": 171,
     "metadata": {},
     "output_type": "execute_result"
    }
   ],
   "source": [
    "# accuracy score\n",
    "clf_rbf = SVC(kernel = 'rbf')\n",
    "clf_rbf.fit(X_train,y_train)\n",
    "y_pred=clf_rbf.predict(X_test)\n",
    "accuracy_score(y_test, y_pred)"
   ]
  },
  {
   "cell_type": "code",
   "execution_count": 172,
   "metadata": {
    "colab": {
     "base_uri": "https://localhost:8080/"
    },
    "id": "yEEKXfvomayK",
    "outputId": "67255f99-5a2a-457a-80f5-5e3f6b7ddb79"
   },
   "outputs": [
    {
     "name": "stdout",
     "output_type": "stream",
     "text": [
      "SVC(C=0.001, gamma=0.001, max_iter=450)\n",
      "0.776888888888889\n"
     ]
    }
   ],
   "source": [
    "import warnings\n",
    "warnings.filterwarnings('ignore', 'Solver terminated early.*')\n",
    "param_dist={\n",
    "    \"max_iter\":[10,50,100,150,200,250,300,350,400,450,500],\n",
    "    \"C\":[0.001, 0.01, 0.1, 1, 10],\n",
    "    \"gamma\":[0.001, 0.01, 0.1, 1, 10]\n",
    "}\n",
    "grid=GridSearchCV(clf_rbf, param_grid=param_dist, cv=5, n_jobs=-1)\n",
    "grid.fit(X_train,y_train)\n",
    "print(grid.best_estimator_)\n",
    "print(grid.best_score_)"
   ]
  },
  {
   "cell_type": "code",
   "execution_count": 173,
   "metadata": {
    "colab": {
     "base_uri": "https://localhost:8080/"
    },
    "id": "Dw6j7lInmckV",
    "outputId": "11c40c0e-664f-4346-8dfc-4a54d39e52e6"
   },
   "outputs": [
    {
     "name": "stdout",
     "output_type": "stream",
     "text": [
      "Best parameters: {'C': 0.001, 'gamma': 0.001, 'max_iter': 450}\n"
     ]
    }
   ],
   "source": [
    "print(\"Best parameters: {}\".format(grid.best_params_))"
   ]
  },
  {
   "cell_type": "code",
   "execution_count": 174,
   "metadata": {
    "id": "r0tbAA4YmfJk"
   },
   "outputs": [],
   "source": [
    "#Predicting y values\n",
    "y_pred_grid =grid.predict(X_test)"
   ]
  },
  {
   "cell_type": "code",
   "execution_count": 175,
   "metadata": {
    "colab": {
     "base_uri": "https://localhost:8080/"
    },
    "id": "RH2zyeDwmgyL",
    "outputId": "96972146-28a3-4af7-9595-350eb9466f13"
   },
   "outputs": [
    {
     "data": {
      "text/plain": [
       "0.6053333333333333"
      ]
     },
     "execution_count": 175,
     "metadata": {},
     "output_type": "execute_result"
    }
   ],
   "source": [
    "#Accuracy Score\n",
    "accuracy_score(y_pred_grid,y_test)"
   ]
  },
  {
   "cell_type": "code",
   "execution_count": 176,
   "metadata": {
    "colab": {
     "base_uri": "https://localhost:8080/"
    },
    "id": "gcE5PcsnmhwJ",
    "outputId": "ab06185a-9b57-410a-a476-7899af8b5123"
   },
   "outputs": [
    {
     "name": "stdout",
     "output_type": "stream",
     "text": [
      "              precision    recall  f1-score   support\n",
      "\n",
      "           0       0.68      0.80      0.73       505\n",
      "           1       0.34      0.21      0.26       245\n",
      "\n",
      "    accuracy                           0.61       750\n",
      "   macro avg       0.51      0.50      0.50       750\n",
      "weighted avg       0.56      0.61      0.58       750\n",
      "\n"
     ]
    }
   ],
   "source": [
    "#Classification Report\n",
    "import warnings\n",
    "warnings.filterwarnings('ignore')\n",
    "print(classification_report(y_pred_grid,y_test))\n"
   ]
  },
  {
   "cell_type": "code",
   "execution_count": 177,
   "metadata": {
    "colab": {
     "base_uri": "https://localhost:8080/"
    },
    "id": "RaBHm2HSmjTd",
    "outputId": "eafc8710-ff70-4d9c-aeeb-8973fcaca058"
   },
   "outputs": [
    {
     "name": "stdout",
     "output_type": "stream",
     "text": [
      "[[402 103]\n",
      " [193  52]]\n"
     ]
    }
   ],
   "source": [
    "#Confusion Matrix\n",
    "print(confusion_matrix(y_pred_grid,y_test))"
   ]
  },
  {
   "cell_type": "markdown",
   "metadata": {
    "id": "wb93WTOGmlic"
   },
   "source": [
    "# SVC Kernel -Linear"
   ]
  },
  {
   "cell_type": "code",
   "execution_count": 178,
   "metadata": {
    "colab": {
     "base_uri": "https://localhost:8080/"
    },
    "id": "VvFLBr8VmkwQ",
    "outputId": "de515155-a103-43b3-df4d-06d69690df69"
   },
   "outputs": [
    {
     "data": {
      "text/plain": [
       "0.7933333333333333"
      ]
     },
     "execution_count": 178,
     "metadata": {},
     "output_type": "execute_result"
    }
   ],
   "source": [
    "X = df_classification.drop('STATUS', axis = 1)\n",
    "y = df_classification['STATUS']\n",
    "\n",
    "X_train, X_test, y_train, y_test = train_test_split(X, y, random_state = 0)\n",
    "\n",
    "scaler = MinMaxScaler()\n",
    "X_train = scaler.fit_transform(X_train)\n",
    "X_test = scaler.transform(X_test)\n",
    "clf_lin = SVC(kernel = 'linear')\n",
    "clf_lin.fit(X_train,y_train)\n",
    "y_pred=clf_lin.predict(X_test)\n",
    "accuracy_score(y_test, y_pred)\n"
   ]
  },
  {
   "cell_type": "markdown",
   "metadata": {
    "id": "GsxO36phmrC3"
   },
   "source": [
    "### Using Hyper Tuning"
   ]
  },
  {
   "cell_type": "code",
   "execution_count": 179,
   "metadata": {
    "colab": {
     "base_uri": "https://localhost:8080/"
    },
    "id": "OiD_Io9gmrk1",
    "outputId": "06a8058c-9e23-49c2-c176-e28d15f02035"
   },
   "outputs": [
    {
     "name": "stdout",
     "output_type": "stream",
     "text": [
      "SVC(C=0.001, gamma=0.001, kernel='linear', max_iter=450)\n",
      "0.776888888888889\n",
      "Best parameters: {'C': 0.001, 'gamma': 0.001, 'max_iter': 450}\n"
     ]
    }
   ],
   "source": [
    "#Using Hyper Tuning\n",
    "import warnings\n",
    "warnings.filterwarnings('ignore', 'Solver terminated early.*')\n",
    "param_dist={\n",
    "    \"max_iter\":[10,50,100,150,200,250,300,350,400,450,500],\n",
    "    \"C\":[0.001, 0.01, 0.1, 1, 10],\n",
    "    \"gamma\":[0.001, 0.01, 0.1, 1, 10]\n",
    "}\n",
    "grid_svc_hp=GridSearchCV(clf_lin, param_grid=param_dist, cv=5, n_jobs=-1)\n",
    "grid_svc_hp.fit(X_train,y_train)\n",
    "print(grid_svc_hp.best_estimator_)\n",
    "print(grid_svc_hp.best_score_)\n",
    "print(\"Best parameters: {}\".format(grid_svc_hp.best_params_))"
   ]
  },
  {
   "cell_type": "code",
   "execution_count": 180,
   "metadata": {
    "colab": {
     "base_uri": "https://localhost:8080/"
    },
    "id": "dcyN85sdms6q",
    "outputId": "7fccf165-537e-4e27-feaa-63427ed9d132"
   },
   "outputs": [
    {
     "data": {
      "text/plain": [
       "0.656"
      ]
     },
     "execution_count": 180,
     "metadata": {},
     "output_type": "execute_result"
    }
   ],
   "source": [
    "#Predicting y\n",
    "y_pred_svc_hp =grid_svc_hp.predict(X_test)\n",
    "#Accuracy Score\n",
    "accuracy_score(y_pred_svc_hp,y_test)"
   ]
  },
  {
   "cell_type": "code",
   "execution_count": 181,
   "metadata": {
    "colab": {
     "base_uri": "https://localhost:8080/"
    },
    "id": "Qn0BQpKSmvvH",
    "outputId": "3d315b34-a3f7-4f63-fb47-cb7b31c2f117"
   },
   "outputs": [
    {
     "name": "stdout",
     "output_type": "stream",
     "text": [
      "              precision    recall  f1-score   support\n",
      "\n",
      "           0       0.76      0.80      0.78       569\n",
      "           1       0.25      0.22      0.23       181\n",
      "\n",
      "    accuracy                           0.66       750\n",
      "   macro avg       0.51      0.51      0.51       750\n",
      "weighted avg       0.64      0.66      0.65       750\n",
      "\n",
      "[[453 116]\n",
      " [142  39]]\n"
     ]
    }
   ],
   "source": [
    "#Classification Report\n",
    "import warnings\n",
    "warnings.filterwarnings('ignore')\n",
    "print(classification_report(y_pred_svc_hp,y_test))\n",
    "#Confusion Report\n",
    "print(confusion_matrix(y_pred_svc_hp,y_test))"
   ]
  },
  {
   "cell_type": "markdown",
   "metadata": {
    "id": "rSb9rHE1m6LL"
   },
   "source": [
    "# Decision Tree\n",
    "## splitting data into train and test and applied grid search in order to find out the best estimator"
   ]
  },
  {
   "cell_type": "code",
   "execution_count": 182,
   "metadata": {
    "colab": {
     "base_uri": "https://localhost:8080/"
    },
    "id": "KeqiQO2Jm3of",
    "outputId": "a8eb3f74-1e93-4771-c338-c34ce1edd26e"
   },
   "outputs": [
    {
     "data": {
      "text/plain": [
       "0.64"
      ]
     },
     "execution_count": 182,
     "metadata": {},
     "output_type": "execute_result"
    }
   ],
   "source": [
    "# splitting data into train and test\n",
    "X_train, X_test, y_train, y_test = train_test_split(X, y, random_state = 0)\n",
    "tree = DecisionTreeClassifier()\n",
    "tree.fit(X_train,y_train)\n",
    "y_pred=tree.predict(X_test)\n",
    "from sklearn.metrics import accuracy_score\n",
    "accuracy_score(y_test, y_pred)"
   ]
  },
  {
   "cell_type": "code",
   "execution_count": 183,
   "metadata": {
    "id": "QzrVTNeLnhS5"
   },
   "outputs": [],
   "source": [
    "#Predicting y without hyper parameter tuning\n",
    "y_pred_tree =tree.predict(X_test)"
   ]
  },
  {
   "cell_type": "code",
   "execution_count": 184,
   "metadata": {
    "colab": {
     "base_uri": "https://localhost:8080/"
    },
    "id": "LwacvRW4nivh",
    "outputId": "b67ecbc3-359e-4830-9ea3-94f65d63aa78"
   },
   "outputs": [
    {
     "data": {
      "text/plain": [
       "0.64"
      ]
     },
     "execution_count": 184,
     "metadata": {},
     "output_type": "execute_result"
    }
   ],
   "source": [
    "#Accuracy Score\n",
    "accuracy_score(y_pred_tree,y_test)"
   ]
  },
  {
   "cell_type": "code",
   "execution_count": 185,
   "metadata": {
    "colab": {
     "base_uri": "https://localhost:8080/"
    },
    "id": "na5O0URNnjym",
    "outputId": "dde96eb4-8118-4855-d428-335f5f5839e5"
   },
   "outputs": [
    {
     "name": "stdout",
     "output_type": "stream",
     "text": [
      "              precision    recall  f1-score   support\n",
      "\n",
      "           0       0.76      0.78      0.77       575\n",
      "           1       0.19      0.17      0.18       175\n",
      "\n",
      "    accuracy                           0.64       750\n",
      "   macro avg       0.47      0.48      0.48       750\n",
      "weighted avg       0.62      0.64      0.63       750\n",
      "\n"
     ]
    }
   ],
   "source": [
    "#Classification Report\n",
    "import warnings\n",
    "warnings.filterwarnings('ignore')\n",
    "print(classification_report(y_pred_tree,y_test))"
   ]
  },
  {
   "cell_type": "code",
   "execution_count": 186,
   "metadata": {
    "colab": {
     "base_uri": "https://localhost:8080/"
    },
    "id": "f_SMgMXDnlxn",
    "outputId": "e097fc10-6c9a-4864-ac87-9f54494c2116"
   },
   "outputs": [
    {
     "name": "stdout",
     "output_type": "stream",
     "text": [
      "[[450 125]\n",
      " [145  30]]\n"
     ]
    }
   ],
   "source": [
    "#Confusion report\n",
    "print(confusion_matrix(y_pred_tree,y_test))"
   ]
  },
  {
   "cell_type": "markdown",
   "metadata": {
    "id": "Gqag-9Uhnqg6"
   },
   "source": [
    "### Decision Tree with Hyper-parameters"
   ]
  },
  {
   "cell_type": "code",
   "execution_count": 187,
   "metadata": {
    "colab": {
     "base_uri": "https://localhost:8080/"
    },
    "id": "bT8CGOzwnncG",
    "outputId": "c3815c17-0e73-462b-93ed-fa6c4d9c3f31"
   },
   "outputs": [
    {
     "data": {
      "text/plain": [
       "DecisionTreeClassifier(criterion='entropy', max_depth=1)"
      ]
     },
     "execution_count": 187,
     "metadata": {},
     "output_type": "execute_result"
    }
   ],
   "source": [
    "param_dist={\n",
    "    \"criterion\":[\"gini\",\"entropy\"],\n",
    "    \"max_depth\":[1,2,3,4,5,6,7]\n",
    "}\n",
    "from sklearn.model_selection import GridSearchCV\n",
    "grid_tree=GridSearchCV(tree, param_grid=param_dist, cv=10, n_jobs=-1)\n",
    "grid_tree.fit(X_train,y_train)\n",
    "grid_tree.best_estimator_"
   ]
  },
  {
   "cell_type": "code",
   "execution_count": 188,
   "metadata": {
    "colab": {
     "base_uri": "https://localhost:8080/"
    },
    "id": "5a3kjBvYn0jj",
    "outputId": "ad74d1dd-f111-4426-9a7e-3f47c68423f7"
   },
   "outputs": [
    {
     "data": {
      "text/plain": [
       "0.776888888888889"
      ]
     },
     "execution_count": 188,
     "metadata": {},
     "output_type": "execute_result"
    }
   ],
   "source": [
    "grid_tree.best_score_"
   ]
  },
  {
   "cell_type": "code",
   "execution_count": 189,
   "metadata": {
    "colab": {
     "base_uri": "https://localhost:8080/"
    },
    "id": "p4eL7w67n27v",
    "outputId": "b7cec948-e1fc-4fda-e3d8-786a1ed07952"
   },
   "outputs": [
    {
     "data": {
      "text/plain": [
       "{'criterion': 'entropy', 'max_depth': 1}"
      ]
     },
     "execution_count": 189,
     "metadata": {},
     "output_type": "execute_result"
    }
   ],
   "source": [
    "#hyper parameter tunning\n",
    "grid_tree.best_params_"
   ]
  },
  {
   "cell_type": "code",
   "execution_count": 190,
   "metadata": {
    "colab": {
     "base_uri": "https://localhost:8080/"
    },
    "id": "n0JpAflTn3zZ",
    "outputId": "fa992ca5-eaaa-46d7-daa4-182ecf1f50ca"
   },
   "outputs": [
    {
     "name": "stdout",
     "output_type": "stream",
     "text": [
      "Accuracy on training set: 0.777\n",
      "Accuracy on test set: 0.793\n"
     ]
    }
   ],
   "source": [
    "dtree = DecisionTreeClassifier(max_depth=1, criterion = 'gini')\n",
    "dtree.fit(X_train, y_train)\n",
    "\n",
    "print(\"Accuracy on training set: {:.3f}\".format(dtree.score(X_train, y_train)))\n",
    "print(\"Accuracy on test set: {:.3f}\".format(dtree.score(X_test, y_test)))"
   ]
  },
  {
   "cell_type": "code",
   "execution_count": 191,
   "metadata": {
    "id": "PnZ8QUu9n5ZY"
   },
   "outputs": [],
   "source": [
    "# Predicting y\n",
    "y_pred_dtree =dtree.predict(X_test)"
   ]
  },
  {
   "cell_type": "code",
   "execution_count": 192,
   "metadata": {
    "colab": {
     "base_uri": "https://localhost:8080/"
    },
    "id": "BNtmhNM0n7Ve",
    "outputId": "ba336331-44c8-485f-a10b-f65a2485071f"
   },
   "outputs": [
    {
     "data": {
      "text/plain": [
       "0.7933333333333333"
      ]
     },
     "execution_count": 192,
     "metadata": {},
     "output_type": "execute_result"
    }
   ],
   "source": [
    "#Accuracy Score\n",
    "accuracy_score(y_pred_dtree,y_test)"
   ]
  },
  {
   "cell_type": "code",
   "execution_count": 193,
   "metadata": {
    "colab": {
     "base_uri": "https://localhost:8080/"
    },
    "id": "bZVKwyFen8Sp",
    "outputId": "863e9f80-9a65-4687-d37d-708fe4333589"
   },
   "outputs": [
    {
     "name": "stdout",
     "output_type": "stream",
     "text": [
      "              precision    recall  f1-score   support\n",
      "\n",
      "           0       1.00      0.79      0.88       750\n",
      "           1       0.00      0.00      0.00         0\n",
      "\n",
      "    accuracy                           0.79       750\n",
      "   macro avg       0.50      0.40      0.44       750\n",
      "weighted avg       1.00      0.79      0.88       750\n",
      "\n",
      "[[595 155]\n",
      " [  0   0]]\n"
     ]
    }
   ],
   "source": [
    "#Classification report\n",
    "import warnings\n",
    "warnings.filterwarnings('ignore')\n",
    "print(classification_report(y_pred_dtree,y_test))\n",
    "#Confusion matrix\n",
    "print(confusion_matrix(y_pred_dtree,y_test))"
   ]
  },
  {
   "cell_type": "markdown",
   "metadata": {
    "id": "P1aPCP2doDAz"
   },
   "source": [
    "## Decision Tree Diagram"
   ]
  },
  {
   "cell_type": "code",
   "execution_count": 194,
   "metadata": {
    "colab": {
     "base_uri": "https://localhost:8080/",
     "height": 303
    },
    "id": "2vjgDP3Qn-dL",
    "outputId": "68254aff-52d9-4af3-fe67-5d8f6eec15cb"
   },
   "outputs": [
    {
     "data": {
      "text/plain": [
       "[Text(167.4, 163.07999999999998, 'X[4] <= 68436.0\\ngini = 0.347\\nsamples = 2250\\nvalue = [1748, 502]'),\n",
       " Text(83.7, 54.360000000000014, 'gini = 0.245\\nsamples = 119\\nvalue = [102, 17]'),\n",
       " Text(251.10000000000002, 54.360000000000014, 'gini = 0.352\\nsamples = 2131\\nvalue = [1646, 485]')]"
      ]
     },
     "execution_count": 194,
     "metadata": {},
     "output_type": "execute_result"
    },
    {
     "data": {
      "image/png": "[encoded data removed]",
      "text/plain": [
       "<Figure size 432x288 with 1 Axes>"
      ]
     },
     "metadata": {
      "needs_background": "light"
     },
     "output_type": "display_data"
    }
   ],
   "source": [
    "from sklearn import tree\n",
    "tree.plot_tree(dtree)"
   ]
  },
  {
   "cell_type": "markdown",
   "metadata": {
    "id": "9A-VOLcVoH2Z"
   },
   "source": [
    "# Softmax Regression"
   ]
  },
  {
   "cell_type": "code",
   "execution_count": 195,
   "metadata": {
    "id": "rls9GK-ioFTT"
   },
   "outputs": [],
   "source": [
    "X = df_classification.drop('STATUS', axis = 1)\n",
    "y = df_classification['STATUS']\n",
    "\n",
    "X_train, X_test, y_train, y_test = train_test_split(X, y, random_state = 0)\n",
    "\n",
    "scaler = MinMaxScaler()\n",
    "X_train = scaler.fit_transform(X_train)\n",
    "X_test = scaler.transform(X_test)"
   ]
  },
  {
   "cell_type": "code",
   "execution_count": 196,
   "metadata": {
    "colab": {
     "base_uri": "https://localhost:8080/"
    },
    "id": "mhR2oFhgoM6y",
    "outputId": "317c2b0a-e97d-4823-e5a6-47c6881bc1e3"
   },
   "outputs": [
    {
     "name": "stdout",
     "output_type": "stream",
     "text": [
      "Train score: 0.7773\n",
      "Test score: 0.7920\n"
     ]
    }
   ],
   "source": [
    "softmax_reg = LogisticRegression(multi_class=\"multinomial\",solver=\"lbfgs\", C=10, max_iter=1000)\n",
    "softmax_reg.fit(X_train, y_train)\n",
    "\n",
    "\n",
    "print('Train score: {:.4f}'.format(softmax_reg.score(X_train, y_train)))\n",
    "print('Test score: {:.4f}'.format(softmax_reg.score(X_test, y_test)))"
   ]
  },
  {
   "cell_type": "code",
   "execution_count": 197,
   "metadata": {
    "id": "hGaYWy_zoNNJ"
   },
   "outputs": [],
   "source": [
    "y_pred=softmax_reg.predict(X_test)"
   ]
  },
  {
   "cell_type": "code",
   "execution_count": 198,
   "metadata": {
    "colab": {
     "base_uri": "https://localhost:8080/"
    },
    "id": "HPbA1AUzoOUE",
    "outputId": "4765d18a-a4a9-445c-d123-e343839b4339"
   },
   "outputs": [
    {
     "data": {
      "text/plain": [
       "0.792"
      ]
     },
     "execution_count": 198,
     "metadata": {},
     "output_type": "execute_result"
    }
   ],
   "source": [
    "from sklearn.metrics import accuracy_score\n",
    "accuracy_score(y_test, y_pred)"
   ]
  },
  {
   "cell_type": "code",
   "execution_count": 199,
   "metadata": {
    "colab": {
     "base_uri": "https://localhost:8080/"
    },
    "id": "qeXedvq7oPwO",
    "outputId": "afe65fb5-d471-4588-86e8-084c1e53e2c7"
   },
   "outputs": [
    {
     "name": "stdout",
     "output_type": "stream",
     "text": [
      "              precision    recall  f1-score   support\n",
      "\n",
      "           0       1.00      0.79      0.88       747\n",
      "           1       0.01      0.33      0.01         3\n",
      "\n",
      "    accuracy                           0.79       750\n",
      "   macro avg       0.50      0.56      0.45       750\n",
      "weighted avg       0.99      0.79      0.88       750\n",
      "\n"
     ]
    }
   ],
   "source": [
    "#Classification report\n",
    "import warnings\n",
    "warnings.filterwarnings('ignore')\n",
    "print(classification_report(y_pred,y_test))"
   ]
  },
  {
   "cell_type": "code",
   "execution_count": 200,
   "metadata": {
    "colab": {
     "base_uri": "https://localhost:8080/"
    },
    "id": "7LbN9SaNoRKs",
    "outputId": "236d438e-78a6-4393-d159-43f1a06685fe"
   },
   "outputs": [
    {
     "name": "stdout",
     "output_type": "stream",
     "text": [
      "[[593 154]\n",
      " [  2   1]]\n"
     ]
    }
   ],
   "source": [
    "#Confusion matrix\n",
    "print(confusion_matrix(y_pred,y_test))"
   ]
  },
  {
   "cell_type": "markdown",
   "metadata": {
    "id": "FHo0ZZ4ZoVtf"
   },
   "source": [
    "## We have KNN classification, Logistic Regression, Linear Support Vector Machine, Kerenilzed Support Vector Machine (rbf, poly, and linear), Decision Tree Classifier. The cumulative results are given below\n"
   ]
  },
  {
   "cell_type": "code",
   "execution_count": 201,
   "metadata": {
    "colab": {
     "base_uri": "https://localhost:8080/",
     "height": 417
    },
    "id": "mEtxry1QoSgP",
    "outputId": "f6fe1832-634d-45f4-cc7b-b967ef21d1e9"
   },
   "outputs": [
    {
     "data": {
      "text/html": [
       "<div>\n",
       "<style scoped>\n",
       "    .dataframe tbody tr th:only-of-type {\n",
       "        vertical-align: middle;\n",
       "    }\n",
       "\n",
       "    .dataframe tbody tr th {\n",
       "        vertical-align: top;\n",
       "    }\n",
       "\n",
       "    .dataframe thead th {\n",
       "        text-align: right;\n",
       "    }\n",
       "</style>\n",
       "<table border=\"1\" class=\"dataframe\">\n",
       "  <thead>\n",
       "    <tr style=\"text-align: right;\">\n",
       "      <th></th>\n",
       "      <th>Sno.</th>\n",
       "      <th>1</th>\n",
       "      <th>2</th>\n",
       "      <th>3</th>\n",
       "      <th>4</th>\n",
       "      <th>5</th>\n",
       "      <th>6</th>\n",
       "      <th>7</th>\n",
       "      <th>8</th>\n",
       "      <th>9</th>\n",
       "      <th>10</th>\n",
       "      <th>Unnamed: 11</th>\n",
       "      <th>Unnamed: 12</th>\n",
       "      <th>Unnamed: 13</th>\n",
       "      <th>Unnamed: 14</th>\n",
       "      <th>Unnamed: 15</th>\n",
       "      <th>Unnamed: 16</th>\n",
       "      <th>Unnamed: 17</th>\n",
       "      <th>Unnamed: 18</th>\n",
       "      <th>Unnamed: 19</th>\n",
       "      <th>Unnamed: 20</th>\n",
       "      <th>Unnamed: 21</th>\n",
       "      <th>Unnamed: 22</th>\n",
       "      <th>Unnamed: 23</th>\n",
       "      <th>Unnamed: 24</th>\n",
       "      <th>Unnamed: 25</th>\n",
       "      <th>Unnamed: 26</th>\n",
       "      <th>Unnamed: 27</th>\n",
       "      <th>Unnamed: 28</th>\n",
       "    </tr>\n",
       "  </thead>\n",
       "  <tbody>\n",
       "    <tr>\n",
       "      <th>0</th>\n",
       "      <td>Model Name</td>\n",
       "      <td>KNN Classifier-HP</td>\n",
       "      <td>Logistic Regression-HP</td>\n",
       "      <td>Linear SVC</td>\n",
       "      <td>Linear SVC-HP</td>\n",
       "      <td>SVC Poly-HP</td>\n",
       "      <td>SVC -RBF-HP</td>\n",
       "      <td>SVC -Kernel Linear-HP</td>\n",
       "      <td>Decision tree</td>\n",
       "      <td>Decision tree_Hp</td>\n",
       "      <td>Softmax Regression-Hp</td>\n",
       "      <td>Voting- Hard- Decision Tree</td>\n",
       "      <td>Voting - Hard- SVC poly</td>\n",
       "      <td>Voting - Soft- Decision Tree</td>\n",
       "      <td>Bagging - Decision Tree</td>\n",
       "      <td>Pasting Decision tree</td>\n",
       "      <td>Bagging - Logistc Regression</td>\n",
       "      <td>Pasting - Logistic Regression</td>\n",
       "      <td>Ada Boosting-Decision Tree</td>\n",
       "      <td>Ada Boosting - Softmax</td>\n",
       "      <td>Gradient Boosting -</td>\n",
       "      <td>PCA- KNN</td>\n",
       "      <td>PCA-Logistic Regression</td>\n",
       "      <td>PCA- SVC Linear kernel</td>\n",
       "      <td>PCA- SVC Poly</td>\n",
       "      <td>PCA- SVC RBF</td>\n",
       "      <td>PCA- SVC kernel-Linear- HP</td>\n",
       "      <td>PCA -Decision Tree</td>\n",
       "      <td>PCA - Softmax</td>\n",
       "    </tr>\n",
       "    <tr>\n",
       "      <th>1</th>\n",
       "      <td>Accuracy Score</td>\n",
       "      <td>0.781333</td>\n",
       "      <td>0.788</td>\n",
       "      <td>0.788</td>\n",
       "      <td>0.788</td>\n",
       "      <td>0.7866</td>\n",
       "      <td>0.806</td>\n",
       "      <td>0.455</td>\n",
       "      <td>0.625</td>\n",
       "      <td>0.77</td>\n",
       "      <td>0.788</td>\n",
       "      <td>0.7733</td>\n",
       "      <td>0.233</td>\n",
       "      <td>0.7733</td>\n",
       "      <td>0.77</td>\n",
       "      <td>0.77</td>\n",
       "      <td>0.77</td>\n",
       "      <td>0.77</td>\n",
       "      <td>NaN</td>\n",
       "      <td>NaN</td>\n",
       "      <td>NaN</td>\n",
       "      <td>0.752</td>\n",
       "      <td>0.604</td>\n",
       "      <td>0.7733</td>\n",
       "      <td>0.268</td>\n",
       "      <td>0.6688</td>\n",
       "      <td>0.541</td>\n",
       "      <td>0.773</td>\n",
       "      <td>NaN</td>\n",
       "    </tr>\n",
       "    <tr>\n",
       "      <th>2</th>\n",
       "      <td>Recall- Weighted avg</td>\n",
       "      <td>0.78</td>\n",
       "      <td>0.79</td>\n",
       "      <td>0.79</td>\n",
       "      <td>0.79</td>\n",
       "      <td>0.44</td>\n",
       "      <td>0.59</td>\n",
       "      <td>0.45</td>\n",
       "      <td>0.63</td>\n",
       "      <td>0.79</td>\n",
       "      <td>0.79</td>\n",
       "      <td>0.77</td>\n",
       "      <td>0.23</td>\n",
       "      <td>0.77</td>\n",
       "      <td>0.77</td>\n",
       "      <td>0.77</td>\n",
       "      <td>0.77</td>\n",
       "      <td>0.77</td>\n",
       "      <td>0.76</td>\n",
       "      <td>0.77</td>\n",
       "      <td>NaN</td>\n",
       "      <td>0.753</td>\n",
       "      <td>0.604</td>\n",
       "      <td>0.77</td>\n",
       "      <td>0.27</td>\n",
       "      <td>0.678</td>\n",
       "      <td>0.54</td>\n",
       "      <td>0.77</td>\n",
       "      <td>0.8</td>\n",
       "    </tr>\n",
       "    <tr>\n",
       "      <th>3</th>\n",
       "      <td>Precision- Weighted</td>\n",
       "      <td>0.98</td>\n",
       "      <td>1</td>\n",
       "      <td>1</td>\n",
       "      <td>1</td>\n",
       "      <td>0.56</td>\n",
       "      <td>0.55</td>\n",
       "      <td>0.59</td>\n",
       "      <td>0.6</td>\n",
       "      <td>1</td>\n",
       "      <td>1</td>\n",
       "      <td>1</td>\n",
       "      <td>0.98</td>\n",
       "      <td>1</td>\n",
       "      <td>1</td>\n",
       "      <td>1</td>\n",
       "      <td>1</td>\n",
       "      <td>1</td>\n",
       "      <td>0.96</td>\n",
       "      <td>1</td>\n",
       "      <td>NaN</td>\n",
       "      <td>0.93</td>\n",
       "      <td>0.57</td>\n",
       "      <td>1</td>\n",
       "      <td>0.93</td>\n",
       "      <td>0.65</td>\n",
       "      <td>0.5</td>\n",
       "      <td>1</td>\n",
       "      <td>1</td>\n",
       "    </tr>\n",
       "    <tr>\n",
       "      <th>4</th>\n",
       "      <td>Recall-Macro Avg</td>\n",
       "      <td>0.39</td>\n",
       "      <td>0.39</td>\n",
       "      <td>0.39</td>\n",
       "      <td>0.39</td>\n",
       "      <td>0.52</td>\n",
       "      <td>0.47</td>\n",
       "      <td>0.53</td>\n",
       "      <td>0.48</td>\n",
       "      <td>0.39</td>\n",
       "      <td>0.39</td>\n",
       "      <td>0.39</td>\n",
       "      <td>0.54</td>\n",
       "      <td>0.39</td>\n",
       "      <td>0.39</td>\n",
       "      <td>0.39</td>\n",
       "      <td>0.39</td>\n",
       "      <td>0.39</td>\n",
       "      <td>0.49</td>\n",
       "      <td>0.39</td>\n",
       "      <td>NaN</td>\n",
       "      <td>0.47</td>\n",
       "      <td>0.52</td>\n",
       "      <td>0.39</td>\n",
       "      <td>0.54</td>\n",
       "      <td>0.51</td>\n",
       "      <td>0.48</td>\n",
       "      <td>0.39</td>\n",
       "      <td>0.4</td>\n",
       "    </tr>\n",
       "  </tbody>\n",
       "</table>\n",
       "</div>"
      ],
      "text/plain": [
       "                   Sno.                  1  ...         Unnamed: 27    Unnamed: 28\n",
       "0            Model Name  KNN Classifier-HP  ...  PCA -Decision Tree  PCA - Softmax\n",
       "1        Accuracy Score           0.781333  ...               0.773            NaN\n",
       "2  Recall- Weighted avg               0.78  ...                0.77            0.8\n",
       "3   Precision- Weighted               0.98  ...                   1              1\n",
       "4      Recall-Macro Avg               0.39  ...                0.39            0.4\n",
       "\n",
       "[5 rows x 29 columns]"
      ]
     },
     "execution_count": 201,
     "metadata": {},
     "output_type": "execute_result"
    }
   ],
   "source": [
    "result= pd.read_excel(\"Results.xlsx\")\n",
    "result"
   ]
  },
  {
   "cell_type": "markdown",
   "metadata": {
    "id": "QlL1ySY_yrz4"
   },
   "source": [
    "# Project 1\n",
    "\n",
    "### Dataset\n",
    "For our Project we took two datasets and for Classification, we took the dataset of Credit Card Application from Kaggle.\n",
    "There were two CSV files: Credit_card_application.csv and credit_record.csv which we combined to create one dataset.\n",
    "\n",
    "These are the insights of the combined dataset before pre processing\n",
    "\n",
    "- There were total 21 columns \n",
    "- There were 438558 instances (rows)\n",
    "- There were 6 Categorical columns.\n",
    "- There were 3 Oridanl Columns.\n",
    "- 5%-10% of the dataset was missing.\n",
    "\n",
    "The dataset was huge. We imputed the dataset with median and mean after checking the skewness of the dataset. We visualized\n",
    "the dataset using bar charts, histogram and pie charts.\n",
    "\n",
    "### Cleaning Process:\n",
    "\n",
    "The dataset was huge therefore, it took a lot of preprocessing. The values were imputed on the basis of mean and median after visualizing and checking the skewness. We imputed categorical/ordinal values on the basis of count. In the end, we took a sample of 3000 rows out of 38558 dataset because it was huge.\n",
    " \n",
    "\n",
    "### Classification models:\n",
    "\n",
    "We ran different types of classification models such as:\n",
    "\n",
    "#### Knn Classifier:\n",
    "\n",
    "- We ran Knn Classifier on Grid Search and the best parameters that we received KNeighborsClassifier(metric='manhattan',       - n_neighbors=10)\n",
    "- we received the train and test scores as follows:\n",
    "- Train score: 0.7817\n",
    "- Test score: 0.7933\n",
    "\n",
    "#### Logistic Regressor:\n",
    "- We ran Logistic Regressor on Grid Search and the best parameters that we received is - GridSearchCV(cv=5,estimator=LogisticRegression(max_iter=1000, random_state=0), param_grid={'C': [0.01, 0.1, 1, 10, 100]}, scoring='roc_auc')\n",
    "\n",
    "- we received scores as follows:\n",
    "- accuracy_score:  0.815\n",
    "- roc_auc_score:  0.46424031393356546\n",
    "\n",
    "#### Linear SVC:\n",
    "- We ran Linear SVC on Grid Search and the best parameters that we received is Best parameters: {'C': 0.001, 'gamma': 0.001}\n",
    "- Best cross-validation score: 0.78.\n",
    "- we received the train and test scores as follows:\n",
    "- Train score: 0.7779\n",
    "- Test score: 0.8150\n",
    "\n",
    "#### SVC Kernel Poly:\n",
    "- We ran GridSearchCV on SVC kernel Poly in order to find the best parameters. We received these as follows:\n",
    "- Best parameters: {'C': 0.001, 'gamma': 0.001}\n",
    "- Best cross-validation score: 0.78\n",
    "\n",
    "#### SVC rbf:\n",
    "- We ran GridSearchCV on SVC rbf in order to find the best parameters. We received these as follows:\n",
    "- SVC(C=0.001, gamma=0.001, max_iter=450)\n",
    "- best score: 0.7779166666666667\n",
    "\n",
    "#### SVC Kernel -  linear:\n",
    "We hyper tuned this model in order to find the best parameters\n",
    "- best score: 0.779166666666667\n",
    "- Best parameters: {'C': 0.001, 'gamma': 0.001}\n",
    "\n",
    "#### Decision Tree :\n",
    "We ran Grid Search on Decision Tree in order to find the maximum depth and best parameters\n",
    "- Best Parameters:  {'criterion': 'gini', 'max_depth': 1}\n",
    "\n",
    "\n",
    "We have KNN classification, Logistic Regression, Linear Support Vector Machine, Kerenilzed Support Vector Machine (rbf, poly, and linear), Decision Tree Classifier. The best accuracy score as per recall is for SVC with kernel =Linear with hyperparamter tuning.\n",
    "\n",
    "Confusion Matrix\n",
    "[[221  46]\n",
    " [370 113]]\n",
    " \n",
    "113 good clients were predicted correctly\n"
   ]
  },
  {
   "cell_type": "markdown",
   "metadata": {
    "id": "NdPpMnoSzMJV"
   },
   "source": [
    "# This is Start of project 2"
   ]
  },
  {
   "cell_type": "markdown",
   "metadata": {
    "id": "9oZNHjGfzUWd"
   },
   "source": [
    "##Voting Classifier"
   ]
  },
  {
   "cell_type": "code",
   "execution_count": 202,
   "metadata": {
    "id": "Ucl6VRzjymhC"
   },
   "outputs": [],
   "source": [
    "from sklearn.tree import DecisionTreeClassifier\n",
    "from sklearn.linear_model import LogisticRegression\n",
    "from sklearn.svm import SVC\n",
    "\n",
    "from sklearn.ensemble import VotingClassifier\n",
    "\n",
    "from sklearn.model_selection import train_test_split\n",
    "from sklearn.preprocessing import StandardScaler"
   ]
  },
  {
   "cell_type": "code",
   "execution_count": 203,
   "metadata": {
    "id": "jEXFDufuzW-X"
   },
   "outputs": [],
   "source": [
    "#We take the 'STATUS' as the target column and est all as the feature columns\n",
    "X = df_classification.drop('STATUS', axis = 1)\n",
    "y = df_classification['STATUS']"
   ]
  },
  {
   "cell_type": "code",
   "execution_count": 204,
   "metadata": {
    "id": "ydVLjvbAzYLC"
   },
   "outputs": [],
   "source": [
    "#Scaling using standard scalar\n",
    "X_train_orig, X_test_orig, y_train, y_test = train_test_split(X, y, random_state=0)\n",
    "\n",
    "scaler = StandardScaler()\n",
    "X_train = scaler.fit_transform(X_train_orig)\n",
    "X_test = scaler.transform(X_test_orig)"
   ]
  },
  {
   "cell_type": "code",
   "execution_count": 205,
   "metadata": {
    "colab": {
     "base_uri": "https://localhost:8080/"
    },
    "id": "QWzEUmZNzZjS",
    "outputId": "3de80d10-22d6-4637-ec0b-d9362264a32d"
   },
   "outputs": [
    {
     "data": {
      "text/plain": [
       "(2250, 32)"
      ]
     },
     "execution_count": 205,
     "metadata": {},
     "output_type": "execute_result"
    }
   ],
   "source": [
    "#Cheking the number of rows and columns in training data set\n",
    "X_train.shape"
   ]
  },
  {
   "cell_type": "code",
   "execution_count": 206,
   "metadata": {
    "colab": {
     "base_uri": "https://localhost:8080/"
    },
    "id": "nYqnxUf_zaiR",
    "outputId": "87de306c-a4ee-4c26-9f05-41e142e99e84"
   },
   "outputs": [
    {
     "data": {
      "text/plain": [
       "(750, 32)"
      ]
     },
     "execution_count": 206,
     "metadata": {},
     "output_type": "execute_result"
    }
   ],
   "source": [
    "#Cheking the number of rows and columns in testing data set\n",
    "X_test.shape"
   ]
  },
  {
   "cell_type": "code",
   "execution_count": 207,
   "metadata": {
    "colab": {
     "base_uri": "https://localhost:8080/"
    },
    "id": "l8YuiHONzbpk",
    "outputId": "da230a4b-2104-4b95-e7e1-d67fdd456a9d"
   },
   "outputs": [
    {
     "name": "stdout",
     "output_type": "stream",
     "text": [
      "DecisionTreeClassifier 0.7933\n",
      "VotingClassifier 0.7933\n"
     ]
    }
   ],
   "source": [
    "#Hot vector encoding- We are using DecisionTreeClassifier\n",
    "dt_clf = DecisionTreeClassifier(max_depth = 1, random_state = 0)\n",
    "dt_clf.fit(X_train, y_train)\n",
    "voting_clf = VotingClassifier(estimators=[('dt', dt_clf)], voting='hard')\n",
    "voting_clf.fit(X_train, y_train)\n",
    "from sklearn.metrics import accuracy_score\n",
    "for clf in (dt_clf, voting_clf):\n",
    "    clf.fit(X_train, y_train)\n",
    "    y_pred = clf.predict(X_test)\n",
    "    print(clf.__class__.__name__, '%.4f'%accuracy_score(y_test, y_pred))"
   ]
  },
  {
   "cell_type": "code",
   "execution_count": 208,
   "metadata": {
    "colab": {
     "base_uri": "https://localhost:8080/"
    },
    "id": "XBIOvp82zdPZ",
    "outputId": "165b0aa7-a1aa-44b4-d362-bcfe21e6952e"
   },
   "outputs": [
    {
     "name": "stdout",
     "output_type": "stream",
     "text": [
      "              precision    recall  f1-score   support\n",
      "\n",
      "           0       1.00      0.79      0.88       750\n",
      "           1       0.00      0.00      0.00         0\n",
      "\n",
      "    accuracy                           0.79       750\n",
      "   macro avg       0.50      0.40      0.44       750\n",
      "weighted avg       1.00      0.79      0.88       750\n",
      "\n"
     ]
    }
   ],
   "source": [
    "#Classification Report\n",
    "y_pred_voting_clf =voting_clf.predict(X_test)\n",
    "from sklearn.metrics import confusion_matrix,classification_report\n",
    "import warnings\n",
    "warnings.filterwarnings('ignore')\n",
    "print(classification_report(y_pred_voting_clf,y_test))\n"
   ]
  },
  {
   "cell_type": "code",
   "execution_count": 209,
   "metadata": {
    "colab": {
     "base_uri": "https://localhost:8080/"
    },
    "id": "9Uvc1bW5zevG",
    "outputId": "8273fdd2-bf77-4cc1-98b0-08ca9228acf1"
   },
   "outputs": [
    {
     "name": "stdout",
     "output_type": "stream",
     "text": [
      "[[595 155]\n",
      " [  0   0]]\n"
     ]
    }
   ],
   "source": [
    "#Confusion metrix\n",
    "print(confusion_matrix(y_pred_voting_clf,y_test))"
   ]
  },
  {
   "cell_type": "code",
   "execution_count": 210,
   "metadata": {
    "colab": {
     "base_uri": "https://localhost:8080/"
    },
    "id": "UeQf4RFwzgmg",
    "outputId": "16fbd600-3ff7-4561-c628-dc502eff2f37"
   },
   "outputs": [
    {
     "name": "stdout",
     "output_type": "stream",
     "text": [
      "SVC 0.2133\n",
      "VotingClassifier 0.2133\n"
     ]
    }
   ],
   "source": [
    "#We have used SVC -Poly\n",
    "svm_clf = SVC(kernel='poly',C= 0.001, gamma= 0.001, max_iter= 450,random_state= 0)\n",
    "svm_clf.fit(X_train, y_train)\n",
    "\n",
    "voting_clf_1 = VotingClassifier(estimators=[('svc', svm_clf)], voting='hard')\n",
    "voting_clf_1.fit(X_train, y_train)\n",
    "\n",
    "from sklearn.metrics import accuracy_score\n",
    "for clf1 in (svm_clf, voting_clf_1):\n",
    "    clf1.fit(X_train, y_train)\n",
    "    y_pred = clf1.predict(X_test)\n",
    "    print(clf1.__class__.__name__, '%.4f'%accuracy_score(y_test, y_pred))"
   ]
  },
  {
   "cell_type": "code",
   "execution_count": 211,
   "metadata": {
    "colab": {
     "base_uri": "https://localhost:8080/"
    },
    "id": "HHBhj8eJziDf",
    "outputId": "99f05405-a840-4b61-d0b5-288e5cbe61d4"
   },
   "outputs": [
    {
     "name": "stdout",
     "output_type": "stream",
     "text": [
      "              precision    recall  f1-score   support\n",
      "\n",
      "           0       0.02      0.69      0.03        13\n",
      "           1       0.97      0.20      0.34       737\n",
      "\n",
      "    accuracy                           0.21       750\n",
      "   macro avg       0.49      0.45      0.18       750\n",
      "weighted avg       0.96      0.21      0.33       750\n",
      "\n"
     ]
    }
   ],
   "source": [
    "#Classification Report\n",
    "y_pred_voting_clf1 =voting_clf_1.predict(X_test)\n",
    "print(classification_report(y_pred_voting_clf1,y_test))"
   ]
  },
  {
   "cell_type": "code",
   "execution_count": 212,
   "metadata": {
    "colab": {
     "base_uri": "https://localhost:8080/"
    },
    "id": "pA_C_8i4zjee",
    "outputId": "362a49d3-8967-45b6-91ee-366d04073bb2"
   },
   "outputs": [
    {
     "name": "stdout",
     "output_type": "stream",
     "text": [
      "[[  9   4]\n",
      " [586 151]]\n"
     ]
    }
   ],
   "source": [
    "#Confusion Matrix\n",
    "print(confusion_matrix(y_pred_voting_clf1,y_test))"
   ]
  },
  {
   "cell_type": "markdown",
   "metadata": {
    "id": "7IUcQFTKznwo"
   },
   "source": [
    "##Applying Soft Voting"
   ]
  },
  {
   "cell_type": "code",
   "execution_count": 213,
   "metadata": {
    "colab": {
     "base_uri": "https://localhost:8080/"
    },
    "id": "HwgnGZCczlPg",
    "outputId": "689b1863-c57c-4043-9199-57e9df6d01ff"
   },
   "outputs": [
    {
     "name": "stdout",
     "output_type": "stream",
     "text": [
      "DecisionTreeClassifier 0.7933\n",
      "VotingClassifier 0.7933\n"
     ]
    }
   ],
   "source": [
    "#For soft voting we are using Decision Tree Classifier\n",
    "dt_clf = DecisionTreeClassifier(max_depth = 1, random_state = 0)\n",
    "dt_clf.fit(X_train, y_train)\n",
    "\n",
    "\n",
    "voting_clf2 = VotingClassifier(estimators=[('dt', dt_clf)], voting='soft')\n",
    "voting_clf2.fit(X_train, y_train)\n",
    "\n",
    "from sklearn.metrics import accuracy_score\n",
    "for clf in (dt_clf, voting_clf2):\n",
    "    clf.fit(X_train, y_train)\n",
    "    y_pred = clf.predict(X_test)\n",
    "    print(clf.__class__.__name__, '%.4f'%accuracy_score(y_test, y_pred))"
   ]
  },
  {
   "cell_type": "code",
   "execution_count": 214,
   "metadata": {
    "colab": {
     "base_uri": "https://localhost:8080/"
    },
    "id": "-0YBb_4pzpqI",
    "outputId": "34779d87-7cf4-4d8c-d177-26d37822520a"
   },
   "outputs": [
    {
     "name": "stdout",
     "output_type": "stream",
     "text": [
      "              precision    recall  f1-score   support\n",
      "\n",
      "           0       1.00      0.79      0.88       750\n",
      "           1       0.00      0.00      0.00         0\n",
      "\n",
      "    accuracy                           0.79       750\n",
      "   macro avg       0.50      0.40      0.44       750\n",
      "weighted avg       1.00      0.79      0.88       750\n",
      "\n"
     ]
    }
   ],
   "source": [
    "#Classification report\n",
    "y_pred_soft =voting_clf2.predict(X_test)\n",
    "print(classification_report(y_pred_soft,y_test))"
   ]
  },
  {
   "cell_type": "code",
   "execution_count": 215,
   "metadata": {
    "colab": {
     "base_uri": "https://localhost:8080/"
    },
    "id": "kkqof_UkzrSv",
    "outputId": "6f418531-f0fd-4a69-8881-a2cc3dbde6ea"
   },
   "outputs": [
    {
     "name": "stdout",
     "output_type": "stream",
     "text": [
      "[[595 155]\n",
      " [  0   0]]\n"
     ]
    }
   ],
   "source": [
    "print(confusion_matrix(y_pred_soft,y_test))"
   ]
  },
  {
   "cell_type": "markdown",
   "metadata": {
    "id": "wnTtUcCZzvXZ"
   },
   "source": [
    "##Bagging and Pasting"
   ]
  },
  {
   "cell_type": "code",
   "execution_count": 216,
   "metadata": {
    "id": "-ygLvQ_vzsxk"
   },
   "outputs": [],
   "source": [
    "from sklearn.ensemble import BaggingClassifier\n",
    "from sklearn.tree import DecisionTreeClassifier\n",
    "# bagging: bootstrap = True\n",
    "# pasting: bootstrap = False\n"
   ]
  },
  {
   "cell_type": "code",
   "execution_count": 217,
   "metadata": {
    "colab": {
     "base_uri": "https://localhost:8080/"
    },
    "id": "_Zshr5eqzxiQ",
    "outputId": "118560aa-facc-4c3f-edd8-c7112a20def6"
   },
   "outputs": [
    {
     "data": {
      "text/plain": [
       "GridSearchCV(cv=5,\n",
       "             estimator=BaggingClassifier(base_estimator=DecisionTreeClassifier(max_depth=1,\n",
       "                                                                               random_state=0)),\n",
       "             n_jobs=-1,\n",
       "             param_grid={'bootstrap': [False],\n",
       "                         'max_features': [0.1, 0.2, 0.3, 0.5],\n",
       "                         'max_samples': [0.1, 0.2, 0.3, 0.4, 0.5],\n",
       "                         'n_estimators': [200, 300, 400, 500]})"
      ]
     },
     "execution_count": 217,
     "metadata": {},
     "output_type": "execute_result"
    }
   ],
   "source": [
    "from sklearn.model_selection import GridSearchCV\n",
    "\n",
    "param_grid = {'n_estimators':[200, 300, 400, 500], \n",
    "              'max_samples':[0.1, 0.2, 0.3, 0.4, 0.5], \n",
    "              'max_features':[0.1, 0.2, 0.3, 0.5],\n",
    "              'bootstrap':[False]}\n",
    "\n",
    "bag_clf = BaggingClassifier(DecisionTreeClassifier(max_depth = 1, random_state = 0))\n",
    "bag_grid = GridSearchCV(bag_clf, param_grid = param_grid, cv = 5, n_jobs = -1)\n",
    "bag_grid.fit(X_train, y_train)"
   ]
  },
  {
   "cell_type": "code",
   "execution_count": 218,
   "metadata": {
    "colab": {
     "base_uri": "https://localhost:8080/"
    },
    "id": "dwLWUyJGzzPh",
    "outputId": "127afd54-5de4-47ce-f664-5792fc083bdc"
   },
   "outputs": [
    {
     "data": {
      "text/plain": [
       "{'bootstrap': False,\n",
       " 'max_features': 0.1,\n",
       " 'max_samples': 0.1,\n",
       " 'n_estimators': 200}"
      ]
     },
     "execution_count": 218,
     "metadata": {},
     "output_type": "execute_result"
    }
   ],
   "source": [
    "#These are best parameters for bootstrap =False, that is these are used for pasting of Decision tree\n",
    "bag_grid.best_params_"
   ]
  },
  {
   "cell_type": "code",
   "execution_count": 219,
   "metadata": {
    "colab": {
     "base_uri": "https://localhost:8080/"
    },
    "id": "DTM4qjEMz0vZ",
    "outputId": "ada3a568-7c07-4730-b6c5-fa47c8f08b51"
   },
   "outputs": [
    {
     "data": {
      "text/plain": [
       "GridSearchCV(cv=5,\n",
       "             estimator=BaggingClassifier(base_estimator=DecisionTreeClassifier(max_depth=1,\n",
       "                                                                               random_state=0)),\n",
       "             n_jobs=-1,\n",
       "             param_grid={'bootstrap': [True],\n",
       "                         'max_features': [0.1, 0.2, 0.3, 0.5],\n",
       "                         'max_samples': [0.1, 0.2, 0.3, 0.4, 0.5],\n",
       "                         'n_estimators': [200, 300, 400, 500]})"
      ]
     },
     "execution_count": 219,
     "metadata": {},
     "output_type": "execute_result"
    }
   ],
   "source": [
    "#Selecting best parameters for boosting for decision tree\n",
    "param_grid = {'n_estimators':[200, 300, 400, 500], \n",
    "              'max_samples':[0.1, 0.2, 0.3, 0.4, 0.5], \n",
    "              'max_features':[0.1, 0.2, 0.3, 0.5],\n",
    "              'bootstrap':[True]}\n",
    "\n",
    "bag_clf = BaggingClassifier(DecisionTreeClassifier(max_depth = 1, random_state = 0))\n",
    "bag_grid = GridSearchCV(bag_clf, param_grid = param_grid, cv = 5, n_jobs = -1)\n",
    "bag_grid.fit(X_train, y_train)"
   ]
  },
  {
   "cell_type": "code",
   "execution_count": 220,
   "metadata": {
    "colab": {
     "base_uri": "https://localhost:8080/"
    },
    "id": "QnuTcPcDz2lg",
    "outputId": "2b362050-38e8-414a-91d1-dbf7cfe75872"
   },
   "outputs": [
    {
     "data": {
      "text/plain": [
       "{'bootstrap': True,\n",
       " 'max_features': 0.1,\n",
       " 'max_samples': 0.1,\n",
       " 'n_estimators': 200}"
      ]
     },
     "execution_count": 220,
     "metadata": {},
     "output_type": "execute_result"
    }
   ],
   "source": [
    "bag_grid.best_params_"
   ]
  },
  {
   "cell_type": "code",
   "execution_count": 221,
   "metadata": {
    "id": "I8yT7NHoz4g_"
   },
   "outputs": [],
   "source": [
    "#Bagging with base model as Decision Tree Classifier \n",
    "bag_clf = BaggingClassifier(DecisionTreeClassifier(max_depth = 1, random_state = 0), \n",
    "                           bootstrap= True,\n",
    "                           max_features= 0.1,\n",
    "                           max_samples= 0.1,\n",
    "                           n_estimators= 200, \n",
    "                           oob_score= True)"
   ]
  },
  {
   "cell_type": "code",
   "execution_count": 222,
   "metadata": {
    "colab": {
     "base_uri": "https://localhost:8080/"
    },
    "id": "E47Ys-2E0BtA",
    "outputId": "96048177-17b0-48e3-f5cb-3576addc921f"
   },
   "outputs": [
    {
     "name": "stdout",
     "output_type": "stream",
     "text": [
      "Train score: 0.78\n",
      "Test score: 0.79\n",
      "Out-of-bag score: 0.78\n"
     ]
    }
   ],
   "source": [
    "from  sklearn.metrics import accuracy_score\n",
    "bag_clf.fit(X_train, y_train)\n",
    "\n",
    "print('Train score: %.2f'%bag_clf.score(X_train, y_train))\n",
    "print('Test score: %.2f'%bag_clf.score(X_test, y_test))\n",
    "print('Out-of-bag score: %.2f'%bag_clf.oob_score_)"
   ]
  },
  {
   "cell_type": "code",
   "execution_count": 223,
   "metadata": {
    "colab": {
     "base_uri": "https://localhost:8080/"
    },
    "id": "rU6V21TZ0B0-",
    "outputId": "06d8f91b-09ad-49b7-f236-6e81b366609c"
   },
   "outputs": [
    {
     "name": "stdout",
     "output_type": "stream",
     "text": [
      "              precision    recall  f1-score   support\n",
      "\n",
      "           0       1.00      0.79      0.88       750\n",
      "           1       0.00      0.00      0.00         0\n",
      "\n",
      "    accuracy                           0.79       750\n",
      "   macro avg       0.50      0.40      0.44       750\n",
      "weighted avg       1.00      0.79      0.88       750\n",
      "\n",
      "[[595 155]\n",
      " [  0   0]]\n"
     ]
    }
   ],
   "source": [
    "#Classification report\n",
    "y_pred_bag1=bag_clf.predict(X_test)\n",
    "print(classification_report(y_pred_bag1,y_test))\n",
    "#Confusion Matrix\n",
    "print(confusion_matrix(y_pred_bag1,y_test))"
   ]
  },
  {
   "cell_type": "code",
   "execution_count": 224,
   "metadata": {
    "colab": {
     "base_uri": "https://localhost:8080/",
     "height": 320
    },
    "id": "p6vtFnaX0B5K",
    "outputId": "715c17ed-b56f-4001-b153-3ebe0bfe509c"
   },
   "outputs": [
    {
     "data": {
      "image/png": "[encoded data removed]",
      "text/plain": [
       "<Figure size 1440x360 with 1 Axes>"
      ]
     },
     "metadata": {
      "needs_background": "light"
     },
     "output_type": "display_data"
    }
   ],
   "source": [
    "%matplotlib inline\n",
    "\n",
    "from sklearn.metrics import roc_curve\n",
    "\n",
    "fpr, recall, threshold = roc_curve(y_train, bag_clf.predict_proba(X_train)[:,1])\n",
    "\n",
    "plt.subplots(figsize = (20,5))\n",
    "plt.plot(fpr, recall)\n",
    "\n",
    "zero_index = np.argmin(np.abs(threshold))\n",
    "plt.plot(fpr[zero_index], recall[zero_index], c = 'red', label = 'Default threshold', \n",
    "         fillstyle = 'none', markersize = 20, marker = 'o')\n",
    "\n",
    "plt.grid()"
   ]
  },
  {
   "cell_type": "code",
   "execution_count": 225,
   "metadata": {
    "id": "Oc36ttuw0K2_"
   },
   "outputs": [],
   "source": [
    "#Pasting using Decision Tree\n",
    "bag_clf1 = BaggingClassifier(DecisionTreeClassifier(max_depth = 1, random_state = 0), \n",
    "                           bootstrap= False,\n",
    "                           max_features= 0.1,\n",
    "                           max_samples= 0.1,\n",
    "                           n_estimators= 200)"
   ]
  },
  {
   "cell_type": "code",
   "execution_count": 226,
   "metadata": {
    "colab": {
     "base_uri": "https://localhost:8080/"
    },
    "id": "CAW9BVPV0K8g",
    "outputId": "376e7a68-607a-404c-fe09-0879b1d04a47"
   },
   "outputs": [
    {
     "name": "stdout",
     "output_type": "stream",
     "text": [
      "Train score: 0.78\n",
      "Test score: 0.79\n"
     ]
    }
   ],
   "source": [
    "bag_clf1.fit(X_train, y_train)\n",
    "\n",
    "print('Train score: %.2f'%bag_clf1.score(X_train, y_train))\n",
    "print('Test score: %.2f'%bag_clf1.score(X_test, y_test))"
   ]
  },
  {
   "cell_type": "code",
   "execution_count": 227,
   "metadata": {
    "colab": {
     "base_uri": "https://localhost:8080/"
    },
    "id": "LxJm3nsy0PBn",
    "outputId": "e6dcfbef-edcc-426d-d862-dfbbb517713f"
   },
   "outputs": [
    {
     "name": "stdout",
     "output_type": "stream",
     "text": [
      "              precision    recall  f1-score   support\n",
      "\n",
      "           0       1.00      0.79      0.88       750\n",
      "           1       0.00      0.00      0.00         0\n",
      "\n",
      "    accuracy                           0.79       750\n",
      "   macro avg       0.50      0.40      0.44       750\n",
      "weighted avg       1.00      0.79      0.88       750\n",
      "\n"
     ]
    }
   ],
   "source": [
    "#Classification report\n",
    "y_pred_bag2=bag_clf1.predict(X_test)\n",
    "print(classification_report(y_pred_bag2,y_test))"
   ]
  },
  {
   "cell_type": "code",
   "execution_count": 228,
   "metadata": {
    "colab": {
     "base_uri": "https://localhost:8080/"
    },
    "id": "9PxCE4aE0Pnm",
    "outputId": "9f0a70ef-ff10-426f-df38-d3c3bbae3576"
   },
   "outputs": [
    {
     "name": "stdout",
     "output_type": "stream",
     "text": [
      "[[595 155]\n",
      " [  0   0]]\n"
     ]
    }
   ],
   "source": [
    "#Confusion Matrix\n",
    "print(confusion_matrix(y_pred_bag2,y_test))"
   ]
  },
  {
   "cell_type": "code",
   "execution_count": 229,
   "metadata": {
    "colab": {
     "base_uri": "https://localhost:8080/",
     "height": 320
    },
    "id": "NhTY8siW0Uq9",
    "outputId": "7863faf2-7ce6-46ff-db59-4674e1a44ee6"
   },
   "outputs": [
    {
     "data": {
      "image/png": "[encoded data removed]",
      "text/plain": [
       "<Figure size 1440x360 with 1 Axes>"
      ]
     },
     "metadata": {
      "needs_background": "light"
     },
     "output_type": "display_data"
    }
   ],
   "source": [
    "%matplotlib inline\n",
    "\n",
    "from sklearn.metrics import roc_curve\n",
    "\n",
    "fpr, recall, threshold = roc_curve(y_train, bag_clf1.predict_proba(X_train)[:,1])\n",
    "\n",
    "plt.subplots(figsize = (20,5))\n",
    "plt.plot(fpr, recall)\n",
    "\n",
    "zero_index = np.argmin(np.abs(threshold))\n",
    "plt.plot(fpr[zero_index], recall[zero_index], c = 'red', label = 'Default threshold', \n",
    "         fillstyle = 'none', markersize = 20, marker = 'o')\n",
    "\n",
    "plt.grid()  "
   ]
  },
  {
   "cell_type": "code",
   "execution_count": 230,
   "metadata": {
    "colab": {
     "base_uri": "https://localhost:8080/"
    },
    "id": "MVRqTbMA0Uy3",
    "outputId": "38453079-0022-4a36-f0a3-ea5f18efd09f"
   },
   "outputs": [
    {
     "data": {
      "text/plain": [
       "GridSearchCV(cv=5,\n",
       "             estimator=BaggingClassifier(base_estimator=LogisticRegression(random_state=0),\n",
       "                                         random_state=0),\n",
       "             param_grid={'bootstrap': [True],\n",
       "                         'max_features': [0.01, 0.05, 0.1, 0.5, 1],\n",
       "                         'max_samples': [0.01, 0.05, 0.1, 0.5, 1]},\n",
       "             scoring='precision')"
      ]
     },
     "execution_count": 230,
     "metadata": {},
     "output_type": "execute_result"
    }
   ],
   "source": [
    "##Bagging with base model as Logistic Regression\n",
    "warnings.filterwarnings('ignore')\n",
    "param_grid = { \n",
    "              'max_samples':[0.01, 0.05, 0.1, 0.5, 1], \n",
    "              'max_features':[0.01, 0.05, 0.1, 0.5,1],\n",
    "        'bootstrap':[True]\n",
    "              }\n",
    "\n",
    "bag_clf3 = BaggingClassifier(LogisticRegression(solver='lbfgs',penalty='l2',random_state= 0), random_state = 0)\n",
    "bag_grid_lr = GridSearchCV(bag_clf3, param_grid = param_grid, cv = 5,scoring='precision')\n",
    "bag_grid_lr.fit(X_train, y_train)"
   ]
  },
  {
   "cell_type": "code",
   "execution_count": 231,
   "metadata": {
    "colab": {
     "base_uri": "https://localhost:8080/"
    },
    "id": "ubnnLsP20U3W",
    "outputId": "1353e378-0224-4f1f-faad-45a4851a220f"
   },
   "outputs": [
    {
     "data": {
      "text/plain": [
       "{'bootstrap': True, 'max_features': 0.5, 'max_samples': 0.01}"
      ]
     },
     "execution_count": 231,
     "metadata": {},
     "output_type": "execute_result"
    }
   ],
   "source": [
    "bag_grid_lr.best_params_"
   ]
  },
  {
   "cell_type": "code",
   "execution_count": 232,
   "metadata": {
    "id": "YFAiXt500dSV"
   },
   "outputs": [],
   "source": [
    "log_reg=LogisticRegression(solver='lbfgs',penalty='l2',random_state= 0)\n",
    "bag_clf3_lr = BaggingClassifier(log_reg,bootstrap= True,max_samples=0.01,max_features=0.01, random_state=0, oob_score = True)\n",
    "\n",
    "bag_clf3_lr.fit(X_train, y_train)\n",
    "y_pred = bag_clf3_lr.predict(X_test)"
   ]
  },
  {
   "cell_type": "code",
   "execution_count": 233,
   "metadata": {
    "colab": {
     "base_uri": "https://localhost:8080/"
    },
    "id": "BKHXcA8q0dZ5",
    "outputId": "3fd16c3c-3e99-4fb2-bf61-d66a655c85d7"
   },
   "outputs": [
    {
     "name": "stdout",
     "output_type": "stream",
     "text": [
      "Train score: 0.7769\n",
      "Test score: 0.7933\n",
      "Out-of-bag score: 0.7769\n"
     ]
    }
   ],
   "source": [
    "print('Train score: %.4f'%bag_clf3_lr.score(X_train, y_train))\n",
    "print('Test score: %.4f'%bag_clf3_lr.score(X_test, y_test))\n",
    "print('Out-of-bag score: %.4f'%bag_clf3_lr.oob_score_)"
   ]
  },
  {
   "cell_type": "code",
   "execution_count": 234,
   "metadata": {
    "colab": {
     "base_uri": "https://localhost:8080/"
    },
    "id": "LOycFsER0ddu",
    "outputId": "44fe68e2-85c2-4d9f-e1c1-6a2899f9f7d6"
   },
   "outputs": [
    {
     "name": "stdout",
     "output_type": "stream",
     "text": [
      "              precision    recall  f1-score   support\n",
      "\n",
      "           0       1.00      0.79      0.88       750\n",
      "           1       0.00      0.00      0.00         0\n",
      "\n",
      "    accuracy                           0.79       750\n",
      "   macro avg       0.50      0.40      0.44       750\n",
      "weighted avg       1.00      0.79      0.88       750\n",
      "\n"
     ]
    }
   ],
   "source": [
    "#Classification report\n",
    "y_pred_bag3 =bag_clf3_lr.predict(X_test)\n",
    "print(classification_report(y_pred_bag3,y_test))"
   ]
  },
  {
   "cell_type": "code",
   "execution_count": 235,
   "metadata": {
    "colab": {
     "base_uri": "https://localhost:8080/"
    },
    "id": "NIFlb8170dhg",
    "outputId": "3595aba4-447e-4c4b-9891-71a68d6b42e5"
   },
   "outputs": [
    {
     "name": "stdout",
     "output_type": "stream",
     "text": [
      "[[595 155]\n",
      " [  0   0]]\n"
     ]
    }
   ],
   "source": [
    "#Confusion Matrix\n",
    "print(confusion_matrix(y_pred_bag3,y_test))"
   ]
  },
  {
   "cell_type": "code",
   "execution_count": 236,
   "metadata": {
    "colab": {
     "base_uri": "https://localhost:8080/",
     "height": 320
    },
    "id": "-gaLn1yl0dm_",
    "outputId": "f6457907-8136-4537-8a71-dbc5f1a1aac7"
   },
   "outputs": [
    {
     "data": {
      "image/png": "[encoded data removed]",
      "text/plain": [
       "<Figure size 1440x360 with 1 Axes>"
      ]
     },
     "metadata": {
      "needs_background": "light"
     },
     "output_type": "display_data"
    }
   ],
   "source": [
    "%matplotlib inline\n",
    "\n",
    "from sklearn.metrics import roc_curve\n",
    "\n",
    "fpr, recall, threshold = roc_curve(y_train, bag_clf3_lr.predict_proba(X_train)[:,1])\n",
    "\n",
    "plt.subplots(figsize = (20,5))\n",
    "plt.plot(fpr, recall)\n",
    "\n",
    "zero_index = np.argmin(np.abs(threshold))\n",
    "plt.plot(fpr[zero_index], recall[zero_index], c = 'red', label = 'Default threshold', \n",
    "         fillstyle = 'none', markersize = 20, marker = 'o')\n",
    "\n",
    "plt.grid()"
   ]
  },
  {
   "cell_type": "code",
   "execution_count": 237,
   "metadata": {
    "colab": {
     "base_uri": "https://localhost:8080/"
    },
    "id": "b9d68IUR0dqf",
    "outputId": "1e2434bd-dfd9-4688-ce52-b8d2dbf75b7f"
   },
   "outputs": [
    {
     "data": {
      "text/plain": [
       "GridSearchCV(cv=5,\n",
       "             estimator=BaggingClassifier(base_estimator=LogisticRegression(random_state=0),\n",
       "                                         random_state=0),\n",
       "             param_grid={'bootstrap': [False],\n",
       "                         'max_features': [0.01, 0.05, 0.1, 0.5, 1],\n",
       "                         'max_samples': [0.01, 0.05, 0.1, 0.5, 1]},\n",
       "             scoring='precision')"
      ]
     },
     "execution_count": 237,
     "metadata": {},
     "output_type": "execute_result"
    }
   ],
   "source": [
    "#Pasting with base model as Logistic regression\n",
    "warnings.filterwarnings('ignore')\n",
    "param_grid = { \n",
    "              'max_samples':[0.01, 0.05, 0.1, 0.5, 1], \n",
    "              'max_features':[0.01, 0.05, 0.1, 0.5,1],\n",
    "        'bootstrap':[False]\n",
    "              }\n",
    "\n",
    "bag_clf4 = BaggingClassifier(LogisticRegression(solver='lbfgs',penalty='l2',random_state= 0), random_state = 0)\n",
    "bag_grid_lr1 = GridSearchCV(bag_clf4, param_grid = param_grid, cv = 5,scoring='precision')\n",
    "bag_grid_lr1.fit(X_train, y_train)"
   ]
  },
  {
   "cell_type": "code",
   "execution_count": 238,
   "metadata": {
    "colab": {
     "base_uri": "https://localhost:8080/"
    },
    "id": "dBz0LbKB0ns1",
    "outputId": "16c3609f-a193-4453-c2e0-cdb9455d2d65"
   },
   "outputs": [
    {
     "data": {
      "text/plain": [
       "{'bootstrap': False, 'max_features': 0.5, 'max_samples': 0.01}"
      ]
     },
     "execution_count": 238,
     "metadata": {},
     "output_type": "execute_result"
    }
   ],
   "source": [
    "bag_grid_lr1.best_params_"
   ]
  },
  {
   "cell_type": "code",
   "execution_count": 239,
   "metadata": {
    "id": "3S3co3ae0n0S"
   },
   "outputs": [],
   "source": [
    "log_reg=LogisticRegression(solver='lbfgs',penalty='l2',random_state= 0)\n",
    "bag_lr1 = BaggingClassifier(log_reg,bootstrap= False,max_samples=0.01,max_features=0.01, random_state=0)\n",
    "\n",
    "bag_lr1.fit(X_train, y_train)\n",
    "y_pred = bag_lr1.predict(X_test)"
   ]
  },
  {
   "cell_type": "code",
   "execution_count": 240,
   "metadata": {
    "colab": {
     "base_uri": "https://localhost:8080/"
    },
    "id": "wVSI5Lcd0qju",
    "outputId": "6efd1656-0ea9-4c00-dfa2-4a2e956968fe"
   },
   "outputs": [
    {
     "name": "stdout",
     "output_type": "stream",
     "text": [
      "Train score: 0.78\n",
      "Test score: 0.79\n"
     ]
    }
   ],
   "source": [
    "from  sklearn.metrics import accuracy_score\n",
    "\n",
    "print('Train score: %.2f'%bag_lr1.score(X_train, y_train))\n",
    "print('Test score: %.2f'%bag_lr1.score(X_test, y_test))"
   ]
  },
  {
   "cell_type": "code",
   "execution_count": 241,
   "metadata": {
    "colab": {
     "base_uri": "https://localhost:8080/"
    },
    "id": "HwITGeJO0sMg",
    "outputId": "2fc0d7a6-c700-4432-eeee-64485f107278"
   },
   "outputs": [
    {
     "name": "stdout",
     "output_type": "stream",
     "text": [
      "              precision    recall  f1-score   support\n",
      "\n",
      "           0       1.00      0.79      0.88       750\n",
      "           1       0.00      0.00      0.00         0\n",
      "\n",
      "    accuracy                           0.79       750\n",
      "   macro avg       0.50      0.40      0.44       750\n",
      "weighted avg       1.00      0.79      0.88       750\n",
      "\n"
     ]
    }
   ],
   "source": [
    "#Classification Report\n",
    "y_pred_pas =bag_lr1.predict(X_test)\n",
    "print(classification_report(y_pred_pas,y_test))"
   ]
  },
  {
   "cell_type": "code",
   "execution_count": 242,
   "metadata": {
    "colab": {
     "base_uri": "https://localhost:8080/"
    },
    "id": "w5IEa97S0sRf",
    "outputId": "bbc5bb04-3749-4200-fe4f-a7e8652a9ac5"
   },
   "outputs": [
    {
     "name": "stdout",
     "output_type": "stream",
     "text": [
      "[[595 155]\n",
      " [  0   0]]\n"
     ]
    }
   ],
   "source": [
    "#Confusion Matrix\n",
    "print(confusion_matrix(y_pred_pas,y_test))"
   ]
  },
  {
   "cell_type": "code",
   "execution_count": 243,
   "metadata": {
    "colab": {
     "base_uri": "https://localhost:8080/",
     "height": 320
    },
    "id": "MoWB2WXq07Sh",
    "outputId": "2032c7e9-504c-4cf7-9336-62b8e1078d6a"
   },
   "outputs": [
    {
     "data": {
      "image/png": "[encoded data removed]",
      "text/plain": [
       "<Figure size 1440x360 with 1 Axes>"
      ]
     },
     "metadata": {
      "needs_background": "light"
     },
     "output_type": "display_data"
    }
   ],
   "source": [
    "%matplotlib inline\n",
    "\n",
    "from sklearn.metrics import roc_curve\n",
    "\n",
    "fpr, recall, threshold = roc_curve(y_train, bag_lr1.predict_proba(X_train)[:,1])\n",
    "\n",
    "plt.subplots(figsize = (20,5))\n",
    "plt.plot(fpr, recall)\n",
    "\n",
    "zero_index = np.argmin(np.abs(threshold))\n",
    "plt.plot(fpr[zero_index], recall[zero_index], c = 'red', label = 'Default threshold', \n",
    "         fillstyle = 'none', markersize = 20, marker = 'o')\n",
    "\n",
    "plt.grid()"
   ]
  },
  {
   "cell_type": "markdown",
   "metadata": {
    "id": "faEUKj3h1As9"
   },
   "source": [
    "##Ada Boosting with Decision tree"
   ]
  },
  {
   "cell_type": "code",
   "execution_count": 244,
   "metadata": {
    "id": "tddtNXSt07X5"
   },
   "outputs": [],
   "source": [
    "from sklearn.ensemble import AdaBoostClassifier\n",
    "import matplotlib.pyplot as plt\n",
    "X_train, X_test, y_train, y_test = train_test_split(X, y, random_state=0)"
   ]
  },
  {
   "cell_type": "code",
   "execution_count": 245,
   "metadata": {
    "colab": {
     "base_uri": "https://localhost:8080/"
    },
    "id": "6fwijuOo07cG",
    "outputId": "113c1e04-eae3-4697-a311-d04175239620"
   },
   "outputs": [
    {
     "data": {
      "text/plain": [
       "GridSearchCV(cv=5,\n",
       "             estimator=AdaBoostClassifier(base_estimator=DecisionTreeClassifier(max_depth=1,\n",
       "                                                                                random_state=0),\n",
       "                                          random_state=0),\n",
       "             param_grid={'learning_rate': [0.1, 0.5, 0.1, 1],\n",
       "                         'n_estimators': [100, 200, 500]},\n",
       "             scoring='recall')"
      ]
     },
     "execution_count": 245,
     "metadata": {},
     "output_type": "execute_result"
    }
   ],
   "source": [
    "dtree_ada=DecisionTreeClassifier(max_depth=1,random_state=0)\n",
    "param_grids={\"n_estimators\":[100,200,500],\"learning_rate\":[0.1,0.5,0.1,1]}\n",
    "ada=AdaBoostClassifier(dtree_ada,random_state=0)\n",
    "grid_Ada=GridSearchCV(ada,param_grids,cv=5,scoring=\"recall\")\n",
    "grid_Ada.fit(X_train,y_train)\n"
   ]
  },
  {
   "cell_type": "code",
   "execution_count": 246,
   "metadata": {
    "id": "hxs8o9zg07gQ"
   },
   "outputs": [],
   "source": [
    "y_pred_ada = grid_Ada.predict(X_test)"
   ]
  },
  {
   "cell_type": "code",
   "execution_count": 247,
   "metadata": {
    "colab": {
     "base_uri": "https://localhost:8080/"
    },
    "id": "70HamJsV1iPk",
    "outputId": "8c4a9cfc-53c3-4e17-fa9c-92c9cf6f4d4d"
   },
   "outputs": [
    {
     "name": "stdout",
     "output_type": "stream",
     "text": [
      "              precision    recall  f1-score   support\n",
      "\n",
      "           0       0.99      0.79      0.88       744\n",
      "           1       0.01      0.17      0.01         6\n",
      "\n",
      "    accuracy                           0.79       750\n",
      "   macro avg       0.50      0.48      0.45       750\n",
      "weighted avg       0.98      0.79      0.87       750\n",
      "\n",
      "[[590 154]\n",
      " [  5   1]]\n"
     ]
    }
   ],
   "source": [
    "#Classification report\n",
    "print(classification_report(y_pred_ada,y_test))\n",
    "#Confusion matrix\n",
    "print(confusion_matrix(y_pred_ada,y_test))"
   ]
  },
  {
   "cell_type": "code",
   "execution_count": 248,
   "metadata": {
    "colab": {
     "base_uri": "https://localhost:8080/",
     "height": 334
    },
    "id": "ZyzG5GJZ1iTX",
    "outputId": "6f830027-33f6-4498-8b44-c6b66472693b"
   },
   "outputs": [
    {
     "data": {
      "image/png": "[encoded data removed]",
      "text/plain": [
       "<Figure size 720x360 with 1 Axes>"
      ]
     },
     "metadata": {
      "needs_background": "light"
     },
     "output_type": "display_data"
    }
   ],
   "source": [
    "from sklearn.metrics import precision_recall_curve\n",
    "plt.subplots(figsize=(10,5))\n",
    "precision,recall,thresholds=precision_recall_curve(y_train,grid_Ada.decision_function(X_train))\n",
    "\n",
    "close_zero=0\n",
    "\n",
    "plt.plot(precision[close_zero],recall[close_zero],'o',markersize=10,label=\"threshold zero\",fillstyle=\"none\",c=\"k\",mew=2)\n",
    "\n",
    "plt.plot(precision[20],recall[20],\"o\",markersize=10,label=\"best threshold\",fillstyle=\"none\",c=\"r\",mew=2)\n",
    "\n",
    "plt.plot(precision,recall,label=\"precision recall curve\")\n",
    "plt.xlabel(\"precision\")\n",
    "plt.ylabel(\"recall\")\n",
    "plt.legend(loc=\"best\")\n",
    "plt.grid()"
   ]
  },
  {
   "cell_type": "markdown",
   "metadata": {
    "id": "RaYNqM-F1tjt"
   },
   "source": [
    "### Ada Boosting with Softmax "
   ]
  },
  {
   "cell_type": "code",
   "execution_count": 249,
   "metadata": {
    "colab": {
     "base_uri": "https://localhost:8080/"
    },
    "id": "alj5OWAc1iWV",
    "outputId": "cb718fe7-f45e-48c3-f054-fde7cf411743"
   },
   "outputs": [
    {
     "data": {
      "text/plain": [
       "GridSearchCV(cv=5,\n",
       "             estimator=AdaBoostClassifier(base_estimator=LogisticRegression(C=10,\n",
       "                                                                            max_iter=1000,\n",
       "                                                                            multi_class='multinomial'),\n",
       "                                          random_state=0),\n",
       "             param_grid={'learning_rate': [0.1, 0.5, 0.1],\n",
       "                         'n_estimators': [100, 200, 500]},\n",
       "             scoring='recall')"
      ]
     },
     "execution_count": 249,
     "metadata": {},
     "output_type": "execute_result"
    }
   ],
   "source": [
    "X_train, X_test, y_train, y_test = train_test_split(X, y, random_state=0)\n",
    "sm_ada=LogisticRegression(multi_class=\"multinomial\",solver=\"lbfgs\", C=10, max_iter=1000)\n",
    "param_grids={\"n_estimators\":[100,200,500],\"learning_rate\":[0.1,0.5,0.1]}\n",
    "smada=AdaBoostClassifier(sm_ada,random_state=0)\n",
    "smgrid_Ada=GridSearchCV(smada,param_grids,cv=5,scoring=\"recall\")\n",
    "smgrid_Ada.fit(X_train,y_train)"
   ]
  },
  {
   "cell_type": "code",
   "execution_count": 250,
   "metadata": {
    "id": "fYeYzoNm1iZk"
   },
   "outputs": [],
   "source": [
    "y_pred_smada = smgrid_Ada.predict(X_test)"
   ]
  },
  {
   "cell_type": "code",
   "execution_count": 251,
   "metadata": {
    "colab": {
     "base_uri": "https://localhost:8080/"
    },
    "id": "52buukcY1icf",
    "outputId": "992f780b-048d-47b0-db6a-6ec47de9d200"
   },
   "outputs": [
    {
     "name": "stdout",
     "output_type": "stream",
     "text": [
      "              precision    recall  f1-score   support\n",
      "\n",
      "           0       1.00      0.79      0.88       750\n",
      "           1       0.00      0.00      0.00         0\n",
      "\n",
      "    accuracy                           0.79       750\n",
      "   macro avg       0.50      0.40      0.44       750\n",
      "weighted avg       1.00      0.79      0.88       750\n",
      "\n",
      "[[595 155]\n",
      " [  0   0]]\n"
     ]
    }
   ],
   "source": [
    "#Classification report\n",
    "print(classification_report(y_pred_smada,y_test))\n",
    "#Confusion matrix\n",
    "print(confusion_matrix(y_pred_smada,y_test))"
   ]
  },
  {
   "cell_type": "code",
   "execution_count": 252,
   "metadata": {
    "colab": {
     "base_uri": "https://localhost:8080/",
     "height": 551
    },
    "id": "R1LnuGIR10Gl",
    "outputId": "1ebc688d-2805-44d2-9c31-6093a32da7c0"
   },
   "outputs": [
    {
     "data": {
      "image/png": "[encoded data removed]",
      "text/plain": [
       "<Figure size 1440x648 with 1 Axes>"
      ]
     },
     "metadata": {
      "needs_background": "light"
     },
     "output_type": "display_data"
    }
   ],
   "source": [
    "from sklearn.metrics import precision_recall_curve\n",
    "plt.subplots(figsize=(20,9))\n",
    "precision,recall,thresholds=precision_recall_curve(y_train,smgrid_Ada.decision_function(X_train))\n",
    "\n",
    "close_zero=0\n",
    "\n",
    "plt.plot(precision[close_zero],recall[close_zero],'o',markersize=10,label=\"threshold zero\",fillstyle=\"none\",c=\"k\",mew=2)\n",
    "\n",
    "plt.plot(precision[20],recall[20],\"o\",markersize=10,label=\"best threshold\",fillstyle=\"none\",c=\"r\",mew=2)\n",
    "\n",
    "plt.plot(precision,recall,label=\"precision recall curve\")\n",
    "plt.xlabel(\"precision\")\n",
    "plt.ylabel(\"recall\")\n",
    "plt.legend(loc=\"best\")\n",
    "plt.grid()"
   ]
  },
  {
   "cell_type": "markdown",
   "metadata": {
    "id": "jkYVMign15AI"
   },
   "source": [
    "### Gradient Boosting"
   ]
  },
  {
   "cell_type": "code",
   "execution_count": 253,
   "metadata": {
    "colab": {
     "base_uri": "https://localhost:8080/"
    },
    "id": "F-34mC3a10Js",
    "outputId": "2abcf579-aa7f-429c-e368-14fd3a189074"
   },
   "outputs": [
    {
     "data": {
      "text/plain": [
       "GridSearchCV(cv=5, estimator=GradientBoostingClassifier(random_state=0),\n",
       "             param_grid={'learning_rate': [0.1, 0.5, 1], 'max_depth': [1, 3, 5],\n",
       "                         'n_estimators': [100, 500, 1000]},\n",
       "             scoring='recall')"
      ]
     },
     "execution_count": 253,
     "metadata": {},
     "output_type": "execute_result"
    }
   ],
   "source": [
    "from sklearn.ensemble import GradientBoostingClassifier\n",
    "X_train, X_test, y_train, y_test = train_test_split(X, y, random_state = 0)\n",
    "\n",
    "#Using hyperparameters\n",
    "param_grid_gradient={\"learning_rate\":[0.1,0.5,1],\"max_depth\":[1,3,5],\"n_estimators\":[100,500,1000]}\n",
    "\n",
    "gradientBoost=GradientBoostingClassifier(random_state=0)\n",
    "grid_gradient=GridSearchCV(gradientBoost,param_grid_gradient,cv=5,scoring=\"recall\")\n",
    "grid_gradient.fit(X_train,y_train)"
   ]
  },
  {
   "cell_type": "code",
   "execution_count": 305,
   "metadata": {
    "colab": {
     "base_uri": "https://localhost:8080/"
    },
    "id": "5boS8M64TCC6",
    "outputId": "ea259bab-674f-48fc-e0c0-650b63285bdc"
   },
   "outputs": [
    {
     "data": {
      "text/plain": [
       "{'learning_rate': 1, 'max_depth': 3, 'n_estimators': 1000}"
      ]
     },
     "execution_count": 305,
     "metadata": {},
     "output_type": "execute_result"
    }
   ],
   "source": [
    "grid_gradient.best_params_"
   ]
  },
  {
   "cell_type": "code",
   "execution_count": 306,
   "metadata": {
    "colab": {
     "base_uri": "https://localhost:8080/"
    },
    "id": "WQ8ydeX9TEKa",
    "outputId": "42256c21-8248-40bd-e984-543eb2da6745"
   },
   "outputs": [
    {
     "data": {
      "text/plain": [
       "0.1333861386138614"
      ]
     },
     "execution_count": 306,
     "metadata": {},
     "output_type": "execute_result"
    }
   ],
   "source": [
    "grid_gradient.best_score_"
   ]
  },
  {
   "cell_type": "code",
   "execution_count": 307,
   "metadata": {
    "colab": {
     "base_uri": "https://localhost:8080/"
    },
    "id": "T4_qgQpyTGBS",
    "outputId": "fe7f5730-db17-4d7c-f8d4-dd4bf160cbbf"
   },
   "outputs": [
    {
     "name": "stdout",
     "output_type": "stream",
     "text": [
      "              precision    recall  f1-score   support\n",
      "\n",
      "           0       0.82      0.79      0.80       618\n",
      "           1       0.15      0.17      0.16       132\n",
      "\n",
      "    accuracy                           0.68       750\n",
      "   macro avg       0.48      0.48      0.48       750\n",
      "weighted avg       0.70      0.68      0.69       750\n",
      "\n"
     ]
    }
   ],
   "source": [
    "y_pred_grid_gradient =grid_gradient.predict(X_test)\n",
    "import warnings\n",
    "warnings.filterwarnings('ignore')\n",
    "print(classification_report(y_pred_grid_gradient,y_test))"
   ]
  },
  {
   "cell_type": "code",
   "execution_count": 308,
   "metadata": {
    "colab": {
     "base_uri": "https://localhost:8080/"
    },
    "id": "rosApLiBTK-m",
    "outputId": "659bf1b6-9058-4546-e62d-8346d50509ba"
   },
   "outputs": [
    {
     "name": "stdout",
     "output_type": "stream",
     "text": [
      "[[486 132]\n",
      " [109  23]]\n"
     ]
    }
   ],
   "source": [
    "print(confusion_matrix(y_pred_grid_gradient,y_test))"
   ]
  },
  {
   "cell_type": "markdown",
   "metadata": {
    "id": "yo-g5PWq1-He"
   },
   "source": [
    "###PCA"
   ]
  },
  {
   "cell_type": "markdown",
   "metadata": {
    "id": "AUowYVuke5uZ"
   },
   "source": [
    "###PCA with KNN"
   ]
  },
  {
   "cell_type": "code",
   "execution_count": 254,
   "metadata": {
    "colab": {
     "base_uri": "https://localhost:8080/"
    },
    "id": "TpjdbBTL10NS",
    "outputId": "11c9a134-03a6-4adf-b071-ad4003cf2e7e"
   },
   "outputs": [
    {
     "data": {
      "text/plain": [
       "array([[-1.13798343e-06, -1.24609114e-06,  6.05546521e-08,\n",
       "         2.71689752e-07,  1.00000000e+00, -1.18091617e-05,\n",
       "         5.48205983e-06,  2.89578848e-08,  1.82471338e-07,\n",
       "         1.91044229e-07,  2.27897317e-07,  7.99871898e-07,\n",
       "        -7.44201025e-07,  1.77619034e-07, -3.60707631e-09,\n",
       "        -2.29682830e-07,  0.00000000e+00,  1.20795334e-06,\n",
       "         8.49482341e-08, -5.40619146e-08, -1.23883966e-06,\n",
       "        -3.33330018e-08, -1.02350025e-08,  3.09961251e-08,\n",
       "         1.56997125e-07, -1.44425246e-07, -1.18729862e-08,\n",
       "         6.00849260e-08, -6.75960434e-09,  6.96369296e-09,\n",
       "        -3.03937614e-09, -4.53766522e-08]])"
      ]
     },
     "execution_count": 254,
     "metadata": {},
     "output_type": "execute_result"
    }
   ],
   "source": [
    "from sklearn.decomposition import PCA\n",
    "#For the PCA we are taking 95% of dimentionality and working on it.\n",
    "pca = PCA(n_components =0.95)\n",
    "X_train_pca = pca.fit_transform(X_train)\n",
    "X_test_pca = pca.transform(X_test)\n",
    "pca.components_"
   ]
  },
  {
   "cell_type": "code",
   "execution_count": 255,
   "metadata": {
    "colab": {
     "base_uri": "https://localhost:8080/"
    },
    "id": "S_vNrBec2CyF",
    "outputId": "dc6397d9-f208-417a-a88e-513cac618152"
   },
   "outputs": [
    {
     "data": {
      "text/plain": [
       "(2250, 1)"
      ]
     },
     "execution_count": 255,
     "metadata": {},
     "output_type": "execute_result"
    }
   ],
   "source": [
    "X_train_pca.shape"
   ]
  },
  {
   "cell_type": "code",
   "execution_count": 256,
   "metadata": {
    "colab": {
     "base_uri": "https://localhost:8080/"
    },
    "id": "jvbVFumQ2C1a",
    "outputId": "c44b145e-001f-40f4-c04f-726923412be8"
   },
   "outputs": [
    {
     "name": "stdout",
     "output_type": "stream",
     "text": [
      "Train score: 0.7791\n",
      "Test score: 0.7933\n"
     ]
    }
   ],
   "source": [
    "#PCA with KNN Classifier; the best parameters have been considered same as Project 1\n",
    "knn_pca = KNeighborsClassifier(metric='minkowski', n_neighbors=10, weights='uniform')\n",
    "knn_pca.fit(X_train_pca,y_train)\n",
    "print('Train score: {:.4f}'.format(knn_pca.score(X_train_pca, y_train)))\n",
    "print('Test score: {:.4f}'.format(knn_pca.score(X_test_pca, y_test)))"
   ]
  },
  {
   "cell_type": "code",
   "execution_count": 257,
   "metadata": {
    "id": "dwSvwXj62C5I"
   },
   "outputs": [],
   "source": [
    "#Predicting y based on X test data\n",
    "y_pred_knn_pca =knn_pca.predict(X_test_pca)"
   ]
  },
  {
   "cell_type": "code",
   "execution_count": 258,
   "metadata": {
    "colab": {
     "base_uri": "https://localhost:8080/"
    },
    "id": "cp5XDFRW28P9",
    "outputId": "4c83adb1-22e1-4dcb-bcd8-993bad4fb2cb"
   },
   "outputs": [
    {
     "data": {
      "text/plain": [
       "0.7933333333333333"
      ]
     },
     "execution_count": 258,
     "metadata": {},
     "output_type": "execute_result"
    }
   ],
   "source": [
    "#Calculating accuracy score\n",
    "accuracy_score(y_pred_knn_pca,y_test)"
   ]
  },
  {
   "cell_type": "code",
   "execution_count": 259,
   "metadata": {
    "colab": {
     "base_uri": "https://localhost:8080/"
    },
    "id": "fVTGGqTu28Tn",
    "outputId": "b7900176-d486-495d-8d4a-a5e20d91a383"
   },
   "outputs": [
    {
     "name": "stdout",
     "output_type": "stream",
     "text": [
      "              precision    recall  f1-score   support\n",
      "\n",
      "           0       1.00      0.79      0.88       748\n",
      "           1       0.01      0.50      0.01         2\n",
      "\n",
      "    accuracy                           0.79       750\n",
      "   macro avg       0.50      0.65      0.45       750\n",
      "weighted avg       1.00      0.79      0.88       750\n",
      "\n"
     ]
    }
   ],
   "source": [
    "#Printing Classification re[port]\n",
    "import warnings\n",
    "warnings.filterwarnings('ignore')\n",
    "print(classification_report(y_pred_knn_pca,y_test))"
   ]
  },
  {
   "cell_type": "code",
   "execution_count": 260,
   "metadata": {
    "colab": {
     "base_uri": "https://localhost:8080/"
    },
    "id": "VVl6OslF28Wx",
    "outputId": "bc4a968b-adc3-4d60-9c8f-d4b215efb81a"
   },
   "outputs": [
    {
     "name": "stdout",
     "output_type": "stream",
     "text": [
      "[[594 154]\n",
      " [  1   1]]\n"
     ]
    }
   ],
   "source": [
    "#printing confusion matrix\n",
    "print(confusion_matrix(y_pred_knn_pca,y_test))"
   ]
  },
  {
   "cell_type": "markdown",
   "metadata": {
    "id": "Fj6sPZNv3B-N"
   },
   "source": [
    "##PCA Logistic Regression"
   ]
  },
  {
   "cell_type": "code",
   "execution_count": 261,
   "metadata": {
    "colab": {
     "base_uri": "https://localhost:8080/"
    },
    "id": "pX_LEQFK28ad",
    "outputId": "31edf817-eacc-4267-b1f8-d2046c34ce40"
   },
   "outputs": [
    {
     "data": {
      "text/plain": [
       "0.4639468690702087"
      ]
     },
     "execution_count": 261,
     "metadata": {},
     "output_type": "execute_result"
    }
   ],
   "source": [
    "param_grid = {'C': [0.01, 0.1, 1, 10, 100]}\n",
    "lreg_pca = LogisticRegression(random_state = 0, max_iter = 1000)\n",
    "grid_lreg_pca = GridSearchCV(lreg_pca, param_grid, cv =5, scoring= 'roc_auc')\n",
    "grid_lreg_pca.fit(X_train_pca, y_train)\n",
    "grid_lreg_pca.score(X_test_pca, y_test)"
   ]
  },
  {
   "cell_type": "code",
   "execution_count": 262,
   "metadata": {
    "colab": {
     "base_uri": "https://localhost:8080/"
    },
    "id": "wHDv1Jq028dv",
    "outputId": "914a89b7-5790-4723-f29d-674db5d99b35"
   },
   "outputs": [
    {
     "name": "stdout",
     "output_type": "stream",
     "text": [
      "accuracy_score:  0.5053333333333333\n",
      "roc_auc_score:  0.4639468690702087\n"
     ]
    }
   ],
   "source": [
    "from sklearn.metrics import accuracy_score, roc_auc_score\n",
    "#Predicting y\n",
    "y_pred_pca = grid_lreg_pca.predict(X_test_pca)\n",
    "print('accuracy_score: ', accuracy_score(y_test, y_pred_pca))\n",
    "print('roc_auc_score: ', roc_auc_score(y_test, grid_lreg_pca.predict_proba(X_test_pca)[:,1]))"
   ]
  },
  {
   "cell_type": "code",
   "execution_count": 263,
   "metadata": {
    "id": "bQuzOPdZ3HtC"
   },
   "outputs": [],
   "source": [
    "#Predicting Y\n",
    "y_pred_lreg_pca =grid_lreg_pca.predict(X_test_pca)"
   ]
  },
  {
   "cell_type": "code",
   "execution_count": 264,
   "metadata": {
    "colab": {
     "base_uri": "https://localhost:8080/"
    },
    "id": "ot_7fYQ13Jb0",
    "outputId": "a3c38869-6472-410c-aba6-2289de6bd7a2"
   },
   "outputs": [
    {
     "name": "stdout",
     "output_type": "stream",
     "text": [
      "              precision    recall  f1-score   support\n",
      "\n",
      "           0       0.52      0.78      0.63       398\n",
      "           1       0.44      0.19      0.27       352\n",
      "\n",
      "    accuracy                           0.51       750\n",
      "   macro avg       0.48      0.49      0.45       750\n",
      "weighted avg       0.48      0.51      0.46       750\n",
      "\n",
      "[[311  87]\n",
      " [284  68]]\n"
     ]
    }
   ],
   "source": [
    "#Printing Classification report\n",
    "import warnings\n",
    "warnings.filterwarnings('ignore')\n",
    "print(classification_report(y_pred_lreg_pca,y_test))\n",
    "#Confusion matrix\n",
    "print(confusion_matrix(y_pred_lreg_pca,y_test))"
   ]
  },
  {
   "cell_type": "markdown",
   "metadata": {
    "id": "VNK_C9WV3Wcu"
   },
   "source": [
    "##PCA With Linear Kernel"
   ]
  },
  {
   "cell_type": "code",
   "execution_count": 265,
   "metadata": {
    "colab": {
     "base_uri": "https://localhost:8080/"
    },
    "id": "1TMA03mQ3XZN",
    "outputId": "ce325a65-dbca-46a7-8591-ea8c9019047a"
   },
   "outputs": [
    {
     "data": {
      "text/plain": [
       "array([[-3.20245778e-01, -3.51929677e-01, -1.88111915e-01,\n",
       "         4.24846892e-02,  4.13656065e-02, -1.70974037e-01,\n",
       "         3.56917910e-02,  1.77146456e-01,  8.89680558e-02,\n",
       "         4.23712545e-02,  6.24278596e-02,  7.26119219e-02,\n",
       "        -2.81820115e-01,  9.71279396e-03, -8.81696501e-04,\n",
       "         2.00377096e-01, -0.00000000e+00,  4.66987886e-01,\n",
       "         3.94094939e-02,  2.87871518e-03, -5.09276095e-01,\n",
       "        -3.37439462e-02,  1.96305587e-01, -3.37379788e-02,\n",
       "        -5.11482083e-02, -7.76754533e-02,  2.48917737e-03,\n",
       "        -5.78248812e-02, -1.17708328e-03,  3.87447259e-03,\n",
       "         3.57355554e-03,  4.90647590e-02],\n",
       "       [ 1.99202143e-01,  1.00832126e-01,  1.37490473e-01,\n",
       "        -1.67578077e-02,  1.59669314e-02,  7.50720259e-02,\n",
       "        -3.47509071e-02, -1.96421816e-01, -7.66149870e-02,\n",
       "         4.72944930e-02, -2.34583704e-02,  3.90436149e-01,\n",
       "         1.86142755e-01,  6.61377261e-02,  2.83005921e-04,\n",
       "        -6.42999635e-01, -6.61744490e-24,  3.53741269e-01,\n",
       "         1.19401009e-02,  4.38014645e-03, -3.70061516e-01,\n",
       "         1.78189548e-02, -7.22071877e-02,  1.37399708e-02,\n",
       "         1.99155166e-02,  2.07327454e-02, -1.62631683e-03,\n",
       "         4.75620841e-02, -1.72597200e-02, -3.90429277e-03,\n",
       "        -7.57908527e-03, -1.71926693e-02],\n",
       "       [ 2.05931370e-01,  3.13161678e-01, -9.27748866e-02,\n",
       "        -3.38250615e-02, -3.46324350e-03, -5.64232848e-02,\n",
       "         8.99150627e-03,  5.03381416e-02, -2.18861316e-02,\n",
       "         2.01855354e-02, -1.16056066e-01, -2.00651032e-01,\n",
       "        -9.39524128e-02,  1.56133040e-02,  5.15122294e-04,\n",
       "         2.78475018e-01, -4.23516474e-22,  2.15980833e-01,\n",
       "         3.28735925e-02,  2.06212667e-03, -2.50916552e-01,\n",
       "         1.07565476e-01, -6.37242811e-01,  8.44918605e-02,\n",
       "         3.92369149e-01,  5.28163259e-02,  5.85755804e-04,\n",
       "        -8.09553220e-02,  3.33287410e-03, -1.46747608e-03,\n",
       "         1.85963050e-02,  5.99078632e-02],\n",
       "       [-3.52730050e-01, -2.40307041e-01, -3.39663009e-01,\n",
       "        -2.39056385e-02,  1.69335311e-02, -8.73949502e-02,\n",
       "        -1.04582419e-02,  1.95908041e-01,  1.14626889e-01,\n",
       "        -4.39022164e-02, -6.48903709e-02,  4.16013387e-01,\n",
       "        -1.04419318e-01, -4.92891872e-03,  2.11354024e-04,\n",
       "        -3.06876504e-01, -3.38813179e-21, -2.45442650e-01,\n",
       "         2.48263834e-02, -9.76622543e-03,  2.30382492e-01,\n",
       "         1.23386629e-01, -3.91850798e-01,  5.84246431e-02,\n",
       "         2.07165942e-01,  2.87358423e-03,  6.94431181e-04,\n",
       "        -1.45380683e-01,  4.27959645e-02,  1.05635322e-02,\n",
       "         1.70098400e-02,  7.43169148e-02],\n",
       "       [ 3.40293339e-01,  3.69787843e-01, -4.29205327e-01,\n",
       "        -7.69633362e-04, -2.19004973e-02,  3.43816850e-02,\n",
       "         2.35565167e-02,  4.06644390e-01,  5.38172854e-01,\n",
       "        -5.57396167e-02,  2.52783391e-02,  2.78718978e-02,\n",
       "         4.04673937e-02,  4.10441996e-02, -5.05574095e-04,\n",
       "        -1.08877917e-01,  0.00000000e+00,  1.12744336e-02,\n",
       "         1.12472249e-02, -3.05662842e-03, -1.94650300e-02,\n",
       "        -6.16662154e-02,  2.22575806e-01, -2.56411777e-02,\n",
       "        -1.44665051e-01,  9.39663824e-03,  6.34006703e-04,\n",
       "        -8.32838340e-02,  3.75681122e-02,  4.29028362e-03,\n",
       "        -6.77960437e-03,  4.75710359e-02],\n",
       "       [-1.13512560e-01, -2.96157589e-01,  4.38880790e-01,\n",
       "        -4.68117024e-02,  1.56870239e-02,  1.44903062e-01,\n",
       "        -1.75616674e-02,  1.48486909e-01,  6.53320937e-01,\n",
       "        -1.98027025e-02, -6.88305295e-02, -1.78158683e-01,\n",
       "         2.22713324e-01, -1.27218757e-02, -1.81586686e-04,\n",
       "        -3.16511786e-02,  0.00000000e+00,  4.76950232e-02,\n",
       "        -6.17041610e-03,  1.97555327e-04, -4.17221624e-02,\n",
       "         2.49529965e-02, -2.03261357e-01,  5.23600166e-02,\n",
       "         6.60622702e-02,  5.98860734e-02,  3.77211297e-04,\n",
       "         2.57845914e-01, -7.87439604e-02, -2.05394236e-02,\n",
       "        -3.41212274e-02, -1.24818514e-01],\n",
       "       [-1.61711446e-01, -2.18936636e-01, -5.11256739e-01,\n",
       "        -6.91540268e-02, -9.09539736e-03,  2.28840232e-01,\n",
       "        -8.63864787e-02, -1.72264508e-01, -1.08343507e-01,\n",
       "        -9.12788370e-02, -7.06537053e-02, -4.50269727e-01,\n",
       "         5.38170736e-01,  3.35105585e-02, -6.31075814e-04,\n",
       "        -1.20780492e-01, -0.00000000e+00,  8.84988266e-02,\n",
       "        -1.90405899e-02,  1.30713629e-02, -8.25295996e-02,\n",
       "        -3.88673206e-02, -3.56613292e-02,  2.51849267e-02,\n",
       "        -3.43522389e-02,  8.36959620e-02,  3.78436529e-03,\n",
       "        -8.56479082e-02,  4.92366633e-02,  1.23010273e-02,\n",
       "         2.81946937e-03,  1.75063829e-02],\n",
       "       [-7.20967039e-01,  6.48549252e-01,  1.16147591e-01,\n",
       "        -5.75610724e-03,  2.20993323e-03,  2.99247707e-02,\n",
       "        -3.43385648e-02,  2.20582514e-02,  3.51188634e-02,\n",
       "        -6.43821458e-02, -2.92997060e-03, -3.94818277e-02,\n",
       "         9.29020127e-02,  4.90947640e-03, -3.24809489e-04,\n",
       "        -5.80048519e-02,  0.00000000e+00,  1.90325450e-02,\n",
       "         3.55174153e-02,  1.84490121e-02, -7.29989724e-02,\n",
       "        -7.43265264e-02,  7.85530829e-02, -4.04197558e-02,\n",
       "         4.48723666e-02, -8.67916740e-03, -1.35158714e-03,\n",
       "         2.51060640e-02, -5.87084129e-03,  6.63877075e-03,\n",
       "         7.90859894e-03, -3.24310053e-02],\n",
       "       [ 8.37569784e-03, -4.71416897e-02,  2.50543282e-01,\n",
       "        -1.45671585e-03, -5.03794562e-04, -6.32738518e-02,\n",
       "        -3.66146257e-02, -2.85000061e-01,  2.74559062e-01,\n",
       "         8.05638194e-02, -8.45064917e-03, -5.38452209e-02,\n",
       "         4.78457183e-02,  2.10938880e-02, -8.87259096e-04,\n",
       "        -1.42071263e-02,  0.00000000e+00, -4.88426592e-02,\n",
       "         6.86138205e-02, -8.20719623e-03, -1.15639651e-02,\n",
       "        -1.45311905e-01,  1.03414062e-01, -9.16634261e-02,\n",
       "         1.60321191e-01, -2.67599216e-02,  1.06037578e-02,\n",
       "        -7.10000009e-01,  2.06518690e-01,  5.12183142e-02,\n",
       "         8.00455339e-02,  3.61613713e-01],\n",
       "       [-2.31508587e-03, -4.29923035e-02,  3.08249642e-01,\n",
       "         5.02153848e-02, -1.19270850e-02,  6.40601485e-04,\n",
       "        -2.29210928e-02,  6.28573195e-01, -3.28726261e-01,\n",
       "        -1.08358286e-01,  6.94105380e-02, -1.85373399e-01,\n",
       "         1.21220510e-01,  2.08629156e-01,  1.69291474e-03,\n",
       "        -1.46169182e-01,  6.07153217e-18, -9.95153460e-04,\n",
       "         2.71043053e-02,  2.77392784e-02, -5.38484303e-02,\n",
       "         2.54271130e-01, -8.60079882e-02,  5.63894630e-02,\n",
       "        -2.76612877e-01,  5.19602727e-02,  1.24519902e-02,\n",
       "        -2.82162376e-01,  7.08671926e-02,  3.37014630e-02,\n",
       "         1.99314869e-02,  1.45210243e-01],\n",
       "       [-7.93827872e-02,  1.02928468e-01, -5.84232442e-02,\n",
       "         3.21060231e-02, -2.02966839e-03,  2.25500795e-03,\n",
       "        -2.29619325e-02, -3.38614244e-01,  2.00621222e-01,\n",
       "         1.20300599e-01,  8.27071750e-02,  6.78488212e-02,\n",
       "        -4.19234419e-02, -1.50123600e-01,  2.59708166e-03,\n",
       "         1.21601140e-01, -0.00000000e+00,  3.60956994e-02,\n",
       "        -2.62919333e-02,  2.87729587e-03, -1.26810620e-02,\n",
       "         5.41464148e-01, -1.98378684e-01,  1.89057138e-01,\n",
       "        -6.08106559e-01,  7.59639565e-02,  7.44673375e-04,\n",
       "        -8.61965131e-02,  2.50704153e-02,  5.27192953e-03,\n",
       "        -8.48647753e-03,  6.35959724e-02],\n",
       "       [-4.24485898e-02,  7.06251721e-03, -6.18290141e-02,\n",
       "         6.48236911e-02,  1.89824926e-02, -1.17590160e-01,\n",
       "         1.52447988e-01, -2.10334347e-01,  1.11857196e-01,\n",
       "         9.34903541e-02,  6.27752917e-02, -2.84591655e-01,\n",
       "        -2.93345195e-01,  7.93468598e-01,  1.57579789e-03,\n",
       "        -2.17107546e-01,  0.00000000e+00, -1.75142147e-02,\n",
       "        -3.93007982e-02, -2.67980880e-02,  8.36131009e-02,\n",
       "         6.51018023e-02, -1.63971810e-02,  4.95761338e-02,\n",
       "        -1.10088758e-02, -8.72718792e-02, -1.31807409e-03,\n",
       "         8.54845996e-02, -6.62821782e-02,  4.14768339e-02,\n",
       "        -2.52633049e-02, -3.40978763e-02],\n",
       "       [-3.66113816e-02,  1.66580411e-02, -4.81444449e-02,\n",
       "         4.50295963e-03, -4.69109722e-03, -5.34841559e-02,\n",
       "        -8.83359774e-02,  1.67770445e-01, -4.07203605e-02,\n",
       "         9.38720052e-01,  2.03140502e-02, -6.59223734e-02,\n",
       "         1.52474557e-01, -4.61841360e-02, -8.79010619e-05,\n",
       "        -4.02801468e-02, -5.55111512e-17, -4.94958220e-02,\n",
       "         1.87153805e-02,  4.88409873e-03,  2.58963428e-02,\n",
       "         7.75313671e-02,  3.10540161e-02, -1.48207447e-01,\n",
       "         7.71502878e-02, -3.75282244e-02, -4.95060408e-03,\n",
       "         4.37133871e-02, -1.58718521e-02, -5.43614401e-03,\n",
       "         5.93825409e-03, -2.33930410e-02],\n",
       "       [-3.76470121e-02,  1.09787815e-02,  2.64183725e-02,\n",
       "        -3.93708441e-02,  1.34506086e-02,  1.00970792e-01,\n",
       "         5.99276743e-02,  6.07621503e-02, -4.36847898e-02,\n",
       "         2.09766322e-01, -1.37551310e-01,  4.73841235e-02,\n",
       "        -7.60656290e-02,  1.47072294e-02, -3.44851254e-03,\n",
       "         1.74227886e-02,  5.55111512e-17,  5.70318579e-02,\n",
       "        -9.52896435e-02, -1.93622546e-02,  5.76200403e-02,\n",
       "        -5.36004337e-01, -8.55948367e-02,  7.30812275e-01,\n",
       "        -2.06336409e-01,  9.71233077e-02,  1.29810704e-02,\n",
       "        -7.47719263e-02,  5.03739277e-02,  5.48323317e-03,\n",
       "         8.77841256e-03, -2.84471762e-03],\n",
       "       [ 4.41666242e-02, -1.88890285e-02, -2.48546508e-02,\n",
       "         6.67638836e-02, -1.36291712e-02, -2.26411708e-01,\n",
       "        -1.10808592e-01, -5.57956498e-02,  5.07669476e-03,\n",
       "        -2.31895956e-02,  4.03151703e-02, -4.63715488e-02,\n",
       "         6.78013561e-02,  3.26488436e-03,  1.70570997e-04,\n",
       "        -2.48652626e-02,  9.71445147e-17, -4.33862884e-01,\n",
       "         7.11929663e-01,  7.13070430e-02, -3.49373822e-01,\n",
       "        -8.21580179e-02, -7.85524611e-03,  1.82497231e-01,\n",
       "        -6.37006334e-02, -2.87833337e-02,  2.35519664e-03,\n",
       "         1.21472410e-01, -1.62735347e-01, -3.44905354e-02,\n",
       "        -7.20184040e-03,  8.06001168e-02],\n",
       "       [-9.73284765e-03, -2.27252633e-02,  5.15822872e-03,\n",
       "        -1.75132961e-01,  2.76789455e-02,  2.93282567e-01,\n",
       "         1.68849577e-01, -5.76465701e-03, -1.90120660e-02,\n",
       "         6.26961326e-02, -1.57679845e-01,  5.21599064e-02,\n",
       "        -1.94802078e-01,  1.04344773e-01, -1.57323475e-03,\n",
       "         3.98706336e-02, -2.77555756e-17, -1.33673100e-01,\n",
       "         2.54711868e-01,  2.56119968e-02, -1.46650765e-01,\n",
       "        -3.07206744e-02, -3.16689505e-02, -2.36488811e-01,\n",
       "        -1.00125031e-01,  3.99003467e-01,  8.02668940e-03,\n",
       "        -1.02040152e-01,  4.60775551e-01,  2.46910691e-02,\n",
       "         6.79333820e-02, -4.59386539e-01],\n",
       "       [-2.85275615e-02, -7.36629253e-03, -8.93989798e-03,\n",
       "         6.33411143e-02, -4.04614494e-03, -1.16900988e-01,\n",
       "        -6.00558809e-02, -1.39089472e-02, -5.39879295e-03,\n",
       "         2.07296717e-02, -4.56748294e-04,  1.91009129e-02,\n",
       "        -6.25508417e-02,  4.83221741e-02, -9.84969754e-04,\n",
       "        -3.88727557e-03,  2.77555756e-17,  3.75564906e-02,\n",
       "        -6.23006782e-02, -2.52114204e-02,  4.99556080e-02,\n",
       "        -2.25866889e-01, -9.45297851e-02, -2.87415976e-01,\n",
       "        -1.39472611e-01,  7.47285262e-01, -1.19549361e-02,\n",
       "         8.18407954e-02, -3.37608769e-01, -2.71721512e-02,\n",
       "        -4.82038094e-02,  3.43098871e-01]])"
      ]
     },
     "execution_count": 265,
     "metadata": {},
     "output_type": "execute_result"
    }
   ],
   "source": [
    "from sklearn.svm import LinearSVC\n",
    "X_train, X_test, y_train, y_test = train_test_split(X, y, random_state = 0)\n",
    "\n",
    "scaler = MinMaxScaler()\n",
    "X_train = scaler.fit_transform(X_train)\n",
    "X_test = scaler.transform(X_test)\n",
    "pca = PCA(n_components = 0.95)\n",
    "X_train_pca = pca.fit_transform(X_train)\n",
    "X_test_pca = pca.transform(X_test)\n",
    "pca.components_"
   ]
  },
  {
   "cell_type": "code",
   "execution_count": 266,
   "metadata": {
    "colab": {
     "base_uri": "https://localhost:8080/"
    },
    "id": "TeW74AFM3cP9",
    "outputId": "208f3929-dfbf-427d-8461-ed4ccdcbb364"
   },
   "outputs": [
    {
     "data": {
      "text/plain": [
       "0.7933333333333333"
      ]
     },
     "execution_count": 266,
     "metadata": {},
     "output_type": "execute_result"
    }
   ],
   "source": [
    "svc = LinearSVC()\n",
    "svc.fit(X_train_pca,y_train)\n",
    "y_pred_pca=svc.predict(X_test_pca)\n",
    "#Predicting accuracy\n",
    "accuracy_score(y_test, y_pred_pca)"
   ]
  },
  {
   "cell_type": "code",
   "execution_count": 267,
   "metadata": {
    "id": "FozBvLUB3cUK"
   },
   "outputs": [],
   "source": [
    "#Predicting the y values\n",
    "y_pred_svc_pca =svc.predict(X_test_pca)"
   ]
  },
  {
   "cell_type": "code",
   "execution_count": 268,
   "metadata": {
    "colab": {
     "base_uri": "https://localhost:8080/"
    },
    "id": "CX3Ck2ZX3ie3",
    "outputId": "9c68bc59-7845-4166-d95b-9fc8451d92a9"
   },
   "outputs": [
    {
     "name": "stdout",
     "output_type": "stream",
     "text": [
      "              precision    recall  f1-score   support\n",
      "\n",
      "           0       1.00      0.79      0.88       750\n",
      "           1       0.00      0.00      0.00         0\n",
      "\n",
      "    accuracy                           0.79       750\n",
      "   macro avg       0.50      0.40      0.44       750\n",
      "weighted avg       1.00      0.79      0.88       750\n",
      "\n"
     ]
    }
   ],
   "source": [
    "#Printing Classification report\n",
    "print(classification_report(y_pred_svc_pca,y_test))"
   ]
  },
  {
   "cell_type": "code",
   "execution_count": 269,
   "metadata": {
    "colab": {
     "base_uri": "https://localhost:8080/"
    },
    "id": "LmNYmnd33iiI",
    "outputId": "daf951d0-f4b6-4779-c6eb-f12cc1e5776f"
   },
   "outputs": [
    {
     "name": "stdout",
     "output_type": "stream",
     "text": [
      "[[595 155]\n",
      " [  0   0]]\n"
     ]
    }
   ],
   "source": [
    "#printing confusion matrix\n",
    "print(confusion_matrix(y_pred_svc_pca,y_test))"
   ]
  },
  {
   "cell_type": "code",
   "execution_count": 270,
   "metadata": {
    "colab": {
     "base_uri": "https://localhost:8080/"
    },
    "id": "BcQDSWg93cXz",
    "outputId": "54940ce1-191c-41e1-e08a-0c3da2966bd0"
   },
   "outputs": [
    {
     "name": "stdout",
     "output_type": "stream",
     "text": [
      "Train score: 0.7769\n",
      "Test score: 0.7933\n"
     ]
    }
   ],
   "source": [
    "#PCA On Linear kernel with hyper parameter tuning \n",
    "svm1_pca = SVC(gamma=0.001, C=0.001)\n",
    "svm1_pca.fit(X_train_pca, y_train)\n",
    "print('Train score: {:.4f}'.format(svm1_pca.score(X_train_pca, y_train)))\n",
    "print('Test score: {:.4f}'.format(svm1_pca.score(X_test_pca, y_test)))"
   ]
  },
  {
   "cell_type": "code",
   "execution_count": 271,
   "metadata": {
    "colab": {
     "base_uri": "https://localhost:8080/"
    },
    "id": "q1MOlqN83nqL",
    "outputId": "c3f5b616-4188-4f8c-bd4d-3ef9a056d1a2"
   },
   "outputs": [
    {
     "data": {
      "text/plain": [
       "0.7933333333333333"
      ]
     },
     "execution_count": 271,
     "metadata": {},
     "output_type": "execute_result"
    }
   ],
   "source": [
    "y_pred_sv_pca =svm1_pca.predict(X_test_pca)\n",
    "accuracy_score(y_pred_sv_pca,y_test)"
   ]
  },
  {
   "cell_type": "code",
   "execution_count": 272,
   "metadata": {
    "colab": {
     "base_uri": "https://localhost:8080/"
    },
    "id": "Quvcq--i3nwk",
    "outputId": "ac1ebc1e-dbe5-4b1a-812b-9a5e2e3708e3"
   },
   "outputs": [
    {
     "name": "stdout",
     "output_type": "stream",
     "text": [
      "              precision    recall  f1-score   support\n",
      "\n",
      "           0       1.00      0.79      0.88       750\n",
      "           1       0.00      0.00      0.00         0\n",
      "\n",
      "    accuracy                           0.79       750\n",
      "   macro avg       0.50      0.40      0.44       750\n",
      "weighted avg       1.00      0.79      0.88       750\n",
      "\n"
     ]
    }
   ],
   "source": [
    "#Classification report\n",
    "import warnings\n",
    "warnings.filterwarnings('ignore')\n",
    "print(classification_report(y_pred_sv_pca,y_test))"
   ]
  },
  {
   "cell_type": "code",
   "execution_count": 273,
   "metadata": {
    "colab": {
     "base_uri": "https://localhost:8080/"
    },
    "id": "7GdtocNu3n2c",
    "outputId": "316b3edc-dace-4625-dc9c-ecc0f5055d07"
   },
   "outputs": [
    {
     "name": "stdout",
     "output_type": "stream",
     "text": [
      "[[595 155]\n",
      " [  0   0]]\n"
     ]
    }
   ],
   "source": [
    "#Confusion matrix\n",
    "print(confusion_matrix(y_pred_sv_pca,y_test))"
   ]
  },
  {
   "cell_type": "markdown",
   "metadata": {
    "id": "X0h50UrD3sGQ"
   },
   "source": [
    "##PCA with SVC Kernel =poly"
   ]
  },
  {
   "cell_type": "code",
   "execution_count": 274,
   "metadata": {
    "colab": {
     "base_uri": "https://localhost:8080/"
    },
    "id": "eGuHuov43tnD",
    "outputId": "a5af5f34-ba15-4758-be1a-d89246340ae1"
   },
   "outputs": [
    {
     "name": "stdout",
     "output_type": "stream",
     "text": [
      "Best parameters: {'C': 0.001, 'gamma': 0.001, 'max_iter': 450}\n",
      "Best cross-validation score: 0.78\n"
     ]
    }
   ],
   "source": [
    "param_dist={\n",
    "    \"max_iter\":[10,50,100,150,200,250,300,350,400,450,500],\n",
    "    \"C\":[0.001, 0.01, 0.1, 1, 10],\n",
    "    \"gamma\":[0.001, 0.01, 0.1, 1, 10]\n",
    "}\n",
    "from sklearn.model_selection import GridSearchCV\n",
    "clf = SVC(kernel = 'poly')\n",
    "grid_poly_pca=GridSearchCV(clf, param_grid=param_dist, cv=5, n_jobs=-1)\n",
    "grid_poly_pca.fit(X_train_pca,y_train)\n",
    "print(\"Best parameters: {}\".format(grid_poly_pca.best_params_))\n",
    "print(\"Best cross-validation score: {:.2f}\".format(grid_poly_pca.best_score_))"
   ]
  },
  {
   "cell_type": "code",
   "execution_count": 275,
   "metadata": {
    "colab": {
     "base_uri": "https://localhost:8080/"
    },
    "id": "Bjy-vBLx32jX",
    "outputId": "79e078cb-03cf-4277-e8aa-88370f6baa45"
   },
   "outputs": [
    {
     "data": {
      "text/plain": [
       "0.26666666666666666"
      ]
     },
     "execution_count": 275,
     "metadata": {},
     "output_type": "execute_result"
    }
   ],
   "source": [
    "#Predicting y from X_test\n",
    "y_pred_grid_poly_pca =grid_poly_pca.predict(X_test_pca)\n",
    "#Accuracy Score\n",
    "accuracy_score(y_pred_grid_poly_pca,y_test)"
   ]
  },
  {
   "cell_type": "code",
   "execution_count": 276,
   "metadata": {
    "colab": {
     "base_uri": "https://localhost:8080/"
    },
    "id": "WhP_ikG632nE",
    "outputId": "6e84a9e1-d5be-4109-d208-a03948adea31"
   },
   "outputs": [
    {
     "name": "stdout",
     "output_type": "stream",
     "text": [
      "              precision    recall  f1-score   support\n",
      "\n",
      "           0       0.11      0.78      0.19        81\n",
      "           1       0.88      0.20      0.33       669\n",
      "\n",
      "    accuracy                           0.27       750\n",
      "   macro avg       0.49      0.49      0.26       750\n",
      "weighted avg       0.80      0.27      0.32       750\n",
      "\n"
     ]
    }
   ],
   "source": [
    "#Classification report\n",
    "print(classification_report(y_pred_grid_poly_pca,y_test))"
   ]
  },
  {
   "cell_type": "code",
   "execution_count": 277,
   "metadata": {
    "colab": {
     "base_uri": "https://localhost:8080/"
    },
    "id": "wLMwzdyT32rB",
    "outputId": "3bf742eb-d52f-459e-a786-7e788562ee97"
   },
   "outputs": [
    {
     "name": "stdout",
     "output_type": "stream",
     "text": [
      "[[ 63  18]\n",
      " [532 137]]\n"
     ]
    }
   ],
   "source": [
    "#Confusion Matrix\n",
    "print(confusion_matrix(y_pred_grid_poly_pca,y_test))"
   ]
  },
  {
   "cell_type": "markdown",
   "metadata": {
    "id": "Pif78_0V3-Ha"
   },
   "source": [
    "###PCA with Kernel RBF"
   ]
  },
  {
   "cell_type": "code",
   "execution_count": 278,
   "metadata": {
    "colab": {
     "base_uri": "https://localhost:8080/"
    },
    "id": "XiwkBdr032u_",
    "outputId": "3016846c-31b7-4dce-833f-0363c60f2be9"
   },
   "outputs": [
    {
     "name": "stdout",
     "output_type": "stream",
     "text": [
      "SVC(C=0.001, gamma=0.001, max_iter=450)\n",
      "0.776888888888889\n"
     ]
    }
   ],
   "source": [
    "clf_rbf = SVC(kernel = 'rbf')\n",
    "import warnings\n",
    "warnings.filterwarnings('ignore', 'Solver terminated early.*')\n",
    "param_dist={\n",
    "    \"max_iter\":[10,50,100,150,200,250,300,350,400,450,500],\n",
    "    \"C\":[0.001, 0.01, 0.1, 1, 10],\n",
    "    \"gamma\":[0.001, 0.01, 0.1, 1, 10]\n",
    "}\n",
    "grid_rbf_pca=GridSearchCV(clf_rbf, param_grid=param_dist, cv=5, n_jobs=-1)\n",
    "grid_rbf_pca.fit(X_train_pca,y_train)\n",
    "print(grid_rbf_pca.best_estimator_)\n",
    "print(grid_rbf_pca.best_score_)"
   ]
  },
  {
   "cell_type": "code",
   "execution_count": 279,
   "metadata": {
    "colab": {
     "base_uri": "https://localhost:8080/"
    },
    "id": "Sqfd1v8s4BGl",
    "outputId": "40bacffa-6316-4f11-fae9-7d75b5da093b"
   },
   "outputs": [
    {
     "name": "stdout",
     "output_type": "stream",
     "text": [
      "Best parameters: {'C': 0.001, 'gamma': 0.001, 'max_iter': 450}\n",
      "0.44\n"
     ]
    }
   ],
   "source": [
    "print(\"Best parameters: {}\".format(grid_rbf_pca.best_params_))\n",
    "#Predicting y values\n",
    "y_pred_grid_pca =grid_rbf_pca.predict(X_test_pca)\n",
    "#Accuracy Score\n",
    "print(accuracy_score(y_pred_grid_pca,y_test))"
   ]
  },
  {
   "cell_type": "code",
   "execution_count": 280,
   "metadata": {
    "colab": {
     "base_uri": "https://localhost:8080/"
    },
    "id": "lsvVMRsv4BKD",
    "outputId": "31af681f-3994-4db5-8e8e-b212433cf78a"
   },
   "outputs": [
    {
     "name": "stdout",
     "output_type": "stream",
     "text": [
      "              precision    recall  f1-score   support\n",
      "\n",
      "           0       0.41      0.78      0.54       317\n",
      "           1       0.54      0.19      0.29       433\n",
      "\n",
      "    accuracy                           0.44       750\n",
      "   macro avg       0.48      0.49      0.41       750\n",
      "weighted avg       0.49      0.44      0.39       750\n",
      "\n",
      "[[246  71]\n",
      " [349  84]]\n"
     ]
    }
   ],
   "source": [
    "#Classification Report\n",
    "import warnings\n",
    "warnings.filterwarnings('ignore')\n",
    "print(classification_report(y_pred_grid_pca,y_test))\n",
    "#Confusion Matrix\n",
    "print(confusion_matrix(y_pred_grid_pca,y_test))"
   ]
  },
  {
   "cell_type": "markdown",
   "metadata": {
    "id": "HGsgsYW-4F-K"
   },
   "source": [
    "###PCA With SVC Kernel -Linear"
   ]
  },
  {
   "cell_type": "code",
   "execution_count": 281,
   "metadata": {
    "colab": {
     "base_uri": "https://localhost:8080/"
    },
    "id": "2lvfpsQV4BN-",
    "outputId": "5d817281-62ca-41ac-a427-ae88172a871d"
   },
   "outputs": [
    {
     "name": "stdout",
     "output_type": "stream",
     "text": [
      "SVC(C=0.001, gamma=0.001, kernel='linear', max_iter=450)\n",
      "0.776888888888889\n",
      "Best parameters: {'C': 0.001, 'gamma': 0.001, 'max_iter': 450}\n"
     ]
    }
   ],
   "source": [
    "clf_lin = SVC(kernel = 'linear')\n",
    "import warnings\n",
    "warnings.filterwarnings('ignore', 'Solver terminated early.*')\n",
    "param_dist={\n",
    "    \"max_iter\":[10,50,100,150,200,250,300,350,400,450,500],\n",
    "    \"C\":[0.001, 0.01, 0.1, 1, 10],\n",
    "    \"gamma\":[0.001, 0.01, 0.1, 1, 10]\n",
    "}\n",
    "grid_svc_lp_pca=GridSearchCV(clf_lin, param_grid=param_dist, cv=5, n_jobs=-1)\n",
    "grid_svc_lp_pca.fit(X_train_pca,y_train)\n",
    "print(grid_svc_lp_pca.best_estimator_)\n",
    "print(grid_svc_lp_pca.best_score_)\n",
    "print(\"Best parameters: {}\".format(grid_svc_lp_pca.best_params_))"
   ]
  },
  {
   "cell_type": "code",
   "execution_count": 282,
   "metadata": {
    "colab": {
     "base_uri": "https://localhost:8080/"
    },
    "id": "n1NAZM1R4BRS",
    "outputId": "2cdfd50c-64e4-4409-ecb8-3c0d00f8bceb"
   },
   "outputs": [
    {
     "data": {
      "text/plain": [
       "0.6386666666666667"
      ]
     },
     "execution_count": 282,
     "metadata": {},
     "output_type": "execute_result"
    }
   ],
   "source": [
    "#Predicting y\n",
    "y_pred_svc_lp_pca =grid_svc_lp_pca.predict(X_test_pca)\n",
    "#Accuracy Score\n",
    "accuracy_score(y_pred_svc_lp_pca,y_test)"
   ]
  },
  {
   "cell_type": "code",
   "execution_count": 283,
   "metadata": {
    "colab": {
     "base_uri": "https://localhost:8080/"
    },
    "id": "iwpsOOAO4BVF",
    "outputId": "1fbfd30f-d2b7-49bc-d913-9ff8f6819b12"
   },
   "outputs": [
    {
     "name": "stdout",
     "output_type": "stream",
     "text": [
      "              precision    recall  f1-score   support\n",
      "\n",
      "           0       0.73      0.79      0.76       550\n",
      "           1       0.27      0.21      0.24       200\n",
      "\n",
      "    accuracy                           0.64       750\n",
      "   macro avg       0.50      0.50      0.50       750\n",
      "weighted avg       0.61      0.64      0.62       750\n",
      "\n"
     ]
    }
   ],
   "source": [
    "#Classification Report\n",
    "import warnings\n",
    "warnings.filterwarnings('ignore')\n",
    "print(classification_report(y_pred_svc_lp_pca,y_test))"
   ]
  },
  {
   "cell_type": "code",
   "execution_count": 284,
   "metadata": {
    "colab": {
     "base_uri": "https://localhost:8080/"
    },
    "id": "YfUjVYxn4Osm",
    "outputId": "03f679c8-3fa1-4778-f5a0-35cd8f13147b"
   },
   "outputs": [
    {
     "name": "stdout",
     "output_type": "stream",
     "text": [
      "[[437 113]\n",
      " [158  42]]\n"
     ]
    }
   ],
   "source": [
    "#Confusion Report\n",
    "print(confusion_matrix(y_pred_svc_lp_pca,y_test))"
   ]
  },
  {
   "cell_type": "markdown",
   "metadata": {
    "id": "UE_y4OY44QgC"
   },
   "source": [
    "##PCA with Decision Tree"
   ]
  },
  {
   "cell_type": "code",
   "execution_count": 285,
   "metadata": {
    "colab": {
     "base_uri": "https://localhost:8080/"
    },
    "id": "8jr0SRYG4SSr",
    "outputId": "e7b58847-f178-415a-acaa-cfb2d24890af"
   },
   "outputs": [
    {
     "name": "stdout",
     "output_type": "stream",
     "text": [
      "DecisionTreeClassifier(max_depth=3)\n",
      "0.7764444444444445\n",
      "{'criterion': 'gini', 'max_depth': 3}\n"
     ]
    }
   ],
   "source": [
    "param_dist={\n",
    "    \"criterion\":[\"gini\",\"entropy\"],\n",
    "    \"max_depth\":[1,2,3,4,5,6,7]\n",
    "}\n",
    "tree = DecisionTreeClassifier()\n",
    "grid_tree_pca=GridSearchCV(tree, param_grid=param_dist, cv=10, n_jobs=-1)\n",
    "grid_tree_pca.fit(X_train_pca,y_train)\n",
    "print(grid_tree_pca.best_estimator_)\n",
    "print(grid_tree_pca.best_score_)\n",
    "print(grid_tree_pca.best_params_)\n"
   ]
  },
  {
   "cell_type": "code",
   "execution_count": 335,
   "metadata": {
    "colab": {
     "base_uri": "https://localhost:8080/"
    },
    "id": "tWi-XSVC4VMD",
    "outputId": "4869b6d1-354f-4c41-cd53-2370857d8fed"
   },
   "outputs": [
    {
     "name": "stdout",
     "output_type": "stream",
     "text": [
      "Accuracy on training set: 0.781\n",
      "Accuracy on test set: 0.791\n"
     ]
    }
   ],
   "source": [
    "dtree = DecisionTreeClassifier(max_depth=3, criterion = 'gini')\n",
    "dtree.fit(X_train_pca, y_train)\n",
    "\n",
    "print(\"Accuracy on training set: {:.3f}\".format(dtree.score(X_train_pca, y_train)))\n",
    "print(\"Accuracy on test set: {:.3f}\".format(dtree.score(X_test_pca, y_test)))"
   ]
  },
  {
   "cell_type": "code",
   "execution_count": 336,
   "metadata": {
    "colab": {
     "base_uri": "https://localhost:8080/"
    },
    "id": "nF3Om_664XOb",
    "outputId": "23cc04d7-dbf6-48d5-d573-43eaf7eeba7d"
   },
   "outputs": [
    {
     "data": {
      "text/plain": [
       "0.7906666666666666"
      ]
     },
     "execution_count": 336,
     "metadata": {},
     "output_type": "execute_result"
    }
   ],
   "source": [
    "# Predicting y\n",
    "y_pred_dtree_pca =dtree.predict(X_test_pca)\n",
    "#Accuracy Score\n",
    "accuracy_score(y_pred_dtree_pca,y_test)"
   ]
  },
  {
   "cell_type": "code",
   "execution_count": 337,
   "metadata": {
    "colab": {
     "base_uri": "https://localhost:8080/"
    },
    "id": "mK9fmzdI4Yhr",
    "outputId": "5e78271b-2ab5-4481-a6af-26c4cd9f0ac8"
   },
   "outputs": [
    {
     "name": "stdout",
     "output_type": "stream",
     "text": [
      "              precision    recall  f1-score   support\n",
      "\n",
      "         0.0       1.00      0.79      0.88       748\n",
      "         1.0       0.00      0.00      0.00         2\n",
      "\n",
      "    accuracy                           0.79       750\n",
      "   macro avg       0.50      0.40      0.44       750\n",
      "weighted avg       0.99      0.79      0.88       750\n",
      "\n"
     ]
    }
   ],
   "source": [
    "#Classification report\n",
    "import warnings\n",
    "warnings.filterwarnings('ignore')\n",
    "print(classification_report(y_pred_dtree_pca,y_test))"
   ]
  },
  {
   "cell_type": "code",
   "execution_count": 289,
   "metadata": {
    "colab": {
     "base_uri": "https://localhost:8080/"
    },
    "id": "ZmWtq7k64ZU5",
    "outputId": "ac607808-b41a-45e1-8142-b2361fe509d9"
   },
   "outputs": [
    {
     "name": "stdout",
     "output_type": "stream",
     "text": [
      "[[593 155]\n",
      " [  2   0]]\n"
     ]
    }
   ],
   "source": [
    "#Confusion matrix\n",
    "print(confusion_matrix(y_pred_dtree_pca,y_test))"
   ]
  },
  {
   "cell_type": "code",
   "execution_count": 290,
   "metadata": {
    "colab": {
     "base_uri": "https://localhost:8080/",
     "height": 303
    },
    "id": "XqH1kya44ZZ5",
    "outputId": "1c0ae32a-4ff4-430e-aeb6-477ac84ca0b8"
   },
   "outputs": [
    {
     "data": {
      "text/plain": [
       "[Text(167.4, 163.07999999999998, 'X[15] <= 0.742\\ngini = 0.347\\nsamples = 2250\\nvalue = [1748, 502]'),\n",
       " Text(83.7, 54.360000000000014, 'gini = 0.344\\nsamples = 2237\\nvalue = [1743, 494]'),\n",
       " Text(251.10000000000002, 54.360000000000014, 'gini = 0.473\\nsamples = 13\\nvalue = [5, 8]')]"
      ]
     },
     "execution_count": 290,
     "metadata": {},
     "output_type": "execute_result"
    },
    {
     "data": {
      "image/png": "[encoded data removed]",
      "text/plain": [
       "<Figure size 432x288 with 1 Axes>"
      ]
     },
     "metadata": {
      "needs_background": "light"
     },
     "output_type": "display_data"
    }
   ],
   "source": [
    "from sklearn import tree\n",
    "tree.plot_tree(dtree)"
   ]
  },
  {
   "cell_type": "markdown",
   "metadata": {
    "id": "gM4fHO1i4fAY"
   },
   "source": [
    "##PCA with Softmax "
   ]
  },
  {
   "cell_type": "code",
   "execution_count": 291,
   "metadata": {
    "colab": {
     "base_uri": "https://localhost:8080/"
    },
    "id": "Am5rywzD4c3-",
    "outputId": "c1f84bc1-2116-43de-8efd-488b17488045"
   },
   "outputs": [
    {
     "name": "stdout",
     "output_type": "stream",
     "text": [
      "Train score: 0.7769\n",
      "Test score: 0.7933\n"
     ]
    }
   ],
   "source": [
    "softmax_reg_pca = LogisticRegression(multi_class=\"multinomial\",solver=\"lbfgs\", C=10, max_iter=1000)\n",
    "softmax_reg_pca.fit(X_train_pca, y_train)\n",
    "print('Train score: {:.4f}'.format(softmax_reg_pca.score(X_train_pca, y_train)))\n",
    "print('Test score: {:.4f}'.format(softmax_reg_pca.score(X_test_pca, y_test)))"
   ]
  },
  {
   "cell_type": "code",
   "execution_count": 292,
   "metadata": {
    "id": "qQQdaMAd4c7c"
   },
   "outputs": [],
   "source": [
    "y_pred_sm_pca=softmax_reg_pca.predict(X_test_pca)"
   ]
  },
  {
   "cell_type": "code",
   "execution_count": 293,
   "metadata": {
    "colab": {
     "base_uri": "https://localhost:8080/"
    },
    "id": "BnPga5qL4c_n",
    "outputId": "269a9fcd-fa32-4866-dad8-0ccbf2b85b5e"
   },
   "outputs": [
    {
     "name": "stdout",
     "output_type": "stream",
     "text": [
      "              precision    recall  f1-score   support\n",
      "\n",
      "           0       1.00      0.79      0.88       750\n",
      "           1       0.00      0.00      0.00         0\n",
      "\n",
      "    accuracy                           0.79       750\n",
      "   macro avg       0.50      0.40      0.44       750\n",
      "weighted avg       1.00      0.79      0.88       750\n",
      "\n"
     ]
    }
   ],
   "source": [
    "#Classification report\n",
    "import warnings\n",
    "warnings.filterwarnings('ignore')\n",
    "print(classification_report(y_pred_sm_pca,y_test))"
   ]
  },
  {
   "cell_type": "code",
   "execution_count": 294,
   "metadata": {
    "colab": {
     "base_uri": "https://localhost:8080/"
    },
    "id": "gnG3YFvD4lPo",
    "outputId": "cc0080ed-4812-4e2d-d7dd-fccb53154d12"
   },
   "outputs": [
    {
     "name": "stdout",
     "output_type": "stream",
     "text": [
      "[[595 155]\n",
      " [  0   0]]\n"
     ]
    }
   ],
   "source": [
    "#Confusion matrix\n",
    "print(confusion_matrix(y_pred_sm_pca,y_test))"
   ]
  },
  {
   "cell_type": "markdown",
   "metadata": {
    "id": "AauoVERS4pbF"
   },
   "source": [
    "##TensorFlow"
   ]
  },
  {
   "cell_type": "code",
   "execution_count": 295,
   "metadata": {
    "colab": {
     "base_uri": "https://localhost:8080/"
    },
    "id": "K_sOR0Um4lTS",
    "outputId": "91c724b3-67d6-4d4f-f581-bb8f9456923f"
   },
   "outputs": [
    {
     "name": "stdout",
     "output_type": "stream",
     "text": [
      "Train shape:  (2250, 32)\n",
      "test shape:  (750, 32)\n"
     ]
    }
   ],
   "source": [
    "import tensorflow as tf\n",
    "X_train, X_test, y_train, y_test = train_test_split(X, y, random_state=0)\n",
    "print(\"Train shape: \", X_train.shape)\n",
    "print(\"test shape: \", X_test.shape)"
   ]
  },
  {
   "cell_type": "code",
   "execution_count": 316,
   "metadata": {
    "id": "u-4uEJtf4lW1"
   },
   "outputs": [],
   "source": [
    "from keras.models import Sequential\n",
    "from keras.layers import Dense,Dropout"
   ]
  },
  {
   "cell_type": "code",
   "execution_count": 297,
   "metadata": {
    "id": "SY2H61Wz6MeI"
   },
   "outputs": [],
   "source": [
    "tf.keras.backend.clear_session()"
   ]
  },
  {
   "cell_type": "code",
   "execution_count": 324,
   "metadata": {
    "id": "2xgBdCeu6Nd-"
   },
   "outputs": [],
   "source": [
    "# step 1: build the model'\n",
    "def create_model():\n",
    "  model = Sequential()\n",
    "  model.add(Dense(20, input_dim = 32, activation='relu', kernel_initializer = 'normal', name = 'input_layer'))\n",
    "  model.add(Dense(16, activation='relu'))\n",
    "  model.add(Dropout(0.2))\n",
    "  model.add(Dense(2, activation='relu'))\n",
    "  model.add(Dense(1, activation = 'sigmoid'))\n",
    "  model.compile(loss='categorical_crossentropy',optimizer = 'adam', metrics = ['accuracy'])\n",
    "  return model"
   ]
  },
  {
   "cell_type": "code",
   "execution_count": 325,
   "metadata": {
    "colab": {
     "base_uri": "https://localhost:8080/"
    },
    "id": "zoTu1PNt6Qto",
    "outputId": "e2c84762-4e64-4010-a5dc-8a2cdf3109ee"
   },
   "outputs": [
    {
     "name": "stdout",
     "output_type": "stream",
     "text": [
      "Model: \"sequential_3\"\n",
      "_________________________________________________________________\n",
      " Layer (type)                Output Shape              Param #   \n",
      "=================================================================\n",
      " input_layer (Dense)         (None, 20)                660       \n",
      "                                                                 \n",
      " dense_4 (Dense)             (None, 16)                336       \n",
      "                                                                 \n",
      " dropout_1 (Dropout)         (None, 16)                0         \n",
      "                                                                 \n",
      " dense_5 (Dense)             (None, 2)                 34        \n",
      "                                                                 \n",
      " dense_6 (Dense)             (None, 1)                 3         \n",
      "                                                                 \n",
      "=================================================================\n",
      "Total params: 1,033\n",
      "Trainable params: 1,033\n",
      "Non-trainable params: 0\n",
      "_________________________________________________________________\n"
     ]
    }
   ],
   "source": [
    "model.summary()"
   ]
  },
  {
   "cell_type": "code",
   "execution_count": 326,
   "metadata": {
    "id": "t5ZYHQCi6R2-"
   },
   "outputs": [],
   "source": [
    "model=create_model()"
   ]
  },
  {
   "cell_type": "code",
   "execution_count": 327,
   "metadata": {
    "colab": {
     "base_uri": "https://localhost:8080/"
    },
    "id": "PNaC22J56UsJ",
    "outputId": "d8a77251-f643-43db-8ef4-febfc5922d27"
   },
   "outputs": [
    {
     "name": "stdout",
     "output_type": "stream",
     "text": [
      "Epoch 1/20\n",
      "18/18 [==============================] - 1s 2ms/step - loss: 0.0000e+00 - accuracy: 0.7769\n",
      "Epoch 2/20\n",
      "18/18 [==============================] - 0s 2ms/step - loss: 0.0000e+00 - accuracy: 0.7769\n",
      "Epoch 3/20\n",
      "18/18 [==============================] - 0s 2ms/step - loss: 0.0000e+00 - accuracy: 0.7769\n",
      "Epoch 4/20\n",
      "18/18 [==============================] - 0s 2ms/step - loss: 0.0000e+00 - accuracy: 0.7769\n",
      "Epoch 5/20\n",
      "18/18 [==============================] - 0s 2ms/step - loss: 0.0000e+00 - accuracy: 0.7769\n",
      "Epoch 6/20\n",
      "18/18 [==============================] - 0s 2ms/step - loss: 0.0000e+00 - accuracy: 0.7769\n",
      "Epoch 7/20\n",
      "18/18 [==============================] - 0s 2ms/step - loss: 0.0000e+00 - accuracy: 0.7769\n",
      "Epoch 8/20\n",
      "18/18 [==============================] - 0s 3ms/step - loss: 0.0000e+00 - accuracy: 0.7769\n",
      "Epoch 9/20\n",
      "18/18 [==============================] - 0s 2ms/step - loss: 0.0000e+00 - accuracy: 0.7769\n",
      "Epoch 10/20\n",
      "18/18 [==============================] - 0s 3ms/step - loss: 0.0000e+00 - accuracy: 0.7769\n",
      "Epoch 11/20\n",
      "18/18 [==============================] - 0s 2ms/step - loss: 0.0000e+00 - accuracy: 0.7769\n",
      "Epoch 12/20\n",
      "18/18 [==============================] - 0s 2ms/step - loss: 0.0000e+00 - accuracy: 0.7769\n",
      "Epoch 13/20\n",
      "18/18 [==============================] - 0s 2ms/step - loss: 0.0000e+00 - accuracy: 0.7769\n",
      "Epoch 14/20\n",
      "18/18 [==============================] - 0s 3ms/step - loss: 0.0000e+00 - accuracy: 0.7769\n",
      "Epoch 15/20\n",
      "18/18 [==============================] - 0s 2ms/step - loss: 0.0000e+00 - accuracy: 0.7769\n",
      "Epoch 16/20\n",
      "18/18 [==============================] - 0s 3ms/step - loss: 0.0000e+00 - accuracy: 0.7769\n",
      "Epoch 17/20\n",
      "18/18 [==============================] - 0s 2ms/step - loss: 0.0000e+00 - accuracy: 0.7769\n",
      "Epoch 18/20\n",
      "18/18 [==============================] - 0s 2ms/step - loss: 0.0000e+00 - accuracy: 0.7769\n",
      "Epoch 19/20\n",
      "18/18 [==============================] - 0s 2ms/step - loss: 0.0000e+00 - accuracy: 0.7769\n",
      "Epoch 20/20\n",
      "18/18 [==============================] - 0s 2ms/step - loss: 0.0000e+00 - accuracy: 0.7769\n"
     ]
    },
    {
     "data": {
      "text/plain": [
       "<keras.callbacks.History at 0x7f9ba7b24690>"
      ]
     },
     "execution_count": 327,
     "metadata": {},
     "output_type": "execute_result"
    }
   ],
   "source": [
    "# Step 3: Model training\n",
    "X_train = np.asarray(X_train).astype(np.float32)\n",
    "y_train= np.asarray(y_train).astype(np.float32)\n",
    "model.fit(X_train, y_train, batch_size=128, epochs=20)"
   ]
  },
  {
   "cell_type": "code",
   "execution_count": 328,
   "metadata": {
    "colab": {
     "base_uri": "https://localhost:8080/"
    },
    "id": "MKj4BeiA6V0V",
    "outputId": "66dfe333-6752-4f3a-b856-95653710e040"
   },
   "outputs": [
    {
     "name": "stdout",
     "output_type": "stream",
     "text": [
      "71/71 [==============================] - 0s 2ms/step - loss: 0.0000e+00 - accuracy: 0.7769\n",
      "24/24 [==============================] - 0s 2ms/step - loss: 0.0000e+00 - accuracy: 0.7933\n",
      "\n",
      "Train Loss 0.0\n",
      "Train Accuracy 0.776888906955719\n",
      "\n",
      "Test Loss 0.0\n",
      "Test Accuracy 0.7933333516120911\n"
     ]
    }
   ],
   "source": [
    "# Step 4: Model evaluation\n",
    "\n",
    "X_test = np.asarray(X_test).astype(np.float32)\n",
    "y_test= np.asarray(y_test).astype(np.float32)\n",
    "\n",
    "train_loss_and_metrics = model.evaluate(X_train, y_train)\n",
    "test_loss_and_metrics = model.evaluate(X_test, y_test)\n",
    "print()\n",
    "\n",
    "print(\"Train Loss\", train_loss_and_metrics[0])\n",
    "print(\"Train Accuracy\", train_loss_and_metrics[1])\n",
    "print()\n",
    "\n",
    "print(\"Test Loss\", test_loss_and_metrics[0])\n",
    "print(\"Test Accuracy\", test_loss_and_metrics[1])"
   ]
  },
  {
   "cell_type": "code",
   "execution_count": 329,
   "metadata": {
    "colab": {
     "base_uri": "https://localhost:8080/"
    },
    "id": "2n8sR-b4Y4qR",
    "outputId": "03fa0323-0acd-49c3-df79-aa9959fdb725"
   },
   "outputs": [
    {
     "name": "stdout",
     "output_type": "stream",
     "text": [
      "8/8 [==============================] - 0s 2ms/step\n",
      "              precision    recall  f1-score   support\n",
      "\n",
      "         0.0       0.79      1.00      0.88       595\n",
      "         1.0       0.00      0.00      0.00       155\n",
      "\n",
      "    accuracy                           0.79       750\n",
      "   macro avg       0.40      0.50      0.44       750\n",
      "weighted avg       0.63      0.79      0.70       750\n",
      "\n"
     ]
    }
   ],
   "source": [
    "#Classifucation report\n",
    "y_pred = model.predict(X_test, batch_size=100, verbose=1)\n",
    "\n",
    "y_pred_bool = np.argmax(y_pred, axis=1)\n",
    "\n",
    "print(classification_report(y_test, y_pred_bool))"
   ]
  },
  {
   "cell_type": "code",
   "execution_count": 330,
   "metadata": {
    "colab": {
     "base_uri": "https://localhost:8080/"
    },
    "id": "yBihgkVkY4z8",
    "outputId": "279c2bd6-4e87-4e73-fb3e-064126e6e704"
   },
   "outputs": [
    {
     "name": "stdout",
     "output_type": "stream",
     "text": [
      "[[595   0]\n",
      " [155   0]]\n"
     ]
    }
   ],
   "source": [
    "#Confusion matrix\n",
    "print(confusion_matrix(y_test, y_pred_bool))"
   ]
  },
  {
   "cell_type": "code",
   "execution_count": 334,
   "metadata": {
    "colab": {
     "base_uri": "https://localhost:8080/"
    },
    "id": "vHAvbbKyYDB7",
    "outputId": "8813a89e-fdb7-411f-87c9-9b333eca443d"
   },
   "outputs": [
    {
     "name": "stdout",
     "output_type": "stream",
     "text": [
      "595  are classified correctly\n",
      "155  are classified incorrectly\n"
     ]
    }
   ],
   "source": [
    "predict_x=model.predict(X_test) \n",
    "predicted_class=np.argmax(predict_x,axis=1)\n",
    "\n",
    "h=np.reshape(predicted_class,(-1))\n",
    "correct_indices=np.nonzero(h==np.array(y_test))[0]\n",
    "incorrect_indices=np.nonzero(h!=np.array(y_test))[0]\n",
    "print(len(correct_indices),\" are classified correctly\")\n",
    "print(len(incorrect_indices),\" are classified incorrectly\")"
   ]
  },
  {
   "cell_type": "code",
   "execution_count": 339,
   "metadata": {
    "colab": {
     "base_uri": "https://localhost:8080/",
     "height": 465
    },
    "id": "6Jmv0GKags95",
    "outputId": "2ef60c8d-8204-4b19-ca3d-45f9e0365d22"
   },
   "outputs": [
    {
     "data": {
      "text/html": [
       "<div>\n",
       "<style scoped>\n",
       "    .dataframe tbody tr th:only-of-type {\n",
       "        vertical-align: middle;\n",
       "    }\n",
       "\n",
       "    .dataframe tbody tr th {\n",
       "        vertical-align: top;\n",
       "    }\n",
       "\n",
       "    .dataframe thead th {\n",
       "        text-align: right;\n",
       "    }\n",
       "</style>\n",
       "<table border=\"1\" class=\"dataframe\">\n",
       "  <thead>\n",
       "    <tr style=\"text-align: right;\">\n",
       "      <th></th>\n",
       "      <th>Model Name</th>\n",
       "      <th>KNN Classifier-HP</th>\n",
       "      <th>Logistic Regression-HP</th>\n",
       "      <th>Linear SVC</th>\n",
       "      <th>Linear SVC-HP</th>\n",
       "      <th>SVC Poly-HP</th>\n",
       "      <th>SVC -RBF-HP</th>\n",
       "      <th>SVC -Kernel Linear-HP</th>\n",
       "      <th>Decision tree</th>\n",
       "      <th>Decision tree_Hp</th>\n",
       "      <th>Softmax Regression-Hp</th>\n",
       "      <th>Voting- Hard- Decision Tree</th>\n",
       "      <th>Voting - Hard- SVC poly</th>\n",
       "      <th>Voting - Soft- Decision Tree</th>\n",
       "      <th>Bagging - Decision Tree</th>\n",
       "      <th>Pasting Decision tree</th>\n",
       "      <th>Bagging - Logistc Regression</th>\n",
       "      <th>Pasting - Logistic Regression</th>\n",
       "      <th>Ada Boosting-Decision Tree</th>\n",
       "      <th>Ada Boosting - Softmax</th>\n",
       "      <th>PCA- KNN</th>\n",
       "      <th>PCA-Logistic Regression</th>\n",
       "      <th>PCA- SVC Linear kernel</th>\n",
       "      <th>PCA- SVC Poly</th>\n",
       "      <th>PCA- SVC RBF</th>\n",
       "      <th>PCA- SVC kernel-Linear- HP</th>\n",
       "      <th>PCA -Decision Tree</th>\n",
       "      <th>PCA - Softmax</th>\n",
       "      <th>Gradient Boosting</th>\n",
       "      <th>Tensorflow</th>\n",
       "    </tr>\n",
       "  </thead>\n",
       "  <tbody>\n",
       "    <tr>\n",
       "      <th>0</th>\n",
       "      <td>Accuracy Score</td>\n",
       "      <td>0.781333</td>\n",
       "      <td>0.788</td>\n",
       "      <td>0.788</td>\n",
       "      <td>0.788</td>\n",
       "      <td>0.7866</td>\n",
       "      <td>0.806</td>\n",
       "      <td>0.455</td>\n",
       "      <td>0.625</td>\n",
       "      <td>0.77</td>\n",
       "      <td>0.788</td>\n",
       "      <td>0.7733</td>\n",
       "      <td>0.233</td>\n",
       "      <td>0.7733</td>\n",
       "      <td>0.77</td>\n",
       "      <td>0.77</td>\n",
       "      <td>0.77</td>\n",
       "      <td>0.77</td>\n",
       "      <td>NaN</td>\n",
       "      <td>NaN</td>\n",
       "      <td>0.752</td>\n",
       "      <td>0.604</td>\n",
       "      <td>0.7733</td>\n",
       "      <td>0.268</td>\n",
       "      <td>0.6688</td>\n",
       "      <td>0.541</td>\n",
       "      <td>0.773</td>\n",
       "      <td>NaN</td>\n",
       "      <td>0.133</td>\n",
       "      <td>NaN</td>\n",
       "    </tr>\n",
       "    <tr>\n",
       "      <th>1</th>\n",
       "      <td>Recall- Weighted avg</td>\n",
       "      <td>0.780000</td>\n",
       "      <td>0.790</td>\n",
       "      <td>0.790</td>\n",
       "      <td>0.790</td>\n",
       "      <td>0.4400</td>\n",
       "      <td>0.590</td>\n",
       "      <td>0.450</td>\n",
       "      <td>0.630</td>\n",
       "      <td>0.79</td>\n",
       "      <td>0.790</td>\n",
       "      <td>0.7700</td>\n",
       "      <td>0.230</td>\n",
       "      <td>0.7700</td>\n",
       "      <td>0.77</td>\n",
       "      <td>0.77</td>\n",
       "      <td>0.77</td>\n",
       "      <td>0.77</td>\n",
       "      <td>0.76</td>\n",
       "      <td>0.77</td>\n",
       "      <td>0.753</td>\n",
       "      <td>0.604</td>\n",
       "      <td>0.7700</td>\n",
       "      <td>0.270</td>\n",
       "      <td>0.6780</td>\n",
       "      <td>0.540</td>\n",
       "      <td>0.770</td>\n",
       "      <td>0.8</td>\n",
       "      <td>0.680</td>\n",
       "      <td>NaN</td>\n",
       "    </tr>\n",
       "    <tr>\n",
       "      <th>2</th>\n",
       "      <td>Precision- Weighted</td>\n",
       "      <td>0.980000</td>\n",
       "      <td>1.000</td>\n",
       "      <td>1.000</td>\n",
       "      <td>1.000</td>\n",
       "      <td>0.5600</td>\n",
       "      <td>0.550</td>\n",
       "      <td>0.590</td>\n",
       "      <td>0.600</td>\n",
       "      <td>1.00</td>\n",
       "      <td>1.000</td>\n",
       "      <td>1.0000</td>\n",
       "      <td>0.980</td>\n",
       "      <td>1.0000</td>\n",
       "      <td>1.00</td>\n",
       "      <td>1.00</td>\n",
       "      <td>1.00</td>\n",
       "      <td>1.00</td>\n",
       "      <td>0.96</td>\n",
       "      <td>1.00</td>\n",
       "      <td>0.930</td>\n",
       "      <td>0.570</td>\n",
       "      <td>1.0000</td>\n",
       "      <td>0.930</td>\n",
       "      <td>0.6500</td>\n",
       "      <td>0.500</td>\n",
       "      <td>1.000</td>\n",
       "      <td>1.0</td>\n",
       "      <td>0.700</td>\n",
       "      <td>NaN</td>\n",
       "    </tr>\n",
       "    <tr>\n",
       "      <th>3</th>\n",
       "      <td>Recall-Macro Avg</td>\n",
       "      <td>0.390000</td>\n",
       "      <td>0.390</td>\n",
       "      <td>0.390</td>\n",
       "      <td>0.390</td>\n",
       "      <td>0.5200</td>\n",
       "      <td>0.470</td>\n",
       "      <td>0.530</td>\n",
       "      <td>0.480</td>\n",
       "      <td>0.39</td>\n",
       "      <td>0.390</td>\n",
       "      <td>0.3900</td>\n",
       "      <td>0.540</td>\n",
       "      <td>0.3900</td>\n",
       "      <td>0.39</td>\n",
       "      <td>0.39</td>\n",
       "      <td>0.39</td>\n",
       "      <td>0.39</td>\n",
       "      <td>0.49</td>\n",
       "      <td>0.39</td>\n",
       "      <td>0.470</td>\n",
       "      <td>0.520</td>\n",
       "      <td>0.3900</td>\n",
       "      <td>0.540</td>\n",
       "      <td>0.5100</td>\n",
       "      <td>0.480</td>\n",
       "      <td>0.390</td>\n",
       "      <td>0.4</td>\n",
       "      <td>0.480</td>\n",
       "      <td>NaN</td>\n",
       "    </tr>\n",
       "    <tr>\n",
       "      <th>4</th>\n",
       "      <td>Correctly Predicted</td>\n",
       "      <td>593.000000</td>\n",
       "      <td>595.000</td>\n",
       "      <td>595.000</td>\n",
       "      <td>595.000</td>\n",
       "      <td>382.0000</td>\n",
       "      <td>454.000</td>\n",
       "      <td>492.000</td>\n",
       "      <td>480.000</td>\n",
       "      <td>595.00</td>\n",
       "      <td>594.000</td>\n",
       "      <td>595.0000</td>\n",
       "      <td>160.000</td>\n",
       "      <td>595.0000</td>\n",
       "      <td>595.00</td>\n",
       "      <td>595.00</td>\n",
       "      <td>595.00</td>\n",
       "      <td>595.00</td>\n",
       "      <td>591.00</td>\n",
       "      <td>595.00</td>\n",
       "      <td>595.000</td>\n",
       "      <td>379.000</td>\n",
       "      <td>595.0000</td>\n",
       "      <td>200.000</td>\n",
       "      <td>330.0000</td>\n",
       "      <td>479.000</td>\n",
       "      <td>593.000</td>\n",
       "      <td>595.0</td>\n",
       "      <td>509.000</td>\n",
       "      <td>595.0</td>\n",
       "    </tr>\n",
       "    <tr>\n",
       "      <th>5</th>\n",
       "      <td>Incorrectly Predicted</td>\n",
       "      <td>157.000000</td>\n",
       "      <td>155.000</td>\n",
       "      <td>155.000</td>\n",
       "      <td>155.000</td>\n",
       "      <td>368.0000</td>\n",
       "      <td>296.000</td>\n",
       "      <td>258.000</td>\n",
       "      <td>270.000</td>\n",
       "      <td>155.00</td>\n",
       "      <td>156.000</td>\n",
       "      <td>155.0000</td>\n",
       "      <td>590.000</td>\n",
       "      <td>155.0000</td>\n",
       "      <td>155.00</td>\n",
       "      <td>155.00</td>\n",
       "      <td>155.00</td>\n",
       "      <td>155.00</td>\n",
       "      <td>159.00</td>\n",
       "      <td>155.00</td>\n",
       "      <td>155.000</td>\n",
       "      <td>371.000</td>\n",
       "      <td>155.0000</td>\n",
       "      <td>550.000</td>\n",
       "      <td>420.0000</td>\n",
       "      <td>271.000</td>\n",
       "      <td>157.000</td>\n",
       "      <td>155.0</td>\n",
       "      <td>241.000</td>\n",
       "      <td>155.0</td>\n",
       "    </tr>\n",
       "  </tbody>\n",
       "</table>\n",
       "</div>"
      ],
      "text/plain": [
       "              Model Name  KNN Classifier-HP  ...  Gradient Boosting  Tensorflow\n",
       "0         Accuracy Score           0.781333  ...              0.133         NaN\n",
       "1   Recall- Weighted avg           0.780000  ...              0.680         NaN\n",
       "2    Precision- Weighted           0.980000  ...              0.700         NaN\n",
       "3       Recall-Macro Avg           0.390000  ...              0.480         NaN\n",
       "4    Correctly Predicted         593.000000  ...            509.000       595.0\n",
       "5  Incorrectly Predicted         157.000000  ...            241.000       155.0\n",
       "\n",
       "[6 rows x 30 columns]"
      ]
     },
     "execution_count": 339,
     "metadata": {},
     "output_type": "execute_result"
    }
   ],
   "source": [
    "#Final Result Compilation\n",
    "result= pd.read_excel(\"Results.xlsx\")\n",
    "result"
   ]
  },
  {
   "cell_type": "markdown",
   "metadata": {
    "id": "YTAkL0ZPrgbJ"
   },
   "source": [
    "![image.png](data:image/png;base64,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)"
   ]
  },
  {
   "cell_type": "markdown",
   "metadata": {
    "id": "s75jXB3yhqlu"
   },
   "source": [
    "###Comparing Results\n",
    "When we see the results above and compare the number of correctlypredicted and incorrectly predicted values , We observe that on applying boosting , gradient or PCA improves the results. There thought not a great chnage in Recall , but the number of correcly predicted Potential Customers. In the previous cases the value wsa zero, now we are seeing values in the field.\n",
    "For SVC poly the recall score incresaed, but SVC liner kernel it reduced"
   ]
  },
  {
   "cell_type": "markdown",
   "metadata": {
    "id": "EP8-F1LILbAU"
   },
   "source": [
    "#Project 2 Report\n",
    "### This is the continuation of project 1. We are continuing the same dataset as used in Project 1.\n",
    "Hard voting on SVC poly\n",
    "When we are appling Hard Voting on svc poly, we get a\n",
    "Predicted Correctly: 160\n",
    "Predictly Incorrectly: 590\n",
    "\n",
    "\n",
    "Soft voting on Decision Tree\n",
    "When we are appling soft Voting on Decision Tree, we get a\n",
    "Predicted Correctly: 595\n",
    "Predictly Incorrectly: 155\n",
    "\n",
    "Baging and Pasting was done on Decision Tree and Logistic Regression\n",
    "\n",
    "Ada boosting on Decision Tree\n",
    "When we are appling Ada Boosting on Decision Tree, we get a\n",
    "Predicted Correctly: 595\n",
    "Predictly Incorrectly: 155\n",
    "\n",
    "Ada boosting with Softmax\n",
    "When we are appling Ada Boosting with Soft max, we get a\n",
    "Predicted Correctly: 595\n",
    "Predictly Incorrectly: 155\n",
    "\n",
    "Gradient Boosting\n",
    "When we are appling Gradinet Boosting with best parameters {'learning_rate': 1, 'max_depth': 3, 'n_estimators': 1000}, we get a\n",
    "Predicted Correctly: 509\n",
    "Predictly Incorrectly: 241\n",
    "\n",
    "PCA With KNN\n",
    "Whne we are appling PCA on KNN, we get a\n",
    "Accuracy Score : 0.79\n",
    "Predicted Correctly: 595\n",
    "Predictly Incorrectly: 155\n",
    "\n",
    "PCA With Logistic Regression\n",
    "Whne we are appling PCA on Logistic Regression, we get a\n",
    "Accuracy Score : 0.5053\n",
    "Predicted Correctly: 379\n",
    "Predictly Incorrectly: 371\n",
    "\n",
    "PCA With Linear SVC\n",
    "Whne we are appling PCA on Linear SVC, we get a\n",
    "Accuracy Score : 0.7933\n",
    "Predicted Correctly: 595\n",
    "Predictly Incorrectly: 155\n",
    "\n",
    "PCA With SVC Kernel -Poly\n",
    "Whne we are appling PCA on SVC Kernel -Poly and using Best parameters: Best parameters: {'C': 0.001, 'gamma': 0.001, 'max_iter': 450} , we get a\n",
    "Accuracy Score : 0.266\n",
    "Predicted Correctly: 200\n",
    "Predictly Incorrectly: 550\n",
    "\n",
    "PCA With SVC Kernel -RBF\n",
    "Whne we are appling PCA on SVC Kernel -RBF and using best parameters SVC(C=0.001, gamma=0.001, max_iter=450),Best parameters: {'C': 0.001, 'gamma': 0.001, 'max_iter': 450} , we get a\n",
    "Accuracy Score : 0.44\n",
    "Predicted Correctly: 330\n",
    "Predictly Incorrectly: 420\n",
    "\n",
    "PCA With SVC Kernel -Linear\n",
    "Whne we are appling PCA on SVC Kernel -Linear and using best parameters : {'C': 0.001, 'gamma': 0.001, 'max_iter': 450} , we get a\n",
    "Accuracy Score : 0.63866\n",
    "Predicted Correctly: 479\n",
    "Predictly Incorrectly: 271\n",
    "\n",
    "PCA With Decision Tree\n",
    "Whne we are appling PCA on Decision Tree , we get a\n",
    "Train score :0.781\n",
    "Test score : 0.791\n",
    "Predicted Correctly: 593\n",
    "Predictly Incorrectly: 155\n",
    "\n",
    "PCA on softmax\n",
    "Whne we are appling PCA on softmax , we get a\n",
    "Train score :0.7769\n",
    "Test score : 0.7933\n",
    "Predicted Correctly: 595\n",
    "Predictly Incorrectly: 155\n",
    "\n",
    "Tensorflow.\n",
    "Next , in the modelling we have tensor flow model. For this we are using relu activation and 3 layers in between. \n",
    "It is predicting a total of 595 correxctly and 155 incorrectly.\n",
    "\n",
    "The Best model as recall score in SVC poly with PCA with a value of 0.54"
   ]
  },
  {
   "cell_type": "code",
   "execution_count": null,
   "metadata": {
    "id": "uR7jehcngmGJ"
   },
   "outputs": [],
   "source": []
  }
 ],
 "metadata": {
  "colab": {
   "collapsed_sections": [],
   "name": "Classification Project _1 and 2_Shrama_Vallurupalli",
   "provenance": []
  },
  "kernelspec": {
   "display_name": "Python 3 (ipykernel)",
   "language": "python",
   "name": "python3"
  },
  "language_info": {
   "codemirror_mode": {
    "name": "ipython",
    "version": 3
   },
   "file_extension": ".py",
   "mimetype": "text/x-python",
   "name": "python",
   "nbconvert_exporter": "python",
   "pygments_lexer": "ipython3",
   "version": "3.8.11"
  }
 },
 "nbformat": 4,
 "nbformat_minor": 1
}
